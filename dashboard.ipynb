{
 "cells": [
  {
   "cell_type": "markdown",
   "metadata": {},
   "source": [
    "# San Francisco Rental Prices Dashboard\n",
    "\n",
    "In this notebook, you will compile the visualizations from the previous analysis into functions that can be used for a Panel dashboard."
   ]
  },
  {
   "cell_type": "code",
   "execution_count": 27,
   "metadata": {},
   "outputs": [],
   "source": [
    "# imports\n",
    "import panel as pn\n",
    "pn.extension('plotly')\n",
    "import plotly.express as px\n",
    "import pandas as pd\n",
    "import hvplot.pandas\n",
    "import matplotlib.pyplot as plt\n",
    "import os\n",
    "from pathlib import Path\n",
    "from dotenv import load_dotenv"
   ]
  },
  {
   "cell_type": "code",
   "execution_count": 28,
   "metadata": {},
   "outputs": [],
   "source": [
    "# Read the Mapbox API key\n",
    "load_dotenv()\n",
    "mapbox_token = os.getenv(\"MAPBOX_API_KEY\")"
   ]
  },
  {
   "cell_type": "markdown",
   "metadata": {},
   "source": [
    "# Import Data"
   ]
  },
  {
   "cell_type": "code",
   "execution_count": 29,
   "metadata": {},
   "outputs": [],
   "source": [
    "# Import the CSVs to Pandas DataFrames\n",
    "file_path = Path(\"Data/sfo_neighborhoods_census_data.csv\")\n",
    "sfo_data = pd.read_csv(file_path, index_col=\"year\")\n",
    "\n",
    "file_path = Path(\"Data/neighborhoods_coordinates.csv\")\n",
    "df_neighborhood_locations = pd.read_csv(file_path)"
   ]
  },
  {
   "cell_type": "code",
   "execution_count": 30,
   "metadata": {},
   "outputs": [
    {
     "data": {
      "text/html": [
       "<div>\n",
       "<style scoped>\n",
       "    .dataframe tbody tr th:only-of-type {\n",
       "        vertical-align: middle;\n",
       "    }\n",
       "\n",
       "    .dataframe tbody tr th {\n",
       "        vertical-align: top;\n",
       "    }\n",
       "\n",
       "    .dataframe thead th {\n",
       "        text-align: right;\n",
       "    }\n",
       "</style>\n",
       "<table border=\"1\" class=\"dataframe\">\n",
       "  <thead>\n",
       "    <tr style=\"text-align: right;\">\n",
       "      <th></th>\n",
       "      <th>neighborhood</th>\n",
       "      <th>sale_price_sqr_foot</th>\n",
       "      <th>housing_units</th>\n",
       "      <th>gross_rent</th>\n",
       "    </tr>\n",
       "    <tr>\n",
       "      <th>year</th>\n",
       "      <th></th>\n",
       "      <th></th>\n",
       "      <th></th>\n",
       "      <th></th>\n",
       "    </tr>\n",
       "  </thead>\n",
       "  <tbody>\n",
       "    <tr>\n",
       "      <th>2010</th>\n",
       "      <td>Alamo Square</td>\n",
       "      <td>291.182945</td>\n",
       "      <td>372560</td>\n",
       "      <td>1239</td>\n",
       "    </tr>\n",
       "    <tr>\n",
       "      <th>2010</th>\n",
       "      <td>Anza Vista</td>\n",
       "      <td>267.932583</td>\n",
       "      <td>372560</td>\n",
       "      <td>1239</td>\n",
       "    </tr>\n",
       "    <tr>\n",
       "      <th>2010</th>\n",
       "      <td>Bayview</td>\n",
       "      <td>170.098665</td>\n",
       "      <td>372560</td>\n",
       "      <td>1239</td>\n",
       "    </tr>\n",
       "    <tr>\n",
       "      <th>2010</th>\n",
       "      <td>Buena Vista Park</td>\n",
       "      <td>347.394919</td>\n",
       "      <td>372560</td>\n",
       "      <td>1239</td>\n",
       "    </tr>\n",
       "    <tr>\n",
       "      <th>2010</th>\n",
       "      <td>Central Richmond</td>\n",
       "      <td>319.027623</td>\n",
       "      <td>372560</td>\n",
       "      <td>1239</td>\n",
       "    </tr>\n",
       "    <tr>\n",
       "      <th>2010</th>\n",
       "      <td>Central Sunset</td>\n",
       "      <td>418.172493</td>\n",
       "      <td>372560</td>\n",
       "      <td>1239</td>\n",
       "    </tr>\n",
       "    <tr>\n",
       "      <th>2010</th>\n",
       "      <td>Corona Heights</td>\n",
       "      <td>369.359338</td>\n",
       "      <td>372560</td>\n",
       "      <td>1239</td>\n",
       "    </tr>\n",
       "    <tr>\n",
       "      <th>2010</th>\n",
       "      <td>Cow Hollow</td>\n",
       "      <td>569.379968</td>\n",
       "      <td>372560</td>\n",
       "      <td>1239</td>\n",
       "    </tr>\n",
       "    <tr>\n",
       "      <th>2010</th>\n",
       "      <td>Croker Amazon</td>\n",
       "      <td>165.645730</td>\n",
       "      <td>372560</td>\n",
       "      <td>1239</td>\n",
       "    </tr>\n",
       "    <tr>\n",
       "      <th>2010</th>\n",
       "      <td>Diamond Heights</td>\n",
       "      <td>456.930822</td>\n",
       "      <td>372560</td>\n",
       "      <td>1239</td>\n",
       "    </tr>\n",
       "    <tr>\n",
       "      <th>2010</th>\n",
       "      <td>Downtown</td>\n",
       "      <td>241.804552</td>\n",
       "      <td>372560</td>\n",
       "      <td>1239</td>\n",
       "    </tr>\n",
       "    <tr>\n",
       "      <th>2010</th>\n",
       "      <td>Eureka Valley/Dolores Heights</td>\n",
       "      <td>403.118313</td>\n",
       "      <td>372560</td>\n",
       "      <td>1239</td>\n",
       "    </tr>\n",
       "    <tr>\n",
       "      <th>2010</th>\n",
       "      <td>Excelsior</td>\n",
       "      <td>364.928336</td>\n",
       "      <td>372560</td>\n",
       "      <td>1239</td>\n",
       "    </tr>\n",
       "    <tr>\n",
       "      <th>2010</th>\n",
       "      <td>Financial District North</td>\n",
       "      <td>401.749967</td>\n",
       "      <td>372560</td>\n",
       "      <td>1239</td>\n",
       "    </tr>\n",
       "    <tr>\n",
       "      <th>2010</th>\n",
       "      <td>Financial District South</td>\n",
       "      <td>162.821210</td>\n",
       "      <td>372560</td>\n",
       "      <td>1239</td>\n",
       "    </tr>\n",
       "    <tr>\n",
       "      <th>2010</th>\n",
       "      <td>Forest Knolls</td>\n",
       "      <td>209.049327</td>\n",
       "      <td>372560</td>\n",
       "      <td>1239</td>\n",
       "    </tr>\n",
       "    <tr>\n",
       "      <th>2010</th>\n",
       "      <td>Glen Park</td>\n",
       "      <td>715.586438</td>\n",
       "      <td>372560</td>\n",
       "      <td>1239</td>\n",
       "    </tr>\n",
       "    <tr>\n",
       "      <th>2010</th>\n",
       "      <td>Golden Gate Heights</td>\n",
       "      <td>551.801119</td>\n",
       "      <td>372560</td>\n",
       "      <td>1239</td>\n",
       "    </tr>\n",
       "    <tr>\n",
       "      <th>2010</th>\n",
       "      <td>Haight Ashbury</td>\n",
       "      <td>254.473779</td>\n",
       "      <td>372560</td>\n",
       "      <td>1239</td>\n",
       "    </tr>\n",
       "    <tr>\n",
       "      <th>2010</th>\n",
       "      <td>Hayes Valley</td>\n",
       "      <td>272.284980</td>\n",
       "      <td>372560</td>\n",
       "      <td>1239</td>\n",
       "    </tr>\n",
       "    <tr>\n",
       "      <th>2010</th>\n",
       "      <td>Hunters Point</td>\n",
       "      <td>170.624920</td>\n",
       "      <td>372560</td>\n",
       "      <td>1239</td>\n",
       "    </tr>\n",
       "    <tr>\n",
       "      <th>2010</th>\n",
       "      <td>Ingleside</td>\n",
       "      <td>275.056686</td>\n",
       "      <td>372560</td>\n",
       "      <td>1239</td>\n",
       "    </tr>\n",
       "    <tr>\n",
       "      <th>2010</th>\n",
       "      <td>Inner Mission</td>\n",
       "      <td>238.350020</td>\n",
       "      <td>372560</td>\n",
       "      <td>1239</td>\n",
       "    </tr>\n",
       "    <tr>\n",
       "      <th>2010</th>\n",
       "      <td>Inner Parkside</td>\n",
       "      <td>199.702004</td>\n",
       "      <td>372560</td>\n",
       "      <td>1239</td>\n",
       "    </tr>\n",
       "    <tr>\n",
       "      <th>2010</th>\n",
       "      <td>Inner Richmond</td>\n",
       "      <td>285.822358</td>\n",
       "      <td>372560</td>\n",
       "      <td>1239</td>\n",
       "    </tr>\n",
       "    <tr>\n",
       "      <th>2010</th>\n",
       "      <td>Inner Sunset</td>\n",
       "      <td>275.769730</td>\n",
       "      <td>372560</td>\n",
       "      <td>1239</td>\n",
       "    </tr>\n",
       "    <tr>\n",
       "      <th>2010</th>\n",
       "      <td>Jordan Park/Laurel Heights</td>\n",
       "      <td>419.887812</td>\n",
       "      <td>372560</td>\n",
       "      <td>1239</td>\n",
       "    </tr>\n",
       "    <tr>\n",
       "      <th>2010</th>\n",
       "      <td>Lake --The Presidio</td>\n",
       "      <td>320.796910</td>\n",
       "      <td>372560</td>\n",
       "      <td>1239</td>\n",
       "    </tr>\n",
       "    <tr>\n",
       "      <th>2010</th>\n",
       "      <td>Lone Mountain</td>\n",
       "      <td>398.458876</td>\n",
       "      <td>372560</td>\n",
       "      <td>1239</td>\n",
       "    </tr>\n",
       "    <tr>\n",
       "      <th>2010</th>\n",
       "      <td>Lower Pacific Heights</td>\n",
       "      <td>374.057636</td>\n",
       "      <td>372560</td>\n",
       "      <td>1239</td>\n",
       "    </tr>\n",
       "    <tr>\n",
       "      <th>...</th>\n",
       "      <td>...</td>\n",
       "      <td>...</td>\n",
       "      <td>...</td>\n",
       "      <td>...</td>\n",
       "    </tr>\n",
       "    <tr>\n",
       "      <th>2016</th>\n",
       "      <td>Inner Mission</td>\n",
       "      <td>647.770447</td>\n",
       "      <td>384242</td>\n",
       "      <td>4390</td>\n",
       "    </tr>\n",
       "    <tr>\n",
       "      <th>2016</th>\n",
       "      <td>Inner Parkside</td>\n",
       "      <td>518.112650</td>\n",
       "      <td>384242</td>\n",
       "      <td>4390</td>\n",
       "    </tr>\n",
       "    <tr>\n",
       "      <th>2016</th>\n",
       "      <td>Inner Richmond</td>\n",
       "      <td>403.311132</td>\n",
       "      <td>384242</td>\n",
       "      <td>4390</td>\n",
       "    </tr>\n",
       "    <tr>\n",
       "      <th>2016</th>\n",
       "      <td>Inner Sunset</td>\n",
       "      <td>445.923828</td>\n",
       "      <td>384242</td>\n",
       "      <td>4390</td>\n",
       "    </tr>\n",
       "    <tr>\n",
       "      <th>2016</th>\n",
       "      <td>Jordan Park/Laurel Heights</td>\n",
       "      <td>704.566419</td>\n",
       "      <td>384242</td>\n",
       "      <td>4390</td>\n",
       "    </tr>\n",
       "    <tr>\n",
       "      <th>2016</th>\n",
       "      <td>Lower Pacific Heights</td>\n",
       "      <td>636.430770</td>\n",
       "      <td>384242</td>\n",
       "      <td>4390</td>\n",
       "    </tr>\n",
       "    <tr>\n",
       "      <th>2016</th>\n",
       "      <td>Marina</td>\n",
       "      <td>431.944602</td>\n",
       "      <td>384242</td>\n",
       "      <td>4390</td>\n",
       "    </tr>\n",
       "    <tr>\n",
       "      <th>2016</th>\n",
       "      <td>Merced Heights</td>\n",
       "      <td>1416.666667</td>\n",
       "      <td>384242</td>\n",
       "      <td>4390</td>\n",
       "    </tr>\n",
       "    <tr>\n",
       "      <th>2016</th>\n",
       "      <td>Mission Bay</td>\n",
       "      <td>924.569116</td>\n",
       "      <td>384242</td>\n",
       "      <td>4390</td>\n",
       "    </tr>\n",
       "    <tr>\n",
       "      <th>2016</th>\n",
       "      <td>Mission Terrace</td>\n",
       "      <td>879.017013</td>\n",
       "      <td>384242</td>\n",
       "      <td>4390</td>\n",
       "    </tr>\n",
       "    <tr>\n",
       "      <th>2016</th>\n",
       "      <td>Nob Hill</td>\n",
       "      <td>777.008315</td>\n",
       "      <td>384242</td>\n",
       "      <td>4390</td>\n",
       "    </tr>\n",
       "    <tr>\n",
       "      <th>2016</th>\n",
       "      <td>Noe Valley</td>\n",
       "      <td>799.495651</td>\n",
       "      <td>384242</td>\n",
       "      <td>4390</td>\n",
       "    </tr>\n",
       "    <tr>\n",
       "      <th>2016</th>\n",
       "      <td>North Beach</td>\n",
       "      <td>407.553322</td>\n",
       "      <td>384242</td>\n",
       "      <td>4390</td>\n",
       "    </tr>\n",
       "    <tr>\n",
       "      <th>2016</th>\n",
       "      <td>Outer Mission</td>\n",
       "      <td>40.772625</td>\n",
       "      <td>384242</td>\n",
       "      <td>4390</td>\n",
       "    </tr>\n",
       "    <tr>\n",
       "      <th>2016</th>\n",
       "      <td>Outer Parkside</td>\n",
       "      <td>732.720684</td>\n",
       "      <td>384242</td>\n",
       "      <td>4390</td>\n",
       "    </tr>\n",
       "    <tr>\n",
       "      <th>2016</th>\n",
       "      <td>Outer Richmond</td>\n",
       "      <td>1196.645437</td>\n",
       "      <td>384242</td>\n",
       "      <td>4390</td>\n",
       "    </tr>\n",
       "    <tr>\n",
       "      <th>2016</th>\n",
       "      <td>Outer Sunset</td>\n",
       "      <td>510.576907</td>\n",
       "      <td>384242</td>\n",
       "      <td>4390</td>\n",
       "    </tr>\n",
       "    <tr>\n",
       "      <th>2016</th>\n",
       "      <td>Pacific Heights</td>\n",
       "      <td>996.389364</td>\n",
       "      <td>384242</td>\n",
       "      <td>4390</td>\n",
       "    </tr>\n",
       "    <tr>\n",
       "      <th>2016</th>\n",
       "      <td>Park North</td>\n",
       "      <td>211.301370</td>\n",
       "      <td>384242</td>\n",
       "      <td>4390</td>\n",
       "    </tr>\n",
       "    <tr>\n",
       "      <th>2016</th>\n",
       "      <td>Parnassus/Ashbury Heights</td>\n",
       "      <td>1207.997485</td>\n",
       "      <td>384242</td>\n",
       "      <td>4390</td>\n",
       "    </tr>\n",
       "    <tr>\n",
       "      <th>2016</th>\n",
       "      <td>Potrero Hill</td>\n",
       "      <td>707.651609</td>\n",
       "      <td>384242</td>\n",
       "      <td>4390</td>\n",
       "    </tr>\n",
       "    <tr>\n",
       "      <th>2016</th>\n",
       "      <td>Presidio Heights</td>\n",
       "      <td>1465.968586</td>\n",
       "      <td>384242</td>\n",
       "      <td>4390</td>\n",
       "    </tr>\n",
       "    <tr>\n",
       "      <th>2016</th>\n",
       "      <td>Russian Hill</td>\n",
       "      <td>1024.339877</td>\n",
       "      <td>384242</td>\n",
       "      <td>4390</td>\n",
       "    </tr>\n",
       "    <tr>\n",
       "      <th>2016</th>\n",
       "      <td>South of Market</td>\n",
       "      <td>531.136374</td>\n",
       "      <td>384242</td>\n",
       "      <td>4390</td>\n",
       "    </tr>\n",
       "    <tr>\n",
       "      <th>2016</th>\n",
       "      <td>Sunnyside</td>\n",
       "      <td>751.173709</td>\n",
       "      <td>384242</td>\n",
       "      <td>4390</td>\n",
       "    </tr>\n",
       "    <tr>\n",
       "      <th>2016</th>\n",
       "      <td>Telegraph Hill</td>\n",
       "      <td>903.049771</td>\n",
       "      <td>384242</td>\n",
       "      <td>4390</td>\n",
       "    </tr>\n",
       "    <tr>\n",
       "      <th>2016</th>\n",
       "      <td>Twin Peaks</td>\n",
       "      <td>970.085470</td>\n",
       "      <td>384242</td>\n",
       "      <td>4390</td>\n",
       "    </tr>\n",
       "    <tr>\n",
       "      <th>2016</th>\n",
       "      <td>Van Ness/ Civic Center</td>\n",
       "      <td>552.602567</td>\n",
       "      <td>384242</td>\n",
       "      <td>4390</td>\n",
       "    </tr>\n",
       "    <tr>\n",
       "      <th>2016</th>\n",
       "      <td>Visitacion Valley</td>\n",
       "      <td>328.319007</td>\n",
       "      <td>384242</td>\n",
       "      <td>4390</td>\n",
       "    </tr>\n",
       "    <tr>\n",
       "      <th>2016</th>\n",
       "      <td>Westwood Park</td>\n",
       "      <td>631.195426</td>\n",
       "      <td>384242</td>\n",
       "      <td>4390</td>\n",
       "    </tr>\n",
       "  </tbody>\n",
       "</table>\n",
       "<p>397 rows × 4 columns</p>\n",
       "</div>"
      ],
      "text/plain": [
       "                       neighborhood  sale_price_sqr_foot  housing_units  \\\n",
       "year                                                                      \n",
       "2010                   Alamo Square           291.182945         372560   \n",
       "2010                     Anza Vista           267.932583         372560   \n",
       "2010                        Bayview           170.098665         372560   \n",
       "2010               Buena Vista Park           347.394919         372560   \n",
       "2010               Central Richmond           319.027623         372560   \n",
       "2010                 Central Sunset           418.172493         372560   \n",
       "2010                 Corona Heights           369.359338         372560   \n",
       "2010                     Cow Hollow           569.379968         372560   \n",
       "2010                  Croker Amazon           165.645730         372560   \n",
       "2010                Diamond Heights           456.930822         372560   \n",
       "2010                      Downtown            241.804552         372560   \n",
       "2010  Eureka Valley/Dolores Heights           403.118313         372560   \n",
       "2010                      Excelsior           364.928336         372560   \n",
       "2010       Financial District North           401.749967         372560   \n",
       "2010       Financial District South           162.821210         372560   \n",
       "2010                  Forest Knolls           209.049327         372560   \n",
       "2010                      Glen Park           715.586438         372560   \n",
       "2010            Golden Gate Heights           551.801119         372560   \n",
       "2010                 Haight Ashbury           254.473779         372560   \n",
       "2010                   Hayes Valley           272.284980         372560   \n",
       "2010                  Hunters Point           170.624920         372560   \n",
       "2010                     Ingleside            275.056686         372560   \n",
       "2010                  Inner Mission           238.350020         372560   \n",
       "2010                 Inner Parkside           199.702004         372560   \n",
       "2010                 Inner Richmond           285.822358         372560   \n",
       "2010                   Inner Sunset           275.769730         372560   \n",
       "2010     Jordan Park/Laurel Heights           419.887812         372560   \n",
       "2010            Lake --The Presidio           320.796910         372560   \n",
       "2010                  Lone Mountain           398.458876         372560   \n",
       "2010          Lower Pacific Heights           374.057636         372560   \n",
       "...                             ...                  ...            ...   \n",
       "2016                  Inner Mission           647.770447         384242   \n",
       "2016                 Inner Parkside           518.112650         384242   \n",
       "2016                 Inner Richmond           403.311132         384242   \n",
       "2016                   Inner Sunset           445.923828         384242   \n",
       "2016     Jordan Park/Laurel Heights           704.566419         384242   \n",
       "2016          Lower Pacific Heights           636.430770         384242   \n",
       "2016                         Marina           431.944602         384242   \n",
       "2016                 Merced Heights          1416.666667         384242   \n",
       "2016                    Mission Bay           924.569116         384242   \n",
       "2016                Mission Terrace           879.017013         384242   \n",
       "2016                       Nob Hill           777.008315         384242   \n",
       "2016                     Noe Valley           799.495651         384242   \n",
       "2016                    North Beach           407.553322         384242   \n",
       "2016                  Outer Mission            40.772625         384242   \n",
       "2016                 Outer Parkside           732.720684         384242   \n",
       "2016                Outer Richmond           1196.645437         384242   \n",
       "2016                   Outer Sunset           510.576907         384242   \n",
       "2016                Pacific Heights           996.389364         384242   \n",
       "2016                     Park North           211.301370         384242   \n",
       "2016      Parnassus/Ashbury Heights          1207.997485         384242   \n",
       "2016                   Potrero Hill           707.651609         384242   \n",
       "2016               Presidio Heights          1465.968586         384242   \n",
       "2016                   Russian Hill          1024.339877         384242   \n",
       "2016                South of Market           531.136374         384242   \n",
       "2016                      Sunnyside           751.173709         384242   \n",
       "2016                 Telegraph Hill           903.049771         384242   \n",
       "2016                     Twin Peaks           970.085470         384242   \n",
       "2016         Van Ness/ Civic Center           552.602567         384242   \n",
       "2016              Visitacion Valley           328.319007         384242   \n",
       "2016                  Westwood Park           631.195426         384242   \n",
       "\n",
       "      gross_rent  \n",
       "year              \n",
       "2010        1239  \n",
       "2010        1239  \n",
       "2010        1239  \n",
       "2010        1239  \n",
       "2010        1239  \n",
       "2010        1239  \n",
       "2010        1239  \n",
       "2010        1239  \n",
       "2010        1239  \n",
       "2010        1239  \n",
       "2010        1239  \n",
       "2010        1239  \n",
       "2010        1239  \n",
       "2010        1239  \n",
       "2010        1239  \n",
       "2010        1239  \n",
       "2010        1239  \n",
       "2010        1239  \n",
       "2010        1239  \n",
       "2010        1239  \n",
       "2010        1239  \n",
       "2010        1239  \n",
       "2010        1239  \n",
       "2010        1239  \n",
       "2010        1239  \n",
       "2010        1239  \n",
       "2010        1239  \n",
       "2010        1239  \n",
       "2010        1239  \n",
       "2010        1239  \n",
       "...          ...  \n",
       "2016        4390  \n",
       "2016        4390  \n",
       "2016        4390  \n",
       "2016        4390  \n",
       "2016        4390  \n",
       "2016        4390  \n",
       "2016        4390  \n",
       "2016        4390  \n",
       "2016        4390  \n",
       "2016        4390  \n",
       "2016        4390  \n",
       "2016        4390  \n",
       "2016        4390  \n",
       "2016        4390  \n",
       "2016        4390  \n",
       "2016        4390  \n",
       "2016        4390  \n",
       "2016        4390  \n",
       "2016        4390  \n",
       "2016        4390  \n",
       "2016        4390  \n",
       "2016        4390  \n",
       "2016        4390  \n",
       "2016        4390  \n",
       "2016        4390  \n",
       "2016        4390  \n",
       "2016        4390  \n",
       "2016        4390  \n",
       "2016        4390  \n",
       "2016        4390  \n",
       "\n",
       "[397 rows x 4 columns]"
      ]
     },
     "execution_count": 30,
     "metadata": {},
     "output_type": "execute_result"
    }
   ],
   "source": [
    "sfo_data"
   ]
  },
  {
   "cell_type": "code",
   "execution_count": 31,
   "metadata": {},
   "outputs": [
    {
     "data": {
      "text/html": [
       "<div>\n",
       "<style scoped>\n",
       "    .dataframe tbody tr th:only-of-type {\n",
       "        vertical-align: middle;\n",
       "    }\n",
       "\n",
       "    .dataframe tbody tr th {\n",
       "        vertical-align: top;\n",
       "    }\n",
       "\n",
       "    .dataframe thead th {\n",
       "        text-align: right;\n",
       "    }\n",
       "</style>\n",
       "<table border=\"1\" class=\"dataframe\">\n",
       "  <thead>\n",
       "    <tr style=\"text-align: right;\">\n",
       "      <th></th>\n",
       "      <th>Neighborhood</th>\n",
       "      <th>Lat</th>\n",
       "      <th>Lon</th>\n",
       "    </tr>\n",
       "  </thead>\n",
       "  <tbody>\n",
       "    <tr>\n",
       "      <th>0</th>\n",
       "      <td>Alamo Square</td>\n",
       "      <td>37.791012</td>\n",
       "      <td>-122.402100</td>\n",
       "    </tr>\n",
       "    <tr>\n",
       "      <th>1</th>\n",
       "      <td>Anza Vista</td>\n",
       "      <td>37.779598</td>\n",
       "      <td>-122.443451</td>\n",
       "    </tr>\n",
       "    <tr>\n",
       "      <th>2</th>\n",
       "      <td>Bayview</td>\n",
       "      <td>37.734670</td>\n",
       "      <td>-122.401060</td>\n",
       "    </tr>\n",
       "    <tr>\n",
       "      <th>3</th>\n",
       "      <td>Bayview Heights</td>\n",
       "      <td>37.728740</td>\n",
       "      <td>-122.410980</td>\n",
       "    </tr>\n",
       "    <tr>\n",
       "      <th>4</th>\n",
       "      <td>Bernal Heights</td>\n",
       "      <td>37.728630</td>\n",
       "      <td>-122.443050</td>\n",
       "    </tr>\n",
       "    <tr>\n",
       "      <th>5</th>\n",
       "      <td>Buena Vista Park</td>\n",
       "      <td>37.768160</td>\n",
       "      <td>-122.439330</td>\n",
       "    </tr>\n",
       "    <tr>\n",
       "      <th>6</th>\n",
       "      <td>Central Richmond</td>\n",
       "      <td>37.777890</td>\n",
       "      <td>-122.445170</td>\n",
       "    </tr>\n",
       "    <tr>\n",
       "      <th>7</th>\n",
       "      <td>Central Sunset</td>\n",
       "      <td>37.749610</td>\n",
       "      <td>-122.489990</td>\n",
       "    </tr>\n",
       "    <tr>\n",
       "      <th>8</th>\n",
       "      <td>Clarendon Heights</td>\n",
       "      <td>37.753310</td>\n",
       "      <td>-122.447030</td>\n",
       "    </tr>\n",
       "    <tr>\n",
       "      <th>9</th>\n",
       "      <td>Corona Heights</td>\n",
       "      <td>37.785530</td>\n",
       "      <td>-122.456000</td>\n",
       "    </tr>\n",
       "    <tr>\n",
       "      <th>10</th>\n",
       "      <td>Cow Hollow</td>\n",
       "      <td>37.792980</td>\n",
       "      <td>-122.435790</td>\n",
       "    </tr>\n",
       "    <tr>\n",
       "      <th>11</th>\n",
       "      <td>Croker Amazon</td>\n",
       "      <td>37.722800</td>\n",
       "      <td>-122.438690</td>\n",
       "    </tr>\n",
       "    <tr>\n",
       "      <th>12</th>\n",
       "      <td>Diamond Heights</td>\n",
       "      <td>37.728630</td>\n",
       "      <td>-122.443050</td>\n",
       "    </tr>\n",
       "    <tr>\n",
       "      <th>13</th>\n",
       "      <td>Downtown</td>\n",
       "      <td>37.791010</td>\n",
       "      <td>-122.402100</td>\n",
       "    </tr>\n",
       "    <tr>\n",
       "      <th>14</th>\n",
       "      <td>Duboce Triangle</td>\n",
       "      <td>37.769640</td>\n",
       "      <td>-122.426110</td>\n",
       "    </tr>\n",
       "    <tr>\n",
       "      <th>15</th>\n",
       "      <td>Eureka Valley/Dolores Heights</td>\n",
       "      <td>37.755540</td>\n",
       "      <td>-122.437790</td>\n",
       "    </tr>\n",
       "    <tr>\n",
       "      <th>16</th>\n",
       "      <td>Excelsior</td>\n",
       "      <td>37.728740</td>\n",
       "      <td>-122.410980</td>\n",
       "    </tr>\n",
       "    <tr>\n",
       "      <th>17</th>\n",
       "      <td>Financial District North</td>\n",
       "      <td>37.791010</td>\n",
       "      <td>-122.402100</td>\n",
       "    </tr>\n",
       "    <tr>\n",
       "      <th>18</th>\n",
       "      <td>Financial District South</td>\n",
       "      <td>37.791010</td>\n",
       "      <td>-122.402100</td>\n",
       "    </tr>\n",
       "    <tr>\n",
       "      <th>19</th>\n",
       "      <td>Forest Knolls</td>\n",
       "      <td>37.757060</td>\n",
       "      <td>-122.455090</td>\n",
       "    </tr>\n",
       "    <tr>\n",
       "      <th>20</th>\n",
       "      <td>Glen Park</td>\n",
       "      <td>37.728630</td>\n",
       "      <td>-122.443050</td>\n",
       "    </tr>\n",
       "    <tr>\n",
       "      <th>21</th>\n",
       "      <td>Golden Gate Heights</td>\n",
       "      <td>37.757912</td>\n",
       "      <td>-122.464020</td>\n",
       "    </tr>\n",
       "    <tr>\n",
       "      <th>22</th>\n",
       "      <td>Haight Ashbury</td>\n",
       "      <td>37.765250</td>\n",
       "      <td>-122.435960</td>\n",
       "    </tr>\n",
       "    <tr>\n",
       "      <th>23</th>\n",
       "      <td>Hayes Valley</td>\n",
       "      <td>37.765250</td>\n",
       "      <td>-122.435960</td>\n",
       "    </tr>\n",
       "    <tr>\n",
       "      <th>24</th>\n",
       "      <td>Hunters Point</td>\n",
       "      <td>37.725510</td>\n",
       "      <td>-122.371780</td>\n",
       "    </tr>\n",
       "    <tr>\n",
       "      <th>25</th>\n",
       "      <td>Ingleside</td>\n",
       "      <td>37.721161</td>\n",
       "      <td>-122.487068</td>\n",
       "    </tr>\n",
       "    <tr>\n",
       "      <th>26</th>\n",
       "      <td>Ingleside Heights</td>\n",
       "      <td>37.721160</td>\n",
       "      <td>-122.487070</td>\n",
       "    </tr>\n",
       "    <tr>\n",
       "      <th>27</th>\n",
       "      <td>Inner Mission</td>\n",
       "      <td>37.754160</td>\n",
       "      <td>-122.419470</td>\n",
       "    </tr>\n",
       "    <tr>\n",
       "      <th>28</th>\n",
       "      <td>Inner Parkside</td>\n",
       "      <td>37.749610</td>\n",
       "      <td>-122.489990</td>\n",
       "    </tr>\n",
       "    <tr>\n",
       "      <th>29</th>\n",
       "      <td>Inner Richmond</td>\n",
       "      <td>37.769112</td>\n",
       "      <td>-122.483566</td>\n",
       "    </tr>\n",
       "    <tr>\n",
       "      <th>...</th>\n",
       "      <td>...</td>\n",
       "      <td>...</td>\n",
       "      <td>...</td>\n",
       "    </tr>\n",
       "    <tr>\n",
       "      <th>43</th>\n",
       "      <td>Noe Valley</td>\n",
       "      <td>37.753310</td>\n",
       "      <td>-122.447030</td>\n",
       "    </tr>\n",
       "    <tr>\n",
       "      <th>44</th>\n",
       "      <td>North Beach</td>\n",
       "      <td>37.800550</td>\n",
       "      <td>-122.404330</td>\n",
       "    </tr>\n",
       "    <tr>\n",
       "      <th>45</th>\n",
       "      <td>North Waterfront</td>\n",
       "      <td>37.800550</td>\n",
       "      <td>-122.404330</td>\n",
       "    </tr>\n",
       "    <tr>\n",
       "      <th>46</th>\n",
       "      <td>Oceanview</td>\n",
       "      <td>37.719930</td>\n",
       "      <td>-122.465950</td>\n",
       "    </tr>\n",
       "    <tr>\n",
       "      <th>47</th>\n",
       "      <td>Outer Mission</td>\n",
       "      <td>37.722800</td>\n",
       "      <td>-122.438690</td>\n",
       "    </tr>\n",
       "    <tr>\n",
       "      <th>48</th>\n",
       "      <td>Outer Parkside</td>\n",
       "      <td>37.751700</td>\n",
       "      <td>-122.446000</td>\n",
       "    </tr>\n",
       "    <tr>\n",
       "      <th>49</th>\n",
       "      <td>Outer Richmond</td>\n",
       "      <td>37.769110</td>\n",
       "      <td>-122.483570</td>\n",
       "    </tr>\n",
       "    <tr>\n",
       "      <th>50</th>\n",
       "      <td>Outer Sunset</td>\n",
       "      <td>37.749610</td>\n",
       "      <td>-122.489990</td>\n",
       "    </tr>\n",
       "    <tr>\n",
       "      <th>51</th>\n",
       "      <td>Pacific Heights</td>\n",
       "      <td>37.792980</td>\n",
       "      <td>-122.435790</td>\n",
       "    </tr>\n",
       "    <tr>\n",
       "      <th>52</th>\n",
       "      <td>Park North</td>\n",
       "      <td>37.728380</td>\n",
       "      <td>-122.478510</td>\n",
       "    </tr>\n",
       "    <tr>\n",
       "      <th>53</th>\n",
       "      <td>Parkside</td>\n",
       "      <td>37.749610</td>\n",
       "      <td>-122.489990</td>\n",
       "    </tr>\n",
       "    <tr>\n",
       "      <th>54</th>\n",
       "      <td>Parnassus/Ashbury Heights</td>\n",
       "      <td>37.763550</td>\n",
       "      <td>-122.457650</td>\n",
       "    </tr>\n",
       "    <tr>\n",
       "      <th>55</th>\n",
       "      <td>Portola</td>\n",
       "      <td>37.734670</td>\n",
       "      <td>-122.401060</td>\n",
       "    </tr>\n",
       "    <tr>\n",
       "      <th>56</th>\n",
       "      <td>Potrero Hill</td>\n",
       "      <td>37.731960</td>\n",
       "      <td>-122.383240</td>\n",
       "    </tr>\n",
       "    <tr>\n",
       "      <th>57</th>\n",
       "      <td>Presidio Heights</td>\n",
       "      <td>37.785530</td>\n",
       "      <td>-122.456000</td>\n",
       "    </tr>\n",
       "    <tr>\n",
       "      <th>58</th>\n",
       "      <td>Russian Hill</td>\n",
       "      <td>37.792980</td>\n",
       "      <td>-122.435790</td>\n",
       "    </tr>\n",
       "    <tr>\n",
       "      <th>59</th>\n",
       "      <td>Silver Terrace</td>\n",
       "      <td>37.734670</td>\n",
       "      <td>-122.401060</td>\n",
       "    </tr>\n",
       "    <tr>\n",
       "      <th>60</th>\n",
       "      <td>South Beach</td>\n",
       "      <td>37.783230</td>\n",
       "      <td>-122.400650</td>\n",
       "    </tr>\n",
       "    <tr>\n",
       "      <th>61</th>\n",
       "      <td>South of Market</td>\n",
       "      <td>37.791010</td>\n",
       "      <td>-122.402100</td>\n",
       "    </tr>\n",
       "    <tr>\n",
       "      <th>62</th>\n",
       "      <td>Sunnyside</td>\n",
       "      <td>37.734150</td>\n",
       "      <td>-122.457000</td>\n",
       "    </tr>\n",
       "    <tr>\n",
       "      <th>63</th>\n",
       "      <td>Telegraph Hill</td>\n",
       "      <td>37.800550</td>\n",
       "      <td>-122.404330</td>\n",
       "    </tr>\n",
       "    <tr>\n",
       "      <th>64</th>\n",
       "      <td>Twin Peaks</td>\n",
       "      <td>37.753311</td>\n",
       "      <td>-122.447029</td>\n",
       "    </tr>\n",
       "    <tr>\n",
       "      <th>65</th>\n",
       "      <td>Union Square District</td>\n",
       "      <td>37.791010</td>\n",
       "      <td>-122.402100</td>\n",
       "    </tr>\n",
       "    <tr>\n",
       "      <th>66</th>\n",
       "      <td>Van Ness/ Civic Center</td>\n",
       "      <td>37.779510</td>\n",
       "      <td>-122.420220</td>\n",
       "    </tr>\n",
       "    <tr>\n",
       "      <th>67</th>\n",
       "      <td>Visitacion Valley</td>\n",
       "      <td>37.728740</td>\n",
       "      <td>-122.410980</td>\n",
       "    </tr>\n",
       "    <tr>\n",
       "      <th>68</th>\n",
       "      <td>West Portal</td>\n",
       "      <td>37.740260</td>\n",
       "      <td>-122.463880</td>\n",
       "    </tr>\n",
       "    <tr>\n",
       "      <th>69</th>\n",
       "      <td>Western Addition</td>\n",
       "      <td>37.792980</td>\n",
       "      <td>-122.435790</td>\n",
       "    </tr>\n",
       "    <tr>\n",
       "      <th>70</th>\n",
       "      <td>Westwood Highlands</td>\n",
       "      <td>37.734700</td>\n",
       "      <td>-122.456854</td>\n",
       "    </tr>\n",
       "    <tr>\n",
       "      <th>71</th>\n",
       "      <td>Westwood Park</td>\n",
       "      <td>37.734150</td>\n",
       "      <td>-122.457000</td>\n",
       "    </tr>\n",
       "    <tr>\n",
       "      <th>72</th>\n",
       "      <td>Yerba Buena</td>\n",
       "      <td>37.792980</td>\n",
       "      <td>-122.396360</td>\n",
       "    </tr>\n",
       "  </tbody>\n",
       "</table>\n",
       "<p>73 rows × 3 columns</p>\n",
       "</div>"
      ],
      "text/plain": [
       "                     Neighborhood        Lat         Lon\n",
       "0                    Alamo Square  37.791012 -122.402100\n",
       "1                      Anza Vista  37.779598 -122.443451\n",
       "2                         Bayview  37.734670 -122.401060\n",
       "3                 Bayview Heights  37.728740 -122.410980\n",
       "4                  Bernal Heights  37.728630 -122.443050\n",
       "5                Buena Vista Park  37.768160 -122.439330\n",
       "6                Central Richmond  37.777890 -122.445170\n",
       "7                  Central Sunset  37.749610 -122.489990\n",
       "8               Clarendon Heights  37.753310 -122.447030\n",
       "9                  Corona Heights  37.785530 -122.456000\n",
       "10                     Cow Hollow  37.792980 -122.435790\n",
       "11                  Croker Amazon  37.722800 -122.438690\n",
       "12                Diamond Heights  37.728630 -122.443050\n",
       "13                       Downtown  37.791010 -122.402100\n",
       "14                Duboce Triangle  37.769640 -122.426110\n",
       "15  Eureka Valley/Dolores Heights  37.755540 -122.437790\n",
       "16                      Excelsior  37.728740 -122.410980\n",
       "17       Financial District North  37.791010 -122.402100\n",
       "18       Financial District South  37.791010 -122.402100\n",
       "19                  Forest Knolls  37.757060 -122.455090\n",
       "20                      Glen Park  37.728630 -122.443050\n",
       "21            Golden Gate Heights  37.757912 -122.464020\n",
       "22                 Haight Ashbury  37.765250 -122.435960\n",
       "23                   Hayes Valley  37.765250 -122.435960\n",
       "24                  Hunters Point  37.725510 -122.371780\n",
       "25                      Ingleside  37.721161 -122.487068\n",
       "26              Ingleside Heights  37.721160 -122.487070\n",
       "27                  Inner Mission  37.754160 -122.419470\n",
       "28                 Inner Parkside  37.749610 -122.489990\n",
       "29                 Inner Richmond  37.769112 -122.483566\n",
       "..                            ...        ...         ...\n",
       "43                     Noe Valley  37.753310 -122.447030\n",
       "44                    North Beach  37.800550 -122.404330\n",
       "45               North Waterfront  37.800550 -122.404330\n",
       "46                      Oceanview  37.719930 -122.465950\n",
       "47                  Outer Mission  37.722800 -122.438690\n",
       "48                 Outer Parkside  37.751700 -122.446000\n",
       "49                 Outer Richmond  37.769110 -122.483570\n",
       "50                   Outer Sunset  37.749610 -122.489990\n",
       "51                Pacific Heights  37.792980 -122.435790\n",
       "52                     Park North  37.728380 -122.478510\n",
       "53                       Parkside  37.749610 -122.489990\n",
       "54      Parnassus/Ashbury Heights  37.763550 -122.457650\n",
       "55                        Portola  37.734670 -122.401060\n",
       "56                   Potrero Hill  37.731960 -122.383240\n",
       "57               Presidio Heights  37.785530 -122.456000\n",
       "58                   Russian Hill  37.792980 -122.435790\n",
       "59                 Silver Terrace  37.734670 -122.401060\n",
       "60                    South Beach  37.783230 -122.400650\n",
       "61                South of Market  37.791010 -122.402100\n",
       "62                      Sunnyside  37.734150 -122.457000\n",
       "63                 Telegraph Hill  37.800550 -122.404330\n",
       "64                     Twin Peaks  37.753311 -122.447029\n",
       "65          Union Square District  37.791010 -122.402100\n",
       "66         Van Ness/ Civic Center  37.779510 -122.420220\n",
       "67              Visitacion Valley  37.728740 -122.410980\n",
       "68                    West Portal  37.740260 -122.463880\n",
       "69               Western Addition  37.792980 -122.435790\n",
       "70             Westwood Highlands  37.734700 -122.456854\n",
       "71                  Westwood Park  37.734150 -122.457000\n",
       "72                    Yerba Buena  37.792980 -122.396360\n",
       "\n",
       "[73 rows x 3 columns]"
      ]
     },
     "execution_count": 31,
     "metadata": {},
     "output_type": "execute_result"
    }
   ],
   "source": [
    "df_neighborhood_locations "
   ]
  },
  {
   "cell_type": "markdown",
   "metadata": {},
   "source": [
    "- - -"
   ]
  },
  {
   "cell_type": "markdown",
   "metadata": {},
   "source": [
    "## Panel Visualizations\n",
    "\n",
    "In this section, you will copy the code for each plot type from your analysis notebook and place it into separate functions that Panel can use to create panes for the dashboard. \n",
    "\n",
    "These functions will convert the plot object to a Panel pane.\n",
    "\n",
    "Be sure to include any DataFrame transformation/manipulation code required along with the plotting code.\n",
    "\n",
    "Return a Panel pane object from each function that can be used to build the dashboard.\n",
    "\n",
    "Note: Remove any `.show()` lines from the code. We want to return the plots instead of showing them. The Panel dashboard will then display the plots."
   ]
  },
  {
   "cell_type": "code",
   "execution_count": 32,
   "metadata": {},
   "outputs": [],
   "source": [
    "# Define Panel Visualization Functions\n",
    "def housing_units_per_year():\n",
    "    \"\"\"Housing Units Per Year.\"\"\"\n",
    "    housing_units_year1_df = sfo_data['housing_units']\n",
    "    housing_units_year1_df = housing_units_year1_df.groupby([sfo_data.index]).mean()\n",
    "    \n",
    "    housing_units_figplot = plt.figure()\n",
    "    housing_units_plotted_df =  housing_units_year1_df.plot.bar(x='year', ylim=[360000, 390000], title=\"Number of Housing Units Sold Per Year On Average from 2010-2016 \")\n",
    "    plt.close(housing_units_figplot)\n",
    "    \n",
    "    return pn.pane.Matplotlib(housing_units_figplot)"
   ]
  },
  {
   "cell_type": "code",
   "execution_count": 33,
   "metadata": {},
   "outputs": [
    {
     "data": {
      "application/vnd.holoviews_exec.v0+json": "",
      "text/html": [
       "<div id='2215'>\n",
       "\n",
       "\n",
       "\n",
       "\n",
       "\n",
       "  <div class=\"bk-root\" id=\"c16c7f1f-6d2d-435e-b1b3-9ce61b58d3ad\" data-root-id=\"2215\"></div>\n",
       "</div>\n",
       "<script type=\"application/javascript\">(function(root) {\n",
       "  function embed_document(root) {\n",
       "  var docs_json = {\"b8606a29-7417-4397-831b-199c9a54847a\":{\"roots\":{\"references\":[{\"attributes\":{\"height\":288,\"margin\":[5,5,5,5],\"name\":\"Matplotlib03466\",\"text\":\"&lt;img src=&quot;data:image/png;base64,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&quot; width=&quot;432px&quot; height=&quot;288px&quot; alt=&quot;&quot;&gt;&lt;/img&gt;\",\"width\":432},\"id\":\"2215\",\"type\":\"panel.models.markup.HTML\"},{\"attributes\":{\"client_comm_id\":\"dbb5204df6b8480785b25dda7523b227\",\"comm_id\":\"01a749f1860b4c7bb93370a41bed8191\",\"plot_id\":\"2215\"},\"id\":\"2216\",\"type\":\"panel.models.comm_manager.CommManager\"}],\"root_ids\":[\"2215\",\"2216\"]},\"title\":\"Bokeh Application\",\"version\":\"2.1.1\"}};\n",
       "  var render_items = [{\"docid\":\"b8606a29-7417-4397-831b-199c9a54847a\",\"root_ids\":[\"2215\"],\"roots\":{\"2215\":\"c16c7f1f-6d2d-435e-b1b3-9ce61b58d3ad\"}}];\n",
       "  root.Bokeh.embed.embed_items_notebook(docs_json, render_items);\n",
       "  }\n",
       "if (root.Bokeh !== undefined) {\n",
       "    embed_document(root);\n",
       "  } else {\n",
       "    var attempts = 0;\n",
       "    var timer = setInterval(function(root) {\n",
       "      if (root.Bokeh !== undefined) {\n",
       "        clearInterval(timer);\n",
       "        embed_document(root);\n",
       "      } else if (document.readyState == \"complete\") {\n",
       "        attempts++;\n",
       "        if (attempts > 100) {\n",
       "          clearInterval(timer);\n",
       "          console.log(\"Bokeh: ERROR: Unable to run BokehJS code because BokehJS library is missing\");\n",
       "        }\n",
       "      }\n",
       "    }, 10, root)\n",
       "  }\n",
       "})(window);</script>"
      ],
      "text/plain": [
       "Matplotlib(Figure)"
      ]
     },
     "execution_count": 33,
     "metadata": {
      "application/vnd.holoviews_exec.v0+json": {
       "id": "2215"
      }
     },
     "output_type": "execute_result"
    }
   ],
   "source": [
    " housing_units_per_year() "
   ]
  },
  {
   "cell_type": "code",
   "execution_count": 34,
   "metadata": {},
   "outputs": [],
   "source": [
    "def average_gross_rent():\n",
    "    \"\"\"Average Gross Rent in San Francisco Per Year.\"\"\"\n",
    "    sf_average = sfo_data.groupby(\"year\").mean()\n",
    "    sf_average.reset_index(inplace=True)\n",
    "\n",
    "    sf_average_fig = px.line(\n",
    "    sf_average,\n",
    "    x=\"year\",\n",
    "    y=\"gross_rent\",\n",
    "    labels={\"year\":\"Year\",\"gross_rent\":\"Gross Rent\"},\n",
    "    title=\"San Francisco's Avereage Gross Rent\",\n",
    "    width=700, \n",
    "    height=600\n",
    "    )\n",
    "    return sf_average_fig"
   ]
  },
  {
   "cell_type": "code",
   "execution_count": 35,
   "metadata": {},
   "outputs": [
    {
     "data": {
      "application/vnd.plotly.v1+json": {
       "config": {
        "plotlyServerURL": "https://plot.ly"
       },
       "data": [
        {
         "hovertemplate": "Year=%{x}<br>Gross Rent=%{y}<extra></extra>",
         "legendgroup": "",
         "line": {
          "color": "#636efa",
          "dash": "solid"
         },
         "mode": "lines",
         "name": "",
         "orientation": "v",
         "showlegend": false,
         "type": "scatter",
         "x": [
          2010,
          2011,
          2012,
          2013,
          2014,
          2015,
          2016
         ],
         "xaxis": "x",
         "y": [
          1239,
          1530,
          2324,
          2971,
          3528,
          3739,
          4390
         ],
         "yaxis": "y"
        }
       ],
       "layout": {
        "height": 600,
        "legend": {
         "tracegroupgap": 0
        },
        "template": {
         "data": {
          "bar": [
           {
            "error_x": {
             "color": "#2a3f5f"
            },
            "error_y": {
             "color": "#2a3f5f"
            },
            "marker": {
             "line": {
              "color": "#E5ECF6",
              "width": 0.5
             }
            },
            "type": "bar"
           }
          ],
          "barpolar": [
           {
            "marker": {
             "line": {
              "color": "#E5ECF6",
              "width": 0.5
             }
            },
            "type": "barpolar"
           }
          ],
          "carpet": [
           {
            "aaxis": {
             "endlinecolor": "#2a3f5f",
             "gridcolor": "white",
             "linecolor": "white",
             "minorgridcolor": "white",
             "startlinecolor": "#2a3f5f"
            },
            "baxis": {
             "endlinecolor": "#2a3f5f",
             "gridcolor": "white",
             "linecolor": "white",
             "minorgridcolor": "white",
             "startlinecolor": "#2a3f5f"
            },
            "type": "carpet"
           }
          ],
          "choropleth": [
           {
            "colorbar": {
             "outlinewidth": 0,
             "ticks": ""
            },
            "type": "choropleth"
           }
          ],
          "contour": [
           {
            "colorbar": {
             "outlinewidth": 0,
             "ticks": ""
            },
            "colorscale": [
             [
              0,
              "#0d0887"
             ],
             [
              0.1111111111111111,
              "#46039f"
             ],
             [
              0.2222222222222222,
              "#7201a8"
             ],
             [
              0.3333333333333333,
              "#9c179e"
             ],
             [
              0.4444444444444444,
              "#bd3786"
             ],
             [
              0.5555555555555556,
              "#d8576b"
             ],
             [
              0.6666666666666666,
              "#ed7953"
             ],
             [
              0.7777777777777778,
              "#fb9f3a"
             ],
             [
              0.8888888888888888,
              "#fdca26"
             ],
             [
              1,
              "#f0f921"
             ]
            ],
            "type": "contour"
           }
          ],
          "contourcarpet": [
           {
            "colorbar": {
             "outlinewidth": 0,
             "ticks": ""
            },
            "type": "contourcarpet"
           }
          ],
          "heatmap": [
           {
            "colorbar": {
             "outlinewidth": 0,
             "ticks": ""
            },
            "colorscale": [
             [
              0,
              "#0d0887"
             ],
             [
              0.1111111111111111,
              "#46039f"
             ],
             [
              0.2222222222222222,
              "#7201a8"
             ],
             [
              0.3333333333333333,
              "#9c179e"
             ],
             [
              0.4444444444444444,
              "#bd3786"
             ],
             [
              0.5555555555555556,
              "#d8576b"
             ],
             [
              0.6666666666666666,
              "#ed7953"
             ],
             [
              0.7777777777777778,
              "#fb9f3a"
             ],
             [
              0.8888888888888888,
              "#fdca26"
             ],
             [
              1,
              "#f0f921"
             ]
            ],
            "type": "heatmap"
           }
          ],
          "heatmapgl": [
           {
            "colorbar": {
             "outlinewidth": 0,
             "ticks": ""
            },
            "colorscale": [
             [
              0,
              "#0d0887"
             ],
             [
              0.1111111111111111,
              "#46039f"
             ],
             [
              0.2222222222222222,
              "#7201a8"
             ],
             [
              0.3333333333333333,
              "#9c179e"
             ],
             [
              0.4444444444444444,
              "#bd3786"
             ],
             [
              0.5555555555555556,
              "#d8576b"
             ],
             [
              0.6666666666666666,
              "#ed7953"
             ],
             [
              0.7777777777777778,
              "#fb9f3a"
             ],
             [
              0.8888888888888888,
              "#fdca26"
             ],
             [
              1,
              "#f0f921"
             ]
            ],
            "type": "heatmapgl"
           }
          ],
          "histogram": [
           {
            "marker": {
             "colorbar": {
              "outlinewidth": 0,
              "ticks": ""
             }
            },
            "type": "histogram"
           }
          ],
          "histogram2d": [
           {
            "colorbar": {
             "outlinewidth": 0,
             "ticks": ""
            },
            "colorscale": [
             [
              0,
              "#0d0887"
             ],
             [
              0.1111111111111111,
              "#46039f"
             ],
             [
              0.2222222222222222,
              "#7201a8"
             ],
             [
              0.3333333333333333,
              "#9c179e"
             ],
             [
              0.4444444444444444,
              "#bd3786"
             ],
             [
              0.5555555555555556,
              "#d8576b"
             ],
             [
              0.6666666666666666,
              "#ed7953"
             ],
             [
              0.7777777777777778,
              "#fb9f3a"
             ],
             [
              0.8888888888888888,
              "#fdca26"
             ],
             [
              1,
              "#f0f921"
             ]
            ],
            "type": "histogram2d"
           }
          ],
          "histogram2dcontour": [
           {
            "colorbar": {
             "outlinewidth": 0,
             "ticks": ""
            },
            "colorscale": [
             [
              0,
              "#0d0887"
             ],
             [
              0.1111111111111111,
              "#46039f"
             ],
             [
              0.2222222222222222,
              "#7201a8"
             ],
             [
              0.3333333333333333,
              "#9c179e"
             ],
             [
              0.4444444444444444,
              "#bd3786"
             ],
             [
              0.5555555555555556,
              "#d8576b"
             ],
             [
              0.6666666666666666,
              "#ed7953"
             ],
             [
              0.7777777777777778,
              "#fb9f3a"
             ],
             [
              0.8888888888888888,
              "#fdca26"
             ],
             [
              1,
              "#f0f921"
             ]
            ],
            "type": "histogram2dcontour"
           }
          ],
          "mesh3d": [
           {
            "colorbar": {
             "outlinewidth": 0,
             "ticks": ""
            },
            "type": "mesh3d"
           }
          ],
          "parcoords": [
           {
            "line": {
             "colorbar": {
              "outlinewidth": 0,
              "ticks": ""
             }
            },
            "type": "parcoords"
           }
          ],
          "pie": [
           {
            "automargin": true,
            "type": "pie"
           }
          ],
          "scatter": [
           {
            "marker": {
             "colorbar": {
              "outlinewidth": 0,
              "ticks": ""
             }
            },
            "type": "scatter"
           }
          ],
          "scatter3d": [
           {
            "line": {
             "colorbar": {
              "outlinewidth": 0,
              "ticks": ""
             }
            },
            "marker": {
             "colorbar": {
              "outlinewidth": 0,
              "ticks": ""
             }
            },
            "type": "scatter3d"
           }
          ],
          "scattercarpet": [
           {
            "marker": {
             "colorbar": {
              "outlinewidth": 0,
              "ticks": ""
             }
            },
            "type": "scattercarpet"
           }
          ],
          "scattergeo": [
           {
            "marker": {
             "colorbar": {
              "outlinewidth": 0,
              "ticks": ""
             }
            },
            "type": "scattergeo"
           }
          ],
          "scattergl": [
           {
            "marker": {
             "colorbar": {
              "outlinewidth": 0,
              "ticks": ""
             }
            },
            "type": "scattergl"
           }
          ],
          "scattermapbox": [
           {
            "marker": {
             "colorbar": {
              "outlinewidth": 0,
              "ticks": ""
             }
            },
            "type": "scattermapbox"
           }
          ],
          "scatterpolar": [
           {
            "marker": {
             "colorbar": {
              "outlinewidth": 0,
              "ticks": ""
             }
            },
            "type": "scatterpolar"
           }
          ],
          "scatterpolargl": [
           {
            "marker": {
             "colorbar": {
              "outlinewidth": 0,
              "ticks": ""
             }
            },
            "type": "scatterpolargl"
           }
          ],
          "scatterternary": [
           {
            "marker": {
             "colorbar": {
              "outlinewidth": 0,
              "ticks": ""
             }
            },
            "type": "scatterternary"
           }
          ],
          "surface": [
           {
            "colorbar": {
             "outlinewidth": 0,
             "ticks": ""
            },
            "colorscale": [
             [
              0,
              "#0d0887"
             ],
             [
              0.1111111111111111,
              "#46039f"
             ],
             [
              0.2222222222222222,
              "#7201a8"
             ],
             [
              0.3333333333333333,
              "#9c179e"
             ],
             [
              0.4444444444444444,
              "#bd3786"
             ],
             [
              0.5555555555555556,
              "#d8576b"
             ],
             [
              0.6666666666666666,
              "#ed7953"
             ],
             [
              0.7777777777777778,
              "#fb9f3a"
             ],
             [
              0.8888888888888888,
              "#fdca26"
             ],
             [
              1,
              "#f0f921"
             ]
            ],
            "type": "surface"
           }
          ],
          "table": [
           {
            "cells": {
             "fill": {
              "color": "#EBF0F8"
             },
             "line": {
              "color": "white"
             }
            },
            "header": {
             "fill": {
              "color": "#C8D4E3"
             },
             "line": {
              "color": "white"
             }
            },
            "type": "table"
           }
          ]
         },
         "layout": {
          "annotationdefaults": {
           "arrowcolor": "#2a3f5f",
           "arrowhead": 0,
           "arrowwidth": 1
          },
          "coloraxis": {
           "colorbar": {
            "outlinewidth": 0,
            "ticks": ""
           }
          },
          "colorscale": {
           "diverging": [
            [
             0,
             "#8e0152"
            ],
            [
             0.1,
             "#c51b7d"
            ],
            [
             0.2,
             "#de77ae"
            ],
            [
             0.3,
             "#f1b6da"
            ],
            [
             0.4,
             "#fde0ef"
            ],
            [
             0.5,
             "#f7f7f7"
            ],
            [
             0.6,
             "#e6f5d0"
            ],
            [
             0.7,
             "#b8e186"
            ],
            [
             0.8,
             "#7fbc41"
            ],
            [
             0.9,
             "#4d9221"
            ],
            [
             1,
             "#276419"
            ]
           ],
           "sequential": [
            [
             0,
             "#0d0887"
            ],
            [
             0.1111111111111111,
             "#46039f"
            ],
            [
             0.2222222222222222,
             "#7201a8"
            ],
            [
             0.3333333333333333,
             "#9c179e"
            ],
            [
             0.4444444444444444,
             "#bd3786"
            ],
            [
             0.5555555555555556,
             "#d8576b"
            ],
            [
             0.6666666666666666,
             "#ed7953"
            ],
            [
             0.7777777777777778,
             "#fb9f3a"
            ],
            [
             0.8888888888888888,
             "#fdca26"
            ],
            [
             1,
             "#f0f921"
            ]
           ],
           "sequentialminus": [
            [
             0,
             "#0d0887"
            ],
            [
             0.1111111111111111,
             "#46039f"
            ],
            [
             0.2222222222222222,
             "#7201a8"
            ],
            [
             0.3333333333333333,
             "#9c179e"
            ],
            [
             0.4444444444444444,
             "#bd3786"
            ],
            [
             0.5555555555555556,
             "#d8576b"
            ],
            [
             0.6666666666666666,
             "#ed7953"
            ],
            [
             0.7777777777777778,
             "#fb9f3a"
            ],
            [
             0.8888888888888888,
             "#fdca26"
            ],
            [
             1,
             "#f0f921"
            ]
           ]
          },
          "colorway": [
           "#636efa",
           "#EF553B",
           "#00cc96",
           "#ab63fa",
           "#FFA15A",
           "#19d3f3",
           "#FF6692",
           "#B6E880",
           "#FF97FF",
           "#FECB52"
          ],
          "font": {
           "color": "#2a3f5f"
          },
          "geo": {
           "bgcolor": "white",
           "lakecolor": "white",
           "landcolor": "#E5ECF6",
           "showlakes": true,
           "showland": true,
           "subunitcolor": "white"
          },
          "hoverlabel": {
           "align": "left"
          },
          "hovermode": "closest",
          "mapbox": {
           "style": "light"
          },
          "paper_bgcolor": "white",
          "plot_bgcolor": "#E5ECF6",
          "polar": {
           "angularaxis": {
            "gridcolor": "white",
            "linecolor": "white",
            "ticks": ""
           },
           "bgcolor": "#E5ECF6",
           "radialaxis": {
            "gridcolor": "white",
            "linecolor": "white",
            "ticks": ""
           }
          },
          "scene": {
           "xaxis": {
            "backgroundcolor": "#E5ECF6",
            "gridcolor": "white",
            "gridwidth": 2,
            "linecolor": "white",
            "showbackground": true,
            "ticks": "",
            "zerolinecolor": "white"
           },
           "yaxis": {
            "backgroundcolor": "#E5ECF6",
            "gridcolor": "white",
            "gridwidth": 2,
            "linecolor": "white",
            "showbackground": true,
            "ticks": "",
            "zerolinecolor": "white"
           },
           "zaxis": {
            "backgroundcolor": "#E5ECF6",
            "gridcolor": "white",
            "gridwidth": 2,
            "linecolor": "white",
            "showbackground": true,
            "ticks": "",
            "zerolinecolor": "white"
           }
          },
          "shapedefaults": {
           "line": {
            "color": "#2a3f5f"
           }
          },
          "ternary": {
           "aaxis": {
            "gridcolor": "white",
            "linecolor": "white",
            "ticks": ""
           },
           "baxis": {
            "gridcolor": "white",
            "linecolor": "white",
            "ticks": ""
           },
           "bgcolor": "#E5ECF6",
           "caxis": {
            "gridcolor": "white",
            "linecolor": "white",
            "ticks": ""
           }
          },
          "title": {
           "x": 0.05
          },
          "xaxis": {
           "automargin": true,
           "gridcolor": "white",
           "linecolor": "white",
           "ticks": "",
           "title": {
            "standoff": 15
           },
           "zerolinecolor": "white",
           "zerolinewidth": 2
          },
          "yaxis": {
           "automargin": true,
           "gridcolor": "white",
           "linecolor": "white",
           "ticks": "",
           "title": {
            "standoff": 15
           },
           "zerolinecolor": "white",
           "zerolinewidth": 2
          }
         }
        },
        "title": {
         "text": "San Francisco's Avereage Gross Rent"
        },
        "width": 700,
        "xaxis": {
         "anchor": "y",
         "autorange": true,
         "domain": [
          0,
          1
         ],
         "range": [
          2010,
          2016
         ],
         "title": {
          "text": "Year"
         },
         "type": "linear"
        },
        "yaxis": {
         "anchor": "x",
         "autorange": true,
         "domain": [
          0,
          1
         ],
         "range": [
          1063.9444444444443,
          4565.055555555556
         ],
         "title": {
          "text": "Gross Rent"
         },
         "type": "linear"
        }
       }
      },
      "image/png": "[encoded data removed]",
      "text/html": [
       "<div>                            <div id=\"461c5352-b54c-4746-8f20-df32171d46f2\" class=\"plotly-graph-div\" style=\"height:600px; width:700px;\"></div>            <script type=\"text/javascript\">                require([\"plotly\"], function(Plotly) {                    window.PLOTLYENV=window.PLOTLYENV || {};                                    if (document.getElementById(\"461c5352-b54c-4746-8f20-df32171d46f2\")) {                    Plotly.newPlot(                        \"461c5352-b54c-4746-8f20-df32171d46f2\",                        [{\"hovertemplate\": \"Year=%{x}<br>Gross Rent=%{y}<extra></extra>\", \"legendgroup\": \"\", \"line\": {\"color\": \"#636efa\", \"dash\": \"solid\"}, \"mode\": \"lines\", \"name\": \"\", \"orientation\": \"v\", \"showlegend\": false, \"type\": \"scatter\", \"x\": [2010, 2011, 2012, 2013, 2014, 2015, 2016], \"xaxis\": \"x\", \"y\": [1239, 1530, 2324, 2971, 3528, 3739, 4390], \"yaxis\": \"y\"}],                        {\"height\": 600, \"legend\": {\"tracegroupgap\": 0}, \"template\": {\"data\": {\"bar\": [{\"error_x\": {\"color\": \"#2a3f5f\"}, \"error_y\": {\"color\": \"#2a3f5f\"}, \"marker\": {\"line\": {\"color\": \"#E5ECF6\", \"width\": 0.5}}, \"type\": \"bar\"}], \"barpolar\": [{\"marker\": {\"line\": {\"color\": \"#E5ECF6\", \"width\": 0.5}}, \"type\": \"barpolar\"}], \"carpet\": [{\"aaxis\": {\"endlinecolor\": \"#2a3f5f\", \"gridcolor\": \"white\", \"linecolor\": \"white\", \"minorgridcolor\": \"white\", \"startlinecolor\": \"#2a3f5f\"}, \"baxis\": {\"endlinecolor\": \"#2a3f5f\", \"gridcolor\": \"white\", \"linecolor\": \"white\", \"minorgridcolor\": \"white\", \"startlinecolor\": \"#2a3f5f\"}, \"type\": \"carpet\"}], \"choropleth\": [{\"colorbar\": {\"outlinewidth\": 0, \"ticks\": \"\"}, \"type\": \"choropleth\"}], \"contour\": [{\"colorbar\": {\"outlinewidth\": 0, \"ticks\": \"\"}, \"colorscale\": [[0.0, \"#0d0887\"], [0.1111111111111111, \"#46039f\"], [0.2222222222222222, \"#7201a8\"], [0.3333333333333333, \"#9c179e\"], [0.4444444444444444, \"#bd3786\"], [0.5555555555555556, \"#d8576b\"], [0.6666666666666666, \"#ed7953\"], [0.7777777777777778, \"#fb9f3a\"], [0.8888888888888888, \"#fdca26\"], [1.0, \"#f0f921\"]], \"type\": \"contour\"}], \"contourcarpet\": [{\"colorbar\": {\"outlinewidth\": 0, \"ticks\": \"\"}, \"type\": \"contourcarpet\"}], \"heatmap\": [{\"colorbar\": {\"outlinewidth\": 0, \"ticks\": \"\"}, \"colorscale\": [[0.0, \"#0d0887\"], [0.1111111111111111, \"#46039f\"], [0.2222222222222222, \"#7201a8\"], [0.3333333333333333, \"#9c179e\"], [0.4444444444444444, \"#bd3786\"], [0.5555555555555556, \"#d8576b\"], [0.6666666666666666, \"#ed7953\"], [0.7777777777777778, \"#fb9f3a\"], [0.8888888888888888, \"#fdca26\"], [1.0, \"#f0f921\"]], \"type\": \"heatmap\"}], \"heatmapgl\": [{\"colorbar\": {\"outlinewidth\": 0, \"ticks\": \"\"}, \"colorscale\": [[0.0, \"#0d0887\"], [0.1111111111111111, \"#46039f\"], [0.2222222222222222, \"#7201a8\"], [0.3333333333333333, \"#9c179e\"], [0.4444444444444444, \"#bd3786\"], [0.5555555555555556, \"#d8576b\"], [0.6666666666666666, \"#ed7953\"], [0.7777777777777778, \"#fb9f3a\"], [0.8888888888888888, \"#fdca26\"], [1.0, \"#f0f921\"]], \"type\": \"heatmapgl\"}], \"histogram\": [{\"marker\": {\"colorbar\": {\"outlinewidth\": 0, \"ticks\": \"\"}}, \"type\": \"histogram\"}], \"histogram2d\": [{\"colorbar\": {\"outlinewidth\": 0, \"ticks\": \"\"}, \"colorscale\": [[0.0, \"#0d0887\"], [0.1111111111111111, \"#46039f\"], [0.2222222222222222, \"#7201a8\"], [0.3333333333333333, \"#9c179e\"], [0.4444444444444444, \"#bd3786\"], [0.5555555555555556, \"#d8576b\"], [0.6666666666666666, \"#ed7953\"], [0.7777777777777778, \"#fb9f3a\"], [0.8888888888888888, \"#fdca26\"], [1.0, \"#f0f921\"]], \"type\": \"histogram2d\"}], \"histogram2dcontour\": [{\"colorbar\": {\"outlinewidth\": 0, \"ticks\": \"\"}, \"colorscale\": [[0.0, \"#0d0887\"], [0.1111111111111111, \"#46039f\"], [0.2222222222222222, \"#7201a8\"], [0.3333333333333333, \"#9c179e\"], [0.4444444444444444, \"#bd3786\"], [0.5555555555555556, \"#d8576b\"], [0.6666666666666666, \"#ed7953\"], [0.7777777777777778, \"#fb9f3a\"], [0.8888888888888888, \"#fdca26\"], [1.0, \"#f0f921\"]], \"type\": \"histogram2dcontour\"}], \"mesh3d\": [{\"colorbar\": {\"outlinewidth\": 0, \"ticks\": \"\"}, \"type\": \"mesh3d\"}], \"parcoords\": [{\"line\": {\"colorbar\": {\"outlinewidth\": 0, \"ticks\": \"\"}}, \"type\": \"parcoords\"}], \"pie\": [{\"automargin\": true, \"type\": \"pie\"}], \"scatter\": [{\"marker\": {\"colorbar\": {\"outlinewidth\": 0, \"ticks\": \"\"}}, \"type\": \"scatter\"}], \"scatter3d\": [{\"line\": {\"colorbar\": {\"outlinewidth\": 0, \"ticks\": \"\"}}, \"marker\": {\"colorbar\": {\"outlinewidth\": 0, \"ticks\": \"\"}}, \"type\": \"scatter3d\"}], \"scattercarpet\": [{\"marker\": {\"colorbar\": {\"outlinewidth\": 0, \"ticks\": \"\"}}, \"type\": \"scattercarpet\"}], \"scattergeo\": [{\"marker\": {\"colorbar\": {\"outlinewidth\": 0, \"ticks\": \"\"}}, \"type\": \"scattergeo\"}], \"scattergl\": [{\"marker\": {\"colorbar\": {\"outlinewidth\": 0, \"ticks\": \"\"}}, \"type\": \"scattergl\"}], \"scattermapbox\": [{\"marker\": {\"colorbar\": {\"outlinewidth\": 0, \"ticks\": \"\"}}, \"type\": \"scattermapbox\"}], \"scatterpolar\": [{\"marker\": {\"colorbar\": {\"outlinewidth\": 0, \"ticks\": \"\"}}, \"type\": \"scatterpolar\"}], \"scatterpolargl\": [{\"marker\": {\"colorbar\": {\"outlinewidth\": 0, \"ticks\": \"\"}}, \"type\": \"scatterpolargl\"}], \"scatterternary\": [{\"marker\": {\"colorbar\": {\"outlinewidth\": 0, \"ticks\": \"\"}}, \"type\": \"scatterternary\"}], \"surface\": [{\"colorbar\": {\"outlinewidth\": 0, \"ticks\": \"\"}, \"colorscale\": [[0.0, \"#0d0887\"], [0.1111111111111111, \"#46039f\"], [0.2222222222222222, \"#7201a8\"], [0.3333333333333333, \"#9c179e\"], [0.4444444444444444, \"#bd3786\"], [0.5555555555555556, \"#d8576b\"], [0.6666666666666666, \"#ed7953\"], [0.7777777777777778, \"#fb9f3a\"], [0.8888888888888888, \"#fdca26\"], [1.0, \"#f0f921\"]], \"type\": \"surface\"}], \"table\": [{\"cells\": {\"fill\": {\"color\": \"#EBF0F8\"}, \"line\": {\"color\": \"white\"}}, \"header\": {\"fill\": {\"color\": \"#C8D4E3\"}, \"line\": {\"color\": \"white\"}}, \"type\": \"table\"}]}, \"layout\": {\"annotationdefaults\": {\"arrowcolor\": \"#2a3f5f\", \"arrowhead\": 0, \"arrowwidth\": 1}, \"coloraxis\": {\"colorbar\": {\"outlinewidth\": 0, \"ticks\": \"\"}}, \"colorscale\": {\"diverging\": [[0, \"#8e0152\"], [0.1, \"#c51b7d\"], [0.2, \"#de77ae\"], [0.3, \"#f1b6da\"], [0.4, \"#fde0ef\"], [0.5, \"#f7f7f7\"], [0.6, \"#e6f5d0\"], [0.7, \"#b8e186\"], [0.8, \"#7fbc41\"], [0.9, \"#4d9221\"], [1, \"#276419\"]], \"sequential\": [[0.0, \"#0d0887\"], [0.1111111111111111, \"#46039f\"], [0.2222222222222222, \"#7201a8\"], [0.3333333333333333, \"#9c179e\"], [0.4444444444444444, \"#bd3786\"], [0.5555555555555556, \"#d8576b\"], [0.6666666666666666, \"#ed7953\"], [0.7777777777777778, \"#fb9f3a\"], [0.8888888888888888, \"#fdca26\"], [1.0, \"#f0f921\"]], \"sequentialminus\": [[0.0, \"#0d0887\"], [0.1111111111111111, \"#46039f\"], [0.2222222222222222, \"#7201a8\"], [0.3333333333333333, \"#9c179e\"], [0.4444444444444444, \"#bd3786\"], [0.5555555555555556, \"#d8576b\"], [0.6666666666666666, \"#ed7953\"], [0.7777777777777778, \"#fb9f3a\"], [0.8888888888888888, \"#fdca26\"], [1.0, \"#f0f921\"]]}, \"colorway\": [\"#636efa\", \"#EF553B\", \"#00cc96\", \"#ab63fa\", \"#FFA15A\", \"#19d3f3\", \"#FF6692\", \"#B6E880\", \"#FF97FF\", \"#FECB52\"], \"font\": {\"color\": \"#2a3f5f\"}, \"geo\": {\"bgcolor\": \"white\", \"lakecolor\": \"white\", \"landcolor\": \"#E5ECF6\", \"showlakes\": true, \"showland\": true, \"subunitcolor\": \"white\"}, \"hoverlabel\": {\"align\": \"left\"}, \"hovermode\": \"closest\", \"mapbox\": {\"style\": \"light\"}, \"paper_bgcolor\": \"white\", \"plot_bgcolor\": \"#E5ECF6\", \"polar\": {\"angularaxis\": {\"gridcolor\": \"white\", \"linecolor\": \"white\", \"ticks\": \"\"}, \"bgcolor\": \"#E5ECF6\", \"radialaxis\": {\"gridcolor\": \"white\", \"linecolor\": \"white\", \"ticks\": \"\"}}, \"scene\": {\"xaxis\": {\"backgroundcolor\": \"#E5ECF6\", \"gridcolor\": \"white\", \"gridwidth\": 2, \"linecolor\": \"white\", \"showbackground\": true, \"ticks\": \"\", \"zerolinecolor\": \"white\"}, \"yaxis\": {\"backgroundcolor\": \"#E5ECF6\", \"gridcolor\": \"white\", \"gridwidth\": 2, \"linecolor\": \"white\", \"showbackground\": true, \"ticks\": \"\", \"zerolinecolor\": \"white\"}, \"zaxis\": {\"backgroundcolor\": \"#E5ECF6\", \"gridcolor\": \"white\", \"gridwidth\": 2, \"linecolor\": \"white\", \"showbackground\": true, \"ticks\": \"\", \"zerolinecolor\": \"white\"}}, \"shapedefaults\": {\"line\": {\"color\": \"#2a3f5f\"}}, \"ternary\": {\"aaxis\": {\"gridcolor\": \"white\", \"linecolor\": \"white\", \"ticks\": \"\"}, \"baxis\": {\"gridcolor\": \"white\", \"linecolor\": \"white\", \"ticks\": \"\"}, \"bgcolor\": \"#E5ECF6\", \"caxis\": {\"gridcolor\": \"white\", \"linecolor\": \"white\", \"ticks\": \"\"}}, \"title\": {\"x\": 0.05}, \"xaxis\": {\"automargin\": true, \"gridcolor\": \"white\", \"linecolor\": \"white\", \"ticks\": \"\", \"title\": {\"standoff\": 15}, \"zerolinecolor\": \"white\", \"zerolinewidth\": 2}, \"yaxis\": {\"automargin\": true, \"gridcolor\": \"white\", \"linecolor\": \"white\", \"ticks\": \"\", \"title\": {\"standoff\": 15}, \"zerolinecolor\": \"white\", \"zerolinewidth\": 2}}}, \"title\": {\"text\": \"San Francisco's Avereage Gross Rent\"}, \"width\": 700, \"xaxis\": {\"anchor\": \"y\", \"domain\": [0.0, 1.0], \"title\": {\"text\": \"Year\"}}, \"yaxis\": {\"anchor\": \"x\", \"domain\": [0.0, 1.0], \"title\": {\"text\": \"Gross Rent\"}}},                        {\"responsive\": true}                    ).then(function(){\n",
       "                            \n",
       "var gd = document.getElementById('461c5352-b54c-4746-8f20-df32171d46f2');\n",
       "var x = new MutationObserver(function (mutations, observer) {{\n",
       "        var display = window.getComputedStyle(gd).display;\n",
       "        if (!display || display === 'none') {{\n",
       "            console.log([gd, 'removed!']);\n",
       "            Plotly.purge(gd);\n",
       "            observer.disconnect();\n",
       "        }}\n",
       "}});\n",
       "\n",
       "// Listen for the removal of the full notebook cells\n",
       "var notebookContainer = gd.closest('#notebook-container');\n",
       "if (notebookContainer) {{\n",
       "    x.observe(notebookContainer, {childList: true});\n",
       "}}\n",
       "\n",
       "// Listen for the clearing of the current output cell\n",
       "var outputEl = gd.closest('.output');\n",
       "if (outputEl) {{\n",
       "    x.observe(outputEl, {childList: true});\n",
       "}}\n",
       "\n",
       "                        })                };                });            </script>        </div>"
      ]
     },
     "metadata": {},
     "output_type": "display_data"
    }
   ],
   "source": [
    "average_gross_rent()"
   ]
  },
  {
   "cell_type": "code",
   "execution_count": 36,
   "metadata": {},
   "outputs": [],
   "source": [
    "def average_sales_price():\n",
    "    \"\"\"Average Sales Price Per Year.\"\"\"\n",
    "    \n",
    "    average_price_df = pd.DataFrame(sfo_data.groupby(['year']).mean()['sale_price_sqr_foot'])\n",
    "    \n",
    "    average_sales_plot = average_price_df.hvplot(figsize=(20, 10),title='Average Sales Price per Year In San Francisco')\n",
    "    \n",
    "    return average_sales_plot"
   ]
  },
  {
   "cell_type": "code",
   "execution_count": 37,
   "metadata": {},
   "outputs": [
    {
     "data": {
      "application/vnd.holoviews_exec.v0+json": "",
      "text/html": [
       "<div id='2217'>\n",
       "\n",
       "\n",
       "\n",
       "\n",
       "\n",
       "  <div class=\"bk-root\" id=\"70686d28-57f3-4005-aa91-7b84de950710\" data-root-id=\"2217\"></div>\n",
       "</div>\n",
       "<script type=\"application/javascript\">(function(root) {\n",
       "  function embed_document(root) {\n",
       "  var docs_json = {\"68fa7303-6e48-4b9d-86bd-cbfb4d09ab0c\":{\"roots\":{\"references\":[{\"attributes\":{},\"id\":\"2232\",\"type\":\"BasicTicker\"},{\"attributes\":{\"margin\":[5,5,5,5],\"name\":\"HSpacer03548\",\"sizing_mode\":\"stretch_width\"},\"id\":\"2218\",\"type\":\"Spacer\"},{\"attributes\":{\"active_drag\":\"auto\",\"active_inspect\":\"auto\",\"active_multi\":null,\"active_scroll\":\"auto\",\"active_tap\":\"auto\",\"tools\":[{\"id\":\"2221\"},{\"id\":\"2239\"},{\"id\":\"2240\"},{\"id\":\"2241\"},{\"id\":\"2242\"},{\"id\":\"2243\"}]},\"id\":\"2245\",\"type\":\"Toolbar\"},{\"attributes\":{\"axis_label\":\"sale_price_sqr_foot\",\"bounds\":\"auto\",\"formatter\":{\"id\":\"2263\"},\"major_label_orientation\":\"horizontal\",\"ticker\":{\"id\":\"2236\"}},\"id\":\"2235\",\"type\":\"LinearAxis\"},{\"attributes\":{\"axis\":{\"id\":\"2235\"},\"dimension\":1,\"grid_line_color\":null,\"ticker\":null},\"id\":\"2238\",\"type\":\"Grid\"},{\"attributes\":{\"end\":733.2177371101802,\"reset_end\":733.2177371101802,\"reset_start\":306.3294011864627,\"start\":306.3294011864627,\"tags\":[[[\"sale_price_sqr_foot\",\"sale_price_sqr_foot\",null]]]},\"id\":\"2220\",\"type\":\"Range1d\"},{\"attributes\":{\"callback\":null,\"renderers\":[{\"id\":\"2258\"}],\"tags\":[\"hv_created\"],\"tooltips\":[[\"year\",\"@{year}\"],[\"sale_price_sqr_foot\",\"@{sale_price_sqr_foot}\"]]},\"id\":\"2221\",\"type\":\"HoverTool\"},{\"attributes\":{\"margin\":[5,5,5,5],\"name\":\"HSpacer03549\",\"sizing_mode\":\"stretch_width\"},\"id\":\"2280\",\"type\":\"Spacer\"},{\"attributes\":{\"bottom_units\":\"screen\",\"fill_alpha\":0.5,\"fill_color\":\"lightgrey\",\"left_units\":\"screen\",\"level\":\"overlay\",\"line_alpha\":1.0,\"line_color\":\"black\",\"line_dash\":[4,4],\"line_width\":2,\"right_units\":\"screen\",\"top_units\":\"screen\"},\"id\":\"2244\",\"type\":\"BoxAnnotation\"},{\"attributes\":{\"line_alpha\":0.1,\"line_color\":\"#1f77b3\",\"line_width\":2,\"x\":{\"field\":\"year\"},\"y\":{\"field\":\"sale_price_sqr_foot\"}},\"id\":\"2256\",\"type\":\"Line\"},{\"attributes\":{},\"id\":\"2253\",\"type\":\"Selection\"},{\"attributes\":{},\"id\":\"2236\",\"type\":\"BasicTicker\"},{\"attributes\":{},\"id\":\"2270\",\"type\":\"UnionRenderers\"},{\"attributes\":{},\"id\":\"2239\",\"type\":\"SaveTool\"},{\"attributes\":{\"below\":[{\"id\":\"2231\"}],\"center\":[{\"id\":\"2234\"},{\"id\":\"2238\"}],\"left\":[{\"id\":\"2235\"}],\"margin\":null,\"min_border_bottom\":10,\"min_border_left\":10,\"min_border_right\":10,\"min_border_top\":10,\"plot_height\":300,\"plot_width\":700,\"renderers\":[{\"id\":\"2258\"}],\"sizing_mode\":\"fixed\",\"title\":{\"id\":\"2223\"},\"toolbar\":{\"id\":\"2245\"},\"x_range\":{\"id\":\"2219\"},\"x_scale\":{\"id\":\"2227\"},\"y_range\":{\"id\":\"2220\"},\"y_scale\":{\"id\":\"2229\"}},\"id\":\"2222\",\"subtype\":\"Figure\",\"type\":\"Plot\"},{\"attributes\":{},\"id\":\"2241\",\"type\":\"WheelZoomTool\"},{\"attributes\":{\"data\":{\"sale_price_sqr_foot\":{\"__ndarray__\":\"tQKjeIIVd0Do7CdydF51QGdijk899nhAaBKk2Jo5fkDGKCTbN2KBQPETFqRSxINAUB33UCbNhUA=\",\"dtype\":\"float64\",\"order\":\"little\",\"shape\":[7]},\"year\":[2010,2011,2012,2013,2014,2015,2016]},\"selected\":{\"id\":\"2253\"},\"selection_policy\":{\"id\":\"2270\"}},\"id\":\"2252\",\"type\":\"ColumnDataSource\"},{\"attributes\":{\"line_color\":\"#1f77b3\",\"line_width\":2,\"x\":{\"field\":\"year\"},\"y\":{\"field\":\"sale_price_sqr_foot\"}},\"id\":\"2255\",\"type\":\"Line\"},{\"attributes\":{},\"id\":\"2240\",\"type\":\"PanTool\"},{\"attributes\":{\"overlay\":{\"id\":\"2244\"}},\"id\":\"2242\",\"type\":\"BoxZoomTool\"},{\"attributes\":{\"text\":\"Average Sales Price per Year In San Francisco\",\"text_color\":{\"value\":\"black\"},\"text_font_size\":{\"value\":\"12pt\"}},\"id\":\"2223\",\"type\":\"Title\"},{\"attributes\":{\"axis_label\":\"year\",\"bounds\":\"auto\",\"formatter\":{\"id\":\"2261\"},\"major_label_orientation\":\"horizontal\",\"ticker\":{\"id\":\"2232\"}},\"id\":\"2231\",\"type\":\"LinearAxis\"},{\"attributes\":{\"data_source\":{\"id\":\"2252\"},\"glyph\":{\"id\":\"2255\"},\"hover_glyph\":null,\"muted_glyph\":{\"id\":\"2257\"},\"nonselection_glyph\":{\"id\":\"2256\"},\"selection_glyph\":null,\"view\":{\"id\":\"2259\"}},\"id\":\"2258\",\"type\":\"GlyphRenderer\"},{\"attributes\":{},\"id\":\"2243\",\"type\":\"ResetTool\"},{\"attributes\":{},\"id\":\"2229\",\"type\":\"LinearScale\"},{\"attributes\":{},\"id\":\"2261\",\"type\":\"BasicTickFormatter\"},{\"attributes\":{},\"id\":\"2263\",\"type\":\"BasicTickFormatter\"},{\"attributes\":{\"children\":[{\"id\":\"2218\"},{\"id\":\"2222\"},{\"id\":\"2280\"}],\"margin\":[0,0,0,0],\"name\":\"Row03544\",\"tags\":[\"embedded\"]},\"id\":\"2217\",\"type\":\"Row\"},{\"attributes\":{\"line_alpha\":0.2,\"line_color\":\"#1f77b3\",\"line_width\":2,\"x\":{\"field\":\"year\"},\"y\":{\"field\":\"sale_price_sqr_foot\"}},\"id\":\"2257\",\"type\":\"Line\"},{\"attributes\":{},\"id\":\"2227\",\"type\":\"LinearScale\"},{\"attributes\":{\"axis\":{\"id\":\"2231\"},\"grid_line_color\":null,\"ticker\":null},\"id\":\"2234\",\"type\":\"Grid\"},{\"attributes\":{\"end\":2016.0,\"reset_end\":2016.0,\"reset_start\":2010.0,\"start\":2010.0,\"tags\":[[[\"year\",\"year\",null]]]},\"id\":\"2219\",\"type\":\"Range1d\"},{\"attributes\":{\"source\":{\"id\":\"2252\"}},\"id\":\"2259\",\"type\":\"CDSView\"}],\"root_ids\":[\"2217\"]},\"title\":\"Bokeh Application\",\"version\":\"2.1.1\"}};\n",
       "  var render_items = [{\"docid\":\"68fa7303-6e48-4b9d-86bd-cbfb4d09ab0c\",\"root_ids\":[\"2217\"],\"roots\":{\"2217\":\"70686d28-57f3-4005-aa91-7b84de950710\"}}];\n",
       "  root.Bokeh.embed.embed_items_notebook(docs_json, render_items);\n",
       "  }\n",
       "if (root.Bokeh !== undefined) {\n",
       "    embed_document(root);\n",
       "  } else {\n",
       "    var attempts = 0;\n",
       "    var timer = setInterval(function(root) {\n",
       "      if (root.Bokeh !== undefined) {\n",
       "        clearInterval(timer);\n",
       "        embed_document(root);\n",
       "      } else if (document.readyState == \"complete\") {\n",
       "        attempts++;\n",
       "        if (attempts > 100) {\n",
       "          clearInterval(timer);\n",
       "          console.log(\"Bokeh: ERROR: Unable to run BokehJS code because BokehJS library is missing\");\n",
       "        }\n",
       "      }\n",
       "    }, 10, root)\n",
       "  }\n",
       "})(window);</script>"
      ],
      "text/plain": [
       ":Curve   [year]   (sale_price_sqr_foot)"
      ]
     },
     "execution_count": 37,
     "metadata": {
      "application/vnd.holoviews_exec.v0+json": {
       "id": "2217"
      }
     },
     "output_type": "execute_result"
    }
   ],
   "source": [
    "average_sales_price()"
   ]
  },
  {
   "cell_type": "code",
   "execution_count": 38,
   "metadata": {},
   "outputs": [],
   "source": [
    "def average_price_by_neighborhood():\n",
    "    \"\"\"Average Prices by Neighborhood.\"\"\"\n",
    "    sf_avg_neighborhood = sfo_data.groupby([\"year\",\"neighborhood\"]).mean()\n",
    "    sf_avg_neighborhood.reset_index(inplace=True)\n",
    "    sf_avg_neighborhood_plot = sf_avg_neighborhood.hvplot.line(x='year',y='sale_price_sqr_foot', ylabel='sales price per square foot on average',groupby='neighborhood')\n",
    "    return sf_avg_neighborhood_plot\n",
    "    "
   ]
  },
  {
   "cell_type": "code",
   "execution_count": 39,
   "metadata": {},
   "outputs": [
    {
     "data": {
      "application/vnd.holoviews_exec.v0+json": "",
      "text/html": [
       "<div id='2322'>\n",
       "\n",
       "\n",
       "\n",
       "\n",
       "\n",
       "  <div class=\"bk-root\" id=\"9b1409a5-c605-4c81-a57e-2e74d27af2a4\" data-root-id=\"2322\"></div>\n",
       "</div>\n",
       "<script type=\"application/javascript\">(function(root) {\n",
       "  function embed_document(root) {\n",
       "  var docs_json = {\"353340fb-78ad-4c27-8c8a-3959a15456d2\":{\"roots\":{\"references\":[{\"attributes\":{\"children\":[{\"id\":\"2323\"},{\"id\":\"2327\"},{\"id\":\"2389\"},{\"id\":\"2390\"}],\"margin\":[0,0,0,0],\"name\":\"Row03673\"},\"id\":\"2322\",\"type\":\"Row\"},{\"attributes\":{\"callback\":null,\"renderers\":[{\"id\":\"2363\"}],\"tags\":[\"hv_created\"],\"tooltips\":[[\"year\",\"@{year}\"],[\"sale_price_sqr_foot\",\"@{sale_price_sqr_foot}\"]]},\"id\":\"2326\",\"type\":\"HoverTool\"},{\"attributes\":{},\"id\":\"2348\",\"type\":\"ResetTool\"},{\"attributes\":{\"margin\":[5,5,5,5],\"name\":\"VSpacer03679\",\"sizing_mode\":\"stretch_height\"},\"id\":\"2391\",\"type\":\"Spacer\"},{\"attributes\":{},\"id\":\"2332\",\"type\":\"LinearScale\"},{\"attributes\":{\"axis\":{\"id\":\"2336\"},\"grid_line_color\":null,\"ticker\":null},\"id\":\"2339\",\"type\":\"Grid\"},{\"attributes\":{\"bottom_units\":\"screen\",\"fill_alpha\":0.5,\"fill_color\":\"lightgrey\",\"left_units\":\"screen\",\"level\":\"overlay\",\"line_alpha\":1.0,\"line_color\":\"black\",\"line_dash\":[4,4],\"line_width\":2,\"right_units\":\"screen\",\"top_units\":\"screen\"},\"id\":\"2349\",\"type\":\"BoxAnnotation\"},{\"attributes\":{\"client_comm_id\":\"8e67a7318fd0488193bb14c4d78c54e3\",\"comm_id\":\"c191c18e2afe4d5898ab4d47dce5814b\",\"plot_id\":\"2322\"},\"id\":\"2419\",\"type\":\"panel.models.comm_manager.CommManager\"},{\"attributes\":{\"axis_label\":\"year\",\"bounds\":\"auto\",\"formatter\":{\"id\":\"2366\"},\"major_label_orientation\":\"horizontal\",\"ticker\":{\"id\":\"2337\"}},\"id\":\"2336\",\"type\":\"LinearAxis\"},{\"attributes\":{},\"id\":\"2337\",\"type\":\"BasicTicker\"},{\"attributes\":{\"margin\":[5,5,5,5],\"name\":\"HSpacer03682\",\"sizing_mode\":\"stretch_width\"},\"id\":\"2323\",\"type\":\"Spacer\"},{\"attributes\":{},\"id\":\"2341\",\"type\":\"BasicTicker\"},{\"attributes\":{\"below\":[{\"id\":\"2336\"}],\"center\":[{\"id\":\"2339\"},{\"id\":\"2343\"}],\"left\":[{\"id\":\"2340\"}],\"margin\":null,\"min_border_bottom\":10,\"min_border_left\":10,\"min_border_right\":10,\"min_border_top\":10,\"plot_height\":300,\"plot_width\":700,\"renderers\":[{\"id\":\"2363\"}],\"sizing_mode\":\"fixed\",\"title\":{\"id\":\"2328\"},\"toolbar\":{\"id\":\"2350\"},\"x_range\":{\"id\":\"2324\"},\"x_scale\":{\"id\":\"2332\"},\"y_range\":{\"id\":\"2325\"},\"y_scale\":{\"id\":\"2334\"}},\"id\":\"2327\",\"subtype\":\"Figure\",\"type\":\"Plot\"},{\"attributes\":{\"axis_label\":\"sales price per square foot on average\",\"bounds\":\"auto\",\"formatter\":{\"id\":\"2368\"},\"major_label_orientation\":\"horizontal\",\"ticker\":{\"id\":\"2341\"}},\"id\":\"2340\",\"type\":\"LinearAxis\"},{\"attributes\":{\"axis\":{\"id\":\"2340\"},\"dimension\":1,\"grid_line_color\":null,\"ticker\":null},\"id\":\"2343\",\"type\":\"Grid\"},{\"attributes\":{\"margin\":[20,20,20,20],\"min_width\":250,\"options\":[\"Alamo Square\",\"Anza Vista\",\"Bayview\",\"Buena Vista Park\",\"Central Richmond\",\"Central Sunset\",\"Corona Heights\",\"Cow Hollow\",\"Croker Amazon\",\"Diamond Heights\",\"Downtown \",\"Eureka Valley/Dolores Heights\",\"Excelsior\",\"Financial District North\",\"Financial District South\",\"Forest Knolls\",\"Glen Park\",\"Golden Gate Heights\",\"Haight Ashbury\",\"Hayes Valley\",\"Hunters Point\",\"Ingleside \",\"Inner Mission\",\"Inner Parkside\",\"Inner Richmond\",\"Inner Sunset\",\"Jordan Park/Laurel Heights\",\"Lake --The Presidio\",\"Lone Mountain\",\"Lower Pacific Heights\",\"Marina\",\"Miraloma Park\",\"Mission Bay\",\"Mission Dolores\",\"Mission Terrace\",\"Nob Hill\",\"Noe Valley\",\"Oceanview\",\"Outer Parkside\",\"Outer Richmond \",\"Outer Sunset\",\"Pacific Heights\",\"Park North\",\"Parkside\",\"Parnassus/Ashbury Heights\",\"Portola\",\"Potrero Hill\",\"Presidio Heights\",\"Russian Hill\",\"South Beach\",\"South of Market\",\"Sunnyside\",\"Telegraph Hill\",\"Twin Peaks\",\"Union Square District\",\"Van Ness/ Civic Center\",\"West Portal\",\"Western Addition\",\"Yerba Buena\",\"Bernal Heights \",\"Clarendon Heights\",\"Duboce Triangle\",\"Ingleside Heights\",\"North Beach\",\"North Waterfront\",\"Outer Mission\",\"Westwood Highlands\",\"Merced Heights\",\"Midtown Terrace\",\"Visitacion Valley\",\"Silver Terrace\",\"Westwood Park\",\"Bayview Heights\"],\"title\":\"neighborhood\",\"value\":\"Alamo Square\",\"width\":250},\"id\":\"2393\",\"type\":\"Select\"},{\"attributes\":{\"margin\":[5,5,5,5],\"name\":\"HSpacer03683\",\"sizing_mode\":\"stretch_width\"},\"id\":\"2389\",\"type\":\"Spacer\"},{\"attributes\":{\"end\":644.0175329447045,\"reset_end\":644.0175329447045,\"reset_start\":141.1976609302527,\"start\":141.1976609302527,\"tags\":[[[\"sale_price_sqr_foot\",\"sale_price_sqr_foot\",null]]]},\"id\":\"2325\",\"type\":\"Range1d\"},{\"attributes\":{\"source\":{\"id\":\"2357\"}},\"id\":\"2364\",\"type\":\"CDSView\"},{\"attributes\":{\"margin\":[5,5,5,5],\"name\":\"VSpacer03680\",\"sizing_mode\":\"stretch_height\"},\"id\":\"2394\",\"type\":\"Spacer\"},{\"attributes\":{},\"id\":\"2379\",\"type\":\"UnionRenderers\"},{\"attributes\":{\"data\":{\"sale_price_sqr_foot\":{\"__ndarray__\":\"Dkc7WO0yckCafszcbwhxQIGRs5ot42ZAJzog0LQ8eEAWMinKGEd+QI0V5FDt0IJAVCHcmLVPdUA=\",\"dtype\":\"float64\",\"order\":\"little\",\"shape\":[7]},\"year\":[2010,2011,2012,2013,2014,2015,2016]},\"selected\":{\"id\":\"2358\"},\"selection_policy\":{\"id\":\"2379\"}},\"id\":\"2357\",\"type\":\"ColumnDataSource\"},{\"attributes\":{},\"id\":\"2366\",\"type\":\"BasicTickFormatter\"},{\"attributes\":{\"line_alpha\":0.1,\"line_color\":\"#1f77b3\",\"line_width\":2,\"x\":{\"field\":\"year\"},\"y\":{\"field\":\"sale_price_sqr_foot\"}},\"id\":\"2361\",\"type\":\"Line\"},{\"attributes\":{},\"id\":\"2368\",\"type\":\"BasicTickFormatter\"},{\"attributes\":{},\"id\":\"2358\",\"type\":\"Selection\"},{\"attributes\":{\"line_color\":\"#1f77b3\",\"line_width\":2,\"x\":{\"field\":\"year\"},\"y\":{\"field\":\"sale_price_sqr_foot\"}},\"id\":\"2360\",\"type\":\"Line\"},{\"attributes\":{\"active_drag\":\"auto\",\"active_inspect\":\"auto\",\"active_multi\":null,\"active_scroll\":\"auto\",\"active_tap\":\"auto\",\"tools\":[{\"id\":\"2326\"},{\"id\":\"2344\"},{\"id\":\"2345\"},{\"id\":\"2346\"},{\"id\":\"2347\"},{\"id\":\"2348\"}]},\"id\":\"2350\",\"type\":\"Toolbar\"},{\"attributes\":{},\"id\":\"2344\",\"type\":\"SaveTool\"},{\"attributes\":{},\"id\":\"2346\",\"type\":\"WheelZoomTool\"},{\"attributes\":{\"data_source\":{\"id\":\"2357\"},\"glyph\":{\"id\":\"2360\"},\"hover_glyph\":null,\"muted_glyph\":{\"id\":\"2362\"},\"nonselection_glyph\":{\"id\":\"2361\"},\"selection_glyph\":null,\"view\":{\"id\":\"2364\"}},\"id\":\"2363\",\"type\":\"GlyphRenderer\"},{\"attributes\":{\"children\":[{\"id\":\"2393\"}],\"css_classes\":[\"panel-widget-box\"],\"margin\":[5,5,5,5],\"name\":\"WidgetBox03674\"},\"id\":\"2392\",\"type\":\"Column\"},{\"attributes\":{},\"id\":\"2345\",\"type\":\"PanTool\"},{\"attributes\":{\"overlay\":{\"id\":\"2349\"}},\"id\":\"2347\",\"type\":\"BoxZoomTool\"},{\"attributes\":{\"children\":[{\"id\":\"2391\"},{\"id\":\"2392\"},{\"id\":\"2394\"}],\"margin\":[0,0,0,0],\"name\":\"Column03681\"},\"id\":\"2390\",\"type\":\"Column\"},{\"attributes\":{\"text\":\"neighborhood: Alamo Square\",\"text_color\":{\"value\":\"black\"},\"text_font_size\":{\"value\":\"12pt\"}},\"id\":\"2328\",\"type\":\"Title\"},{\"attributes\":{\"end\":2016.0,\"reset_end\":2016.0,\"reset_start\":2010.0,\"start\":2010.0,\"tags\":[[[\"year\",\"year\",null]]]},\"id\":\"2324\",\"type\":\"Range1d\"},{\"attributes\":{\"line_alpha\":0.2,\"line_color\":\"#1f77b3\",\"line_width\":2,\"x\":{\"field\":\"year\"},\"y\":{\"field\":\"sale_price_sqr_foot\"}},\"id\":\"2362\",\"type\":\"Line\"},{\"attributes\":{},\"id\":\"2334\",\"type\":\"LinearScale\"}],\"root_ids\":[\"2322\",\"2419\"]},\"title\":\"Bokeh Application\",\"version\":\"2.1.1\"}};\n",
       "  var render_items = [{\"docid\":\"353340fb-78ad-4c27-8c8a-3959a15456d2\",\"root_ids\":[\"2322\"],\"roots\":{\"2322\":\"9b1409a5-c605-4c81-a57e-2e74d27af2a4\"}}];\n",
       "  root.Bokeh.embed.embed_items_notebook(docs_json, render_items);\n",
       "  }\n",
       "if (root.Bokeh !== undefined) {\n",
       "    embed_document(root);\n",
       "  } else {\n",
       "    var attempts = 0;\n",
       "    var timer = setInterval(function(root) {\n",
       "      if (root.Bokeh !== undefined) {\n",
       "        clearInterval(timer);\n",
       "        embed_document(root);\n",
       "      } else if (document.readyState == \"complete\") {\n",
       "        attempts++;\n",
       "        if (attempts > 100) {\n",
       "          clearInterval(timer);\n",
       "          console.log(\"Bokeh: ERROR: Unable to run BokehJS code because BokehJS library is missing\");\n",
       "        }\n",
       "      }\n",
       "    }, 10, root)\n",
       "  }\n",
       "})(window);</script>"
      ],
      "text/plain": [
       ":DynamicMap   [neighborhood]\n",
       "   :Curve   [year]   (sale_price_sqr_foot)"
      ]
     },
     "execution_count": 39,
     "metadata": {
      "application/vnd.holoviews_exec.v0+json": {
       "id": "2322"
      }
     },
     "output_type": "execute_result"
    }
   ],
   "source": [
    "average_price_by_neighborhood()"
   ]
  },
  {
   "cell_type": "code",
   "execution_count": 40,
   "metadata": {},
   "outputs": [],
   "source": [
    "def top_most_expensive_neighborhoods():\n",
    "    \"\"\"Top 10 Most Expensive Neighborhoods.\"\"\"\n",
    "    sf_expensive_neighborhoods = sfo_data.groupby('neighborhood').mean()\n",
    "    sf_expensive_neighborhoods.sort_values(by = 'sale_price_sqr_foot', ascending=False, inplace=True)\n",
    "    sf_expensive_neighborhoods.reset_index(inplace=True)\n",
    "    sf_expensive_neighborhoods = sf_expensive_neighborhoods.head(10)\n",
    "    sf_most_expensive_neighborhoods = sf_expensive_neighborhoods.hvplot.line(\n",
    "        x='neighborhood', \n",
    "        y='sale_price_sqr_foot',\n",
    "        rot=90, \n",
    "        height=400)\n",
    "    return sf_most_expensive_neighborhoods\n",
    "    "
   ]
  },
  {
   "cell_type": "code",
   "execution_count": 41,
   "metadata": {},
   "outputs": [
    {
     "data": {
      "application/vnd.holoviews_exec.v0+json": "",
      "text/html": [
       "<div id='2460'>\n",
       "\n",
       "\n",
       "\n",
       "\n",
       "\n",
       "  <div class=\"bk-root\" id=\"86cc8718-9896-4287-880e-8c75c030ba26\" data-root-id=\"2460\"></div>\n",
       "</div>\n",
       "<script type=\"application/javascript\">(function(root) {\n",
       "  function embed_document(root) {\n",
       "  var docs_json = {\"fdee8cb0-b63f-4b17-8465-93298d7f7072\":{\"roots\":{\"references\":[{\"attributes\":{},\"id\":\"2505\",\"type\":\"BasicTickFormatter\"},{\"attributes\":{\"end\":929.3801355198136,\"reset_end\":929.3801355198136,\"reset_start\":624.7376013468238,\"start\":624.7376013468238,\"tags\":[[[\"sale_price_sqr_foot\",\"sale_price_sqr_foot\",null]]]},\"id\":\"2463\",\"type\":\"Range1d\"},{\"attributes\":{},\"id\":\"2503\",\"type\":\"CategoricalTickFormatter\"},{\"attributes\":{\"below\":[{\"id\":\"2474\"}],\"center\":[{\"id\":\"2476\"},{\"id\":\"2480\"}],\"left\":[{\"id\":\"2477\"}],\"margin\":null,\"min_border_bottom\":10,\"min_border_left\":10,\"min_border_right\":10,\"min_border_top\":10,\"plot_height\":400,\"plot_width\":700,\"renderers\":[{\"id\":\"2500\"}],\"sizing_mode\":\"fixed\",\"title\":{\"id\":\"2466\"},\"toolbar\":{\"id\":\"2487\"},\"x_range\":{\"id\":\"2462\"},\"x_scale\":{\"id\":\"2470\"},\"y_range\":{\"id\":\"2463\"},\"y_scale\":{\"id\":\"2472\"}},\"id\":\"2465\",\"subtype\":\"Figure\",\"type\":\"Plot\"},{\"attributes\":{\"callback\":null,\"renderers\":[{\"id\":\"2500\"}],\"tags\":[\"hv_created\"],\"tooltips\":[[\"neighborhood\",\"@{neighborhood}\"],[\"sale_price_sqr_foot\",\"@{sale_price_sqr_foot}\"]]},\"id\":\"2464\",\"type\":\"HoverTool\"},{\"attributes\":{},\"id\":\"2481\",\"type\":\"SaveTool\"},{\"attributes\":{\"line_alpha\":0.2,\"line_color\":\"#1f77b3\",\"line_width\":2,\"x\":{\"field\":\"neighborhood\"},\"y\":{\"field\":\"sale_price_sqr_foot\"}},\"id\":\"2499\",\"type\":\"Line\"},{\"attributes\":{},\"id\":\"2483\",\"type\":\"WheelZoomTool\"},{\"attributes\":{},\"id\":\"2482\",\"type\":\"PanTool\"},{\"attributes\":{\"text\":\"\",\"text_color\":{\"value\":\"black\"},\"text_font_size\":{\"value\":\"12pt\"}},\"id\":\"2466\",\"type\":\"Title\"},{\"attributes\":{\"overlay\":{\"id\":\"2486\"}},\"id\":\"2484\",\"type\":\"BoxZoomTool\"},{\"attributes\":{\"data\":{\"neighborhood\":[\"Union Square District\",\"Merced Heights\",\"Miraloma Park\",\"Pacific Heights\",\"Westwood Park\",\"Telegraph Hill\",\"Presidio Heights\",\"Cow Hollow\",\"Potrero Hill\",\"South Beach\"],\"sale_price_sqr_foot\":{\"__ndarray__\":\"JRAUMfI/jEB9IrkvwqaIQFx/3pp8XohAFpsVUHKMhUBs0ERas3iFQL0KhXgNJIVAy835O80ahUANV25bts+EQJrMCuEbsIRAya3y7v5QhEA=\",\"dtype\":\"float64\",\"order\":\"little\",\"shape\":[10]}},\"selected\":{\"id\":\"2495\"},\"selection_policy\":{\"id\":\"2512\"}},\"id\":\"2494\",\"type\":\"ColumnDataSource\"},{\"attributes\":{\"line_alpha\":0.1,\"line_color\":\"#1f77b3\",\"line_width\":2,\"x\":{\"field\":\"neighborhood\"},\"y\":{\"field\":\"sale_price_sqr_foot\"}},\"id\":\"2498\",\"type\":\"Line\"},{\"attributes\":{},\"id\":\"2472\",\"type\":\"LinearScale\"},{\"attributes\":{},\"id\":\"2485\",\"type\":\"ResetTool\"},{\"attributes\":{\"margin\":[5,5,5,5],\"name\":\"HSpacer03987\",\"sizing_mode\":\"stretch_width\"},\"id\":\"2522\",\"type\":\"Spacer\"},{\"attributes\":{\"children\":[{\"id\":\"2461\"},{\"id\":\"2465\"},{\"id\":\"2522\"}],\"margin\":[0,0,0,0],\"name\":\"Row03982\",\"tags\":[\"embedded\"]},\"id\":\"2460\",\"type\":\"Row\"},{\"attributes\":{\"factors\":[\"Union Square District\",\"Merced Heights\",\"Miraloma Park\",\"Pacific Heights\",\"Westwood Park\",\"Telegraph Hill\",\"Presidio Heights\",\"Cow Hollow\",\"Potrero Hill\",\"South Beach\"],\"tags\":[[[\"neighborhood\",\"neighborhood\",null]]]},\"id\":\"2462\",\"type\":\"FactorRange\"},{\"attributes\":{},\"id\":\"2470\",\"type\":\"CategoricalScale\"},{\"attributes\":{},\"id\":\"2495\",\"type\":\"Selection\"},{\"attributes\":{\"axis\":{\"id\":\"2474\"},\"grid_line_color\":null,\"ticker\":null},\"id\":\"2476\",\"type\":\"Grid\"},{\"attributes\":{\"data_source\":{\"id\":\"2494\"},\"glyph\":{\"id\":\"2497\"},\"hover_glyph\":null,\"muted_glyph\":{\"id\":\"2499\"},\"nonselection_glyph\":{\"id\":\"2498\"},\"selection_glyph\":null,\"view\":{\"id\":\"2501\"}},\"id\":\"2500\",\"type\":\"GlyphRenderer\"},{\"attributes\":{},\"id\":\"2512\",\"type\":\"UnionRenderers\"},{\"attributes\":{},\"id\":\"2475\",\"type\":\"CategoricalTicker\"},{\"attributes\":{\"line_color\":\"#1f77b3\",\"line_width\":2,\"x\":{\"field\":\"neighborhood\"},\"y\":{\"field\":\"sale_price_sqr_foot\"}},\"id\":\"2497\",\"type\":\"Line\"},{\"attributes\":{\"margin\":[5,5,5,5],\"name\":\"HSpacer03986\",\"sizing_mode\":\"stretch_width\"},\"id\":\"2461\",\"type\":\"Spacer\"},{\"attributes\":{},\"id\":\"2478\",\"type\":\"BasicTicker\"},{\"attributes\":{\"active_drag\":\"auto\",\"active_inspect\":\"auto\",\"active_multi\":null,\"active_scroll\":\"auto\",\"active_tap\":\"auto\",\"tools\":[{\"id\":\"2464\"},{\"id\":\"2481\"},{\"id\":\"2482\"},{\"id\":\"2483\"},{\"id\":\"2484\"},{\"id\":\"2485\"}]},\"id\":\"2487\",\"type\":\"Toolbar\"},{\"attributes\":{\"axis_label\":\"sale_price_sqr_foot\",\"bounds\":\"auto\",\"formatter\":{\"id\":\"2505\"},\"major_label_orientation\":\"horizontal\",\"ticker\":{\"id\":\"2478\"}},\"id\":\"2477\",\"type\":\"LinearAxis\"},{\"attributes\":{\"source\":{\"id\":\"2494\"}},\"id\":\"2501\",\"type\":\"CDSView\"},{\"attributes\":{\"axis\":{\"id\":\"2477\"},\"dimension\":1,\"grid_line_color\":null,\"ticker\":null},\"id\":\"2480\",\"type\":\"Grid\"},{\"attributes\":{\"bottom_units\":\"screen\",\"fill_alpha\":0.5,\"fill_color\":\"lightgrey\",\"left_units\":\"screen\",\"level\":\"overlay\",\"line_alpha\":1.0,\"line_color\":\"black\",\"line_dash\":[4,4],\"line_width\":2,\"right_units\":\"screen\",\"top_units\":\"screen\"},\"id\":\"2486\",\"type\":\"BoxAnnotation\"},{\"attributes\":{\"axis_label\":\"neighborhood\",\"bounds\":\"auto\",\"formatter\":{\"id\":\"2503\"},\"major_label_orientation\":1.5707963267948966,\"ticker\":{\"id\":\"2475\"}},\"id\":\"2474\",\"type\":\"CategoricalAxis\"}],\"root_ids\":[\"2460\"]},\"title\":\"Bokeh Application\",\"version\":\"2.1.1\"}};\n",
       "  var render_items = [{\"docid\":\"fdee8cb0-b63f-4b17-8465-93298d7f7072\",\"root_ids\":[\"2460\"],\"roots\":{\"2460\":\"86cc8718-9896-4287-880e-8c75c030ba26\"}}];\n",
       "  root.Bokeh.embed.embed_items_notebook(docs_json, render_items);\n",
       "  }\n",
       "if (root.Bokeh !== undefined) {\n",
       "    embed_document(root);\n",
       "  } else {\n",
       "    var attempts = 0;\n",
       "    var timer = setInterval(function(root) {\n",
       "      if (root.Bokeh !== undefined) {\n",
       "        clearInterval(timer);\n",
       "        embed_document(root);\n",
       "      } else if (document.readyState == \"complete\") {\n",
       "        attempts++;\n",
       "        if (attempts > 100) {\n",
       "          clearInterval(timer);\n",
       "          console.log(\"Bokeh: ERROR: Unable to run BokehJS code because BokehJS library is missing\");\n",
       "        }\n",
       "      }\n",
       "    }, 10, root)\n",
       "  }\n",
       "})(window);</script>"
      ],
      "text/plain": [
       ":Curve   [neighborhood]   (sale_price_sqr_foot)"
      ]
     },
     "execution_count": 41,
     "metadata": {
      "application/vnd.holoviews_exec.v0+json": {
       "id": "2460"
      }
     },
     "output_type": "execute_result"
    }
   ],
   "source": [
    "top_most_expensive_neighborhoods()"
   ]
  },
  {
   "cell_type": "code",
   "execution_count": 42,
   "metadata": {},
   "outputs": [],
   "source": [
    "def parallel_coordinates():\n",
    "    \"\"\"Parallel Coordinates Plot.\"\"\"\n",
    "    sf_avg_neighborhoods = sfo_data.groupby('neighborhood').mean()\n",
    "    sf_avg_neighborhoods.sort_values(by = 'sale_price_sqr_foot', ascending=False, inplace=True)\n",
    "    sf_avg_neighborhoods.reset_index(inplace=True)  \n",
    "    top_10_most_expensive = sf_avg_neighborhoods.head(10)\n",
    "    top_10_parallel_plot = px.parallel_coordinates(\n",
    "    top_10_most_expensive, \n",
    "    color='sale_price_sqr_foot')\n",
    "\n",
    "    return top_10_parallel_plot"
   ]
  },
  {
   "cell_type": "code",
   "execution_count": 43,
   "metadata": {},
   "outputs": [
    {
     "data": {
      "application/vnd.plotly.v1+json": {
       "config": {
        "plotlyServerURL": "https://plot.ly"
       },
       "data": [
        {
         "dimensions": [
          {
           "label": "sale_price_sqr_foot",
           "values": [
            903.9932576720645,
            788.8448175872469,
            779.810842264425,
            689.5558168113664,
            687.0875745178323,
            676.5065775293257,
            675.3502120510033,
            665.964041578323,
            662.0136128276529,
            650.1244791945729
           ]
          },
          {
           "label": "housing_units",
           "values": [
            377427.5,
            380348,
            375967.25,
            378401,
            382295,
            378401,
            378401,
            378401,
            378401,
            375805
           ]
          },
          {
           "label": "gross_rent",
           "values": [
            2555.1666666666665,
            3414,
            2155.25,
            2817.285714285714,
            3959,
            2817.285714285714,
            2817.285714285714,
            2817.285714285714,
            2817.285714285714,
            2099
           ]
          }
         ],
         "domain": {
          "x": [
           0,
           1
          ],
          "y": [
           0,
           1
          ]
         },
         "line": {
          "color": [
           903.9932576720645,
           788.8448175872469,
           779.810842264425,
           689.5558168113664,
           687.0875745178323,
           676.5065775293257,
           675.3502120510033,
           665.964041578323,
           662.0136128276529,
           650.1244791945729
          ],
          "coloraxis": "coloraxis"
         },
         "name": "",
         "type": "parcoords"
        }
       ],
       "layout": {
        "autosize": true,
        "coloraxis": {
         "colorbar": {
          "title": {
           "text": "sale_price_sqr_foot"
          }
         },
         "colorscale": [
          [
           0,
           "#0d0887"
          ],
          [
           0.1111111111111111,
           "#46039f"
          ],
          [
           0.2222222222222222,
           "#7201a8"
          ],
          [
           0.3333333333333333,
           "#9c179e"
          ],
          [
           0.4444444444444444,
           "#bd3786"
          ],
          [
           0.5555555555555556,
           "#d8576b"
          ],
          [
           0.6666666666666666,
           "#ed7953"
          ],
          [
           0.7777777777777778,
           "#fb9f3a"
          ],
          [
           0.8888888888888888,
           "#fdca26"
          ],
          [
           1,
           "#f0f921"
          ]
         ]
        },
        "legend": {
         "tracegroupgap": 0
        },
        "margin": {
         "t": 60
        },
        "template": {
         "data": {
          "bar": [
           {
            "error_x": {
             "color": "#2a3f5f"
            },
            "error_y": {
             "color": "#2a3f5f"
            },
            "marker": {
             "line": {
              "color": "#E5ECF6",
              "width": 0.5
             }
            },
            "type": "bar"
           }
          ],
          "barpolar": [
           {
            "marker": {
             "line": {
              "color": "#E5ECF6",
              "width": 0.5
             }
            },
            "type": "barpolar"
           }
          ],
          "carpet": [
           {
            "aaxis": {
             "endlinecolor": "#2a3f5f",
             "gridcolor": "white",
             "linecolor": "white",
             "minorgridcolor": "white",
             "startlinecolor": "#2a3f5f"
            },
            "baxis": {
             "endlinecolor": "#2a3f5f",
             "gridcolor": "white",
             "linecolor": "white",
             "minorgridcolor": "white",
             "startlinecolor": "#2a3f5f"
            },
            "type": "carpet"
           }
          ],
          "choropleth": [
           {
            "colorbar": {
             "outlinewidth": 0,
             "ticks": ""
            },
            "type": "choropleth"
           }
          ],
          "contour": [
           {
            "colorbar": {
             "outlinewidth": 0,
             "ticks": ""
            },
            "colorscale": [
             [
              0,
              "#0d0887"
             ],
             [
              0.1111111111111111,
              "#46039f"
             ],
             [
              0.2222222222222222,
              "#7201a8"
             ],
             [
              0.3333333333333333,
              "#9c179e"
             ],
             [
              0.4444444444444444,
              "#bd3786"
             ],
             [
              0.5555555555555556,
              "#d8576b"
             ],
             [
              0.6666666666666666,
              "#ed7953"
             ],
             [
              0.7777777777777778,
              "#fb9f3a"
             ],
             [
              0.8888888888888888,
              "#fdca26"
             ],
             [
              1,
              "#f0f921"
             ]
            ],
            "type": "contour"
           }
          ],
          "contourcarpet": [
           {
            "colorbar": {
             "outlinewidth": 0,
             "ticks": ""
            },
            "type": "contourcarpet"
           }
          ],
          "heatmap": [
           {
            "colorbar": {
             "outlinewidth": 0,
             "ticks": ""
            },
            "colorscale": [
             [
              0,
              "#0d0887"
             ],
             [
              0.1111111111111111,
              "#46039f"
             ],
             [
              0.2222222222222222,
              "#7201a8"
             ],
             [
              0.3333333333333333,
              "#9c179e"
             ],
             [
              0.4444444444444444,
              "#bd3786"
             ],
             [
              0.5555555555555556,
              "#d8576b"
             ],
             [
              0.6666666666666666,
              "#ed7953"
             ],
             [
              0.7777777777777778,
              "#fb9f3a"
             ],
             [
              0.8888888888888888,
              "#fdca26"
             ],
             [
              1,
              "#f0f921"
             ]
            ],
            "type": "heatmap"
           }
          ],
          "heatmapgl": [
           {
            "colorbar": {
             "outlinewidth": 0,
             "ticks": ""
            },
            "colorscale": [
             [
              0,
              "#0d0887"
             ],
             [
              0.1111111111111111,
              "#46039f"
             ],
             [
              0.2222222222222222,
              "#7201a8"
             ],
             [
              0.3333333333333333,
              "#9c179e"
             ],
             [
              0.4444444444444444,
              "#bd3786"
             ],
             [
              0.5555555555555556,
              "#d8576b"
             ],
             [
              0.6666666666666666,
              "#ed7953"
             ],
             [
              0.7777777777777778,
              "#fb9f3a"
             ],
             [
              0.8888888888888888,
              "#fdca26"
             ],
             [
              1,
              "#f0f921"
             ]
            ],
            "type": "heatmapgl"
           }
          ],
          "histogram": [
           {
            "marker": {
             "colorbar": {
              "outlinewidth": 0,
              "ticks": ""
             }
            },
            "type": "histogram"
           }
          ],
          "histogram2d": [
           {
            "colorbar": {
             "outlinewidth": 0,
             "ticks": ""
            },
            "colorscale": [
             [
              0,
              "#0d0887"
             ],
             [
              0.1111111111111111,
              "#46039f"
             ],
             [
              0.2222222222222222,
              "#7201a8"
             ],
             [
              0.3333333333333333,
              "#9c179e"
             ],
             [
              0.4444444444444444,
              "#bd3786"
             ],
             [
              0.5555555555555556,
              "#d8576b"
             ],
             [
              0.6666666666666666,
              "#ed7953"
             ],
             [
              0.7777777777777778,
              "#fb9f3a"
             ],
             [
              0.8888888888888888,
              "#fdca26"
             ],
             [
              1,
              "#f0f921"
             ]
            ],
            "type": "histogram2d"
           }
          ],
          "histogram2dcontour": [
           {
            "colorbar": {
             "outlinewidth": 0,
             "ticks": ""
            },
            "colorscale": [
             [
              0,
              "#0d0887"
             ],
             [
              0.1111111111111111,
              "#46039f"
             ],
             [
              0.2222222222222222,
              "#7201a8"
             ],
             [
              0.3333333333333333,
              "#9c179e"
             ],
             [
              0.4444444444444444,
              "#bd3786"
             ],
             [
              0.5555555555555556,
              "#d8576b"
             ],
             [
              0.6666666666666666,
              "#ed7953"
             ],
             [
              0.7777777777777778,
              "#fb9f3a"
             ],
             [
              0.8888888888888888,
              "#fdca26"
             ],
             [
              1,
              "#f0f921"
             ]
            ],
            "type": "histogram2dcontour"
           }
          ],
          "mesh3d": [
           {
            "colorbar": {
             "outlinewidth": 0,
             "ticks": ""
            },
            "type": "mesh3d"
           }
          ],
          "parcoords": [
           {
            "line": {
             "colorbar": {
              "outlinewidth": 0,
              "ticks": ""
             }
            },
            "type": "parcoords"
           }
          ],
          "pie": [
           {
            "automargin": true,
            "type": "pie"
           }
          ],
          "scatter": [
           {
            "marker": {
             "colorbar": {
              "outlinewidth": 0,
              "ticks": ""
             }
            },
            "type": "scatter"
           }
          ],
          "scatter3d": [
           {
            "line": {
             "colorbar": {
              "outlinewidth": 0,
              "ticks": ""
             }
            },
            "marker": {
             "colorbar": {
              "outlinewidth": 0,
              "ticks": ""
             }
            },
            "type": "scatter3d"
           }
          ],
          "scattercarpet": [
           {
            "marker": {
             "colorbar": {
              "outlinewidth": 0,
              "ticks": ""
             }
            },
            "type": "scattercarpet"
           }
          ],
          "scattergeo": [
           {
            "marker": {
             "colorbar": {
              "outlinewidth": 0,
              "ticks": ""
             }
            },
            "type": "scattergeo"
           }
          ],
          "scattergl": [
           {
            "marker": {
             "colorbar": {
              "outlinewidth": 0,
              "ticks": ""
             }
            },
            "type": "scattergl"
           }
          ],
          "scattermapbox": [
           {
            "marker": {
             "colorbar": {
              "outlinewidth": 0,
              "ticks": ""
             }
            },
            "type": "scattermapbox"
           }
          ],
          "scatterpolar": [
           {
            "marker": {
             "colorbar": {
              "outlinewidth": 0,
              "ticks": ""
             }
            },
            "type": "scatterpolar"
           }
          ],
          "scatterpolargl": [
           {
            "marker": {
             "colorbar": {
              "outlinewidth": 0,
              "ticks": ""
             }
            },
            "type": "scatterpolargl"
           }
          ],
          "scatterternary": [
           {
            "marker": {
             "colorbar": {
              "outlinewidth": 0,
              "ticks": ""
             }
            },
            "type": "scatterternary"
           }
          ],
          "surface": [
           {
            "colorbar": {
             "outlinewidth": 0,
             "ticks": ""
            },
            "colorscale": [
             [
              0,
              "#0d0887"
             ],
             [
              0.1111111111111111,
              "#46039f"
             ],
             [
              0.2222222222222222,
              "#7201a8"
             ],
             [
              0.3333333333333333,
              "#9c179e"
             ],
             [
              0.4444444444444444,
              "#bd3786"
             ],
             [
              0.5555555555555556,
              "#d8576b"
             ],
             [
              0.6666666666666666,
              "#ed7953"
             ],
             [
              0.7777777777777778,
              "#fb9f3a"
             ],
             [
              0.8888888888888888,
              "#fdca26"
             ],
             [
              1,
              "#f0f921"
             ]
            ],
            "type": "surface"
           }
          ],
          "table": [
           {
            "cells": {
             "fill": {
              "color": "#EBF0F8"
             },
             "line": {
              "color": "white"
             }
            },
            "header": {
             "fill": {
              "color": "#C8D4E3"
             },
             "line": {
              "color": "white"
             }
            },
            "type": "table"
           }
          ]
         },
         "layout": {
          "annotationdefaults": {
           "arrowcolor": "#2a3f5f",
           "arrowhead": 0,
           "arrowwidth": 1
          },
          "coloraxis": {
           "colorbar": {
            "outlinewidth": 0,
            "ticks": ""
           }
          },
          "colorscale": {
           "diverging": [
            [
             0,
             "#8e0152"
            ],
            [
             0.1,
             "#c51b7d"
            ],
            [
             0.2,
             "#de77ae"
            ],
            [
             0.3,
             "#f1b6da"
            ],
            [
             0.4,
             "#fde0ef"
            ],
            [
             0.5,
             "#f7f7f7"
            ],
            [
             0.6,
             "#e6f5d0"
            ],
            [
             0.7,
             "#b8e186"
            ],
            [
             0.8,
             "#7fbc41"
            ],
            [
             0.9,
             "#4d9221"
            ],
            [
             1,
             "#276419"
            ]
           ],
           "sequential": [
            [
             0,
             "#0d0887"
            ],
            [
             0.1111111111111111,
             "#46039f"
            ],
            [
             0.2222222222222222,
             "#7201a8"
            ],
            [
             0.3333333333333333,
             "#9c179e"
            ],
            [
             0.4444444444444444,
             "#bd3786"
            ],
            [
             0.5555555555555556,
             "#d8576b"
            ],
            [
             0.6666666666666666,
             "#ed7953"
            ],
            [
             0.7777777777777778,
             "#fb9f3a"
            ],
            [
             0.8888888888888888,
             "#fdca26"
            ],
            [
             1,
             "#f0f921"
            ]
           ],
           "sequentialminus": [
            [
             0,
             "#0d0887"
            ],
            [
             0.1111111111111111,
             "#46039f"
            ],
            [
             0.2222222222222222,
             "#7201a8"
            ],
            [
             0.3333333333333333,
             "#9c179e"
            ],
            [
             0.4444444444444444,
             "#bd3786"
            ],
            [
             0.5555555555555556,
             "#d8576b"
            ],
            [
             0.6666666666666666,
             "#ed7953"
            ],
            [
             0.7777777777777778,
             "#fb9f3a"
            ],
            [
             0.8888888888888888,
             "#fdca26"
            ],
            [
             1,
             "#f0f921"
            ]
           ]
          },
          "colorway": [
           "#636efa",
           "#EF553B",
           "#00cc96",
           "#ab63fa",
           "#FFA15A",
           "#19d3f3",
           "#FF6692",
           "#B6E880",
           "#FF97FF",
           "#FECB52"
          ],
          "font": {
           "color": "#2a3f5f"
          },
          "geo": {
           "bgcolor": "white",
           "lakecolor": "white",
           "landcolor": "#E5ECF6",
           "showlakes": true,
           "showland": true,
           "subunitcolor": "white"
          },
          "hoverlabel": {
           "align": "left"
          },
          "hovermode": "closest",
          "mapbox": {
           "style": "light"
          },
          "paper_bgcolor": "white",
          "plot_bgcolor": "#E5ECF6",
          "polar": {
           "angularaxis": {
            "gridcolor": "white",
            "linecolor": "white",
            "ticks": ""
           },
           "bgcolor": "#E5ECF6",
           "radialaxis": {
            "gridcolor": "white",
            "linecolor": "white",
            "ticks": ""
           }
          },
          "scene": {
           "xaxis": {
            "backgroundcolor": "#E5ECF6",
            "gridcolor": "white",
            "gridwidth": 2,
            "linecolor": "white",
            "showbackground": true,
            "ticks": "",
            "zerolinecolor": "white"
           },
           "yaxis": {
            "backgroundcolor": "#E5ECF6",
            "gridcolor": "white",
            "gridwidth": 2,
            "linecolor": "white",
            "showbackground": true,
            "ticks": "",
            "zerolinecolor": "white"
           },
           "zaxis": {
            "backgroundcolor": "#E5ECF6",
            "gridcolor": "white",
            "gridwidth": 2,
            "linecolor": "white",
            "showbackground": true,
            "ticks": "",
            "zerolinecolor": "white"
           }
          },
          "shapedefaults": {
           "line": {
            "color": "#2a3f5f"
           }
          },
          "ternary": {
           "aaxis": {
            "gridcolor": "white",
            "linecolor": "white",
            "ticks": ""
           },
           "baxis": {
            "gridcolor": "white",
            "linecolor": "white",
            "ticks": ""
           },
           "bgcolor": "#E5ECF6",
           "caxis": {
            "gridcolor": "white",
            "linecolor": "white",
            "ticks": ""
           }
          },
          "title": {
           "x": 0.05
          },
          "xaxis": {
           "automargin": true,
           "gridcolor": "white",
           "linecolor": "white",
           "ticks": "",
           "title": {
            "standoff": 15
           },
           "zerolinecolor": "white",
           "zerolinewidth": 2
          },
          "yaxis": {
           "automargin": true,
           "gridcolor": "white",
           "linecolor": "white",
           "ticks": "",
           "title": {
            "standoff": 15
           },
           "zerolinecolor": "white",
           "zerolinewidth": 2
          }
         }
        }
       }
      },
      "image/png": "[encoded data removed]",
      "text/html": [
       "<div>                            <div id=\"fa6388ea-c789-47df-97e2-4d5e07afe2e7\" class=\"plotly-graph-div\" style=\"height:525px; width:100%;\"></div>            <script type=\"text/javascript\">                require([\"plotly\"], function(Plotly) {                    window.PLOTLYENV=window.PLOTLYENV || {};                                    if (document.getElementById(\"fa6388ea-c789-47df-97e2-4d5e07afe2e7\")) {                    Plotly.newPlot(                        \"fa6388ea-c789-47df-97e2-4d5e07afe2e7\",                        [{\"dimensions\": [{\"label\": \"sale_price_sqr_foot\", \"values\": [903.9932576720645, 788.8448175872469, 779.810842264425, 689.5558168113664, 687.0875745178323, 676.5065775293257, 675.3502120510033, 665.964041578323, 662.0136128276529, 650.1244791945729]}, {\"label\": \"housing_units\", \"values\": [377427.5, 380348.0, 375967.25, 378401.0, 382295.0, 378401.0, 378401.0, 378401.0, 378401.0, 375805.0]}, {\"label\": \"gross_rent\", \"values\": [2555.1666666666665, 3414.0, 2155.25, 2817.285714285714, 3959.0, 2817.285714285714, 2817.285714285714, 2817.285714285714, 2817.285714285714, 2099.0]}], \"domain\": {\"x\": [0.0, 1.0], \"y\": [0.0, 1.0]}, \"line\": {\"color\": [903.9932576720645, 788.8448175872469, 779.810842264425, 689.5558168113664, 687.0875745178323, 676.5065775293257, 675.3502120510033, 665.964041578323, 662.0136128276529, 650.1244791945729], \"coloraxis\": \"coloraxis\"}, \"name\": \"\", \"type\": \"parcoords\"}],                        {\"coloraxis\": {\"colorbar\": {\"title\": {\"text\": \"sale_price_sqr_foot\"}}, \"colorscale\": [[0.0, \"#0d0887\"], [0.1111111111111111, \"#46039f\"], [0.2222222222222222, \"#7201a8\"], [0.3333333333333333, \"#9c179e\"], [0.4444444444444444, \"#bd3786\"], [0.5555555555555556, \"#d8576b\"], [0.6666666666666666, \"#ed7953\"], [0.7777777777777778, \"#fb9f3a\"], [0.8888888888888888, \"#fdca26\"], [1.0, \"#f0f921\"]]}, \"legend\": {\"tracegroupgap\": 0}, \"margin\": {\"t\": 60}, \"template\": {\"data\": {\"bar\": [{\"error_x\": {\"color\": \"#2a3f5f\"}, \"error_y\": {\"color\": \"#2a3f5f\"}, \"marker\": {\"line\": {\"color\": \"#E5ECF6\", \"width\": 0.5}}, \"type\": \"bar\"}], \"barpolar\": [{\"marker\": {\"line\": {\"color\": \"#E5ECF6\", \"width\": 0.5}}, \"type\": \"barpolar\"}], \"carpet\": [{\"aaxis\": {\"endlinecolor\": \"#2a3f5f\", \"gridcolor\": \"white\", \"linecolor\": \"white\", \"minorgridcolor\": \"white\", \"startlinecolor\": \"#2a3f5f\"}, \"baxis\": {\"endlinecolor\": \"#2a3f5f\", \"gridcolor\": \"white\", \"linecolor\": \"white\", \"minorgridcolor\": \"white\", \"startlinecolor\": \"#2a3f5f\"}, \"type\": \"carpet\"}], \"choropleth\": [{\"colorbar\": {\"outlinewidth\": 0, \"ticks\": \"\"}, \"type\": \"choropleth\"}], \"contour\": [{\"colorbar\": {\"outlinewidth\": 0, \"ticks\": \"\"}, \"colorscale\": [[0.0, \"#0d0887\"], [0.1111111111111111, \"#46039f\"], [0.2222222222222222, \"#7201a8\"], [0.3333333333333333, \"#9c179e\"], [0.4444444444444444, \"#bd3786\"], [0.5555555555555556, \"#d8576b\"], [0.6666666666666666, \"#ed7953\"], [0.7777777777777778, \"#fb9f3a\"], [0.8888888888888888, \"#fdca26\"], [1.0, \"#f0f921\"]], \"type\": \"contour\"}], \"contourcarpet\": [{\"colorbar\": {\"outlinewidth\": 0, \"ticks\": \"\"}, \"type\": \"contourcarpet\"}], \"heatmap\": [{\"colorbar\": {\"outlinewidth\": 0, \"ticks\": \"\"}, \"colorscale\": [[0.0, \"#0d0887\"], [0.1111111111111111, \"#46039f\"], [0.2222222222222222, \"#7201a8\"], [0.3333333333333333, \"#9c179e\"], [0.4444444444444444, \"#bd3786\"], [0.5555555555555556, \"#d8576b\"], [0.6666666666666666, \"#ed7953\"], [0.7777777777777778, \"#fb9f3a\"], [0.8888888888888888, \"#fdca26\"], [1.0, \"#f0f921\"]], \"type\": \"heatmap\"}], \"heatmapgl\": [{\"colorbar\": {\"outlinewidth\": 0, \"ticks\": \"\"}, \"colorscale\": [[0.0, \"#0d0887\"], [0.1111111111111111, \"#46039f\"], [0.2222222222222222, \"#7201a8\"], [0.3333333333333333, \"#9c179e\"], [0.4444444444444444, \"#bd3786\"], [0.5555555555555556, \"#d8576b\"], [0.6666666666666666, \"#ed7953\"], [0.7777777777777778, \"#fb9f3a\"], [0.8888888888888888, \"#fdca26\"], [1.0, \"#f0f921\"]], \"type\": \"heatmapgl\"}], \"histogram\": [{\"marker\": {\"colorbar\": {\"outlinewidth\": 0, \"ticks\": \"\"}}, \"type\": \"histogram\"}], \"histogram2d\": [{\"colorbar\": {\"outlinewidth\": 0, \"ticks\": \"\"}, \"colorscale\": [[0.0, \"#0d0887\"], [0.1111111111111111, \"#46039f\"], [0.2222222222222222, \"#7201a8\"], [0.3333333333333333, \"#9c179e\"], [0.4444444444444444, \"#bd3786\"], [0.5555555555555556, \"#d8576b\"], [0.6666666666666666, \"#ed7953\"], [0.7777777777777778, \"#fb9f3a\"], [0.8888888888888888, \"#fdca26\"], [1.0, \"#f0f921\"]], \"type\": \"histogram2d\"}], \"histogram2dcontour\": [{\"colorbar\": {\"outlinewidth\": 0, \"ticks\": \"\"}, \"colorscale\": [[0.0, \"#0d0887\"], [0.1111111111111111, \"#46039f\"], [0.2222222222222222, \"#7201a8\"], [0.3333333333333333, \"#9c179e\"], [0.4444444444444444, \"#bd3786\"], [0.5555555555555556, \"#d8576b\"], [0.6666666666666666, \"#ed7953\"], [0.7777777777777778, \"#fb9f3a\"], [0.8888888888888888, \"#fdca26\"], [1.0, \"#f0f921\"]], \"type\": \"histogram2dcontour\"}], \"mesh3d\": [{\"colorbar\": {\"outlinewidth\": 0, \"ticks\": \"\"}, \"type\": \"mesh3d\"}], \"parcoords\": [{\"line\": {\"colorbar\": {\"outlinewidth\": 0, \"ticks\": \"\"}}, \"type\": \"parcoords\"}], \"pie\": [{\"automargin\": true, \"type\": \"pie\"}], \"scatter\": [{\"marker\": {\"colorbar\": {\"outlinewidth\": 0, \"ticks\": \"\"}}, \"type\": \"scatter\"}], \"scatter3d\": [{\"line\": {\"colorbar\": {\"outlinewidth\": 0, \"ticks\": \"\"}}, \"marker\": {\"colorbar\": {\"outlinewidth\": 0, \"ticks\": \"\"}}, \"type\": \"scatter3d\"}], \"scattercarpet\": [{\"marker\": {\"colorbar\": {\"outlinewidth\": 0, \"ticks\": \"\"}}, \"type\": \"scattercarpet\"}], \"scattergeo\": [{\"marker\": {\"colorbar\": {\"outlinewidth\": 0, \"ticks\": \"\"}}, \"type\": \"scattergeo\"}], \"scattergl\": [{\"marker\": {\"colorbar\": {\"outlinewidth\": 0, \"ticks\": \"\"}}, \"type\": \"scattergl\"}], \"scattermapbox\": [{\"marker\": {\"colorbar\": {\"outlinewidth\": 0, \"ticks\": \"\"}}, \"type\": \"scattermapbox\"}], \"scatterpolar\": [{\"marker\": {\"colorbar\": {\"outlinewidth\": 0, \"ticks\": \"\"}}, \"type\": \"scatterpolar\"}], \"scatterpolargl\": [{\"marker\": {\"colorbar\": {\"outlinewidth\": 0, \"ticks\": \"\"}}, \"type\": \"scatterpolargl\"}], \"scatterternary\": [{\"marker\": {\"colorbar\": {\"outlinewidth\": 0, \"ticks\": \"\"}}, \"type\": \"scatterternary\"}], \"surface\": [{\"colorbar\": {\"outlinewidth\": 0, \"ticks\": \"\"}, \"colorscale\": [[0.0, \"#0d0887\"], [0.1111111111111111, \"#46039f\"], [0.2222222222222222, \"#7201a8\"], [0.3333333333333333, \"#9c179e\"], [0.4444444444444444, \"#bd3786\"], [0.5555555555555556, \"#d8576b\"], [0.6666666666666666, \"#ed7953\"], [0.7777777777777778, \"#fb9f3a\"], [0.8888888888888888, \"#fdca26\"], [1.0, \"#f0f921\"]], \"type\": \"surface\"}], \"table\": [{\"cells\": {\"fill\": {\"color\": \"#EBF0F8\"}, \"line\": {\"color\": \"white\"}}, \"header\": {\"fill\": {\"color\": \"#C8D4E3\"}, \"line\": {\"color\": \"white\"}}, \"type\": \"table\"}]}, \"layout\": {\"annotationdefaults\": {\"arrowcolor\": \"#2a3f5f\", \"arrowhead\": 0, \"arrowwidth\": 1}, \"coloraxis\": {\"colorbar\": {\"outlinewidth\": 0, \"ticks\": \"\"}}, \"colorscale\": {\"diverging\": [[0, \"#8e0152\"], [0.1, \"#c51b7d\"], [0.2, \"#de77ae\"], [0.3, \"#f1b6da\"], [0.4, \"#fde0ef\"], [0.5, \"#f7f7f7\"], [0.6, \"#e6f5d0\"], [0.7, \"#b8e186\"], [0.8, \"#7fbc41\"], [0.9, \"#4d9221\"], [1, \"#276419\"]], \"sequential\": [[0.0, \"#0d0887\"], [0.1111111111111111, \"#46039f\"], [0.2222222222222222, \"#7201a8\"], [0.3333333333333333, \"#9c179e\"], [0.4444444444444444, \"#bd3786\"], [0.5555555555555556, \"#d8576b\"], [0.6666666666666666, \"#ed7953\"], [0.7777777777777778, \"#fb9f3a\"], [0.8888888888888888, \"#fdca26\"], [1.0, \"#f0f921\"]], \"sequentialminus\": [[0.0, \"#0d0887\"], [0.1111111111111111, \"#46039f\"], [0.2222222222222222, \"#7201a8\"], [0.3333333333333333, \"#9c179e\"], [0.4444444444444444, \"#bd3786\"], [0.5555555555555556, \"#d8576b\"], [0.6666666666666666, \"#ed7953\"], [0.7777777777777778, \"#fb9f3a\"], [0.8888888888888888, \"#fdca26\"], [1.0, \"#f0f921\"]]}, \"colorway\": [\"#636efa\", \"#EF553B\", \"#00cc96\", \"#ab63fa\", \"#FFA15A\", \"#19d3f3\", \"#FF6692\", \"#B6E880\", \"#FF97FF\", \"#FECB52\"], \"font\": {\"color\": \"#2a3f5f\"}, \"geo\": {\"bgcolor\": \"white\", \"lakecolor\": \"white\", \"landcolor\": \"#E5ECF6\", \"showlakes\": true, \"showland\": true, \"subunitcolor\": \"white\"}, \"hoverlabel\": {\"align\": \"left\"}, \"hovermode\": \"closest\", \"mapbox\": {\"style\": \"light\"}, \"paper_bgcolor\": \"white\", \"plot_bgcolor\": \"#E5ECF6\", \"polar\": {\"angularaxis\": {\"gridcolor\": \"white\", \"linecolor\": \"white\", \"ticks\": \"\"}, \"bgcolor\": \"#E5ECF6\", \"radialaxis\": {\"gridcolor\": \"white\", \"linecolor\": \"white\", \"ticks\": \"\"}}, \"scene\": {\"xaxis\": {\"backgroundcolor\": \"#E5ECF6\", \"gridcolor\": \"white\", \"gridwidth\": 2, \"linecolor\": \"white\", \"showbackground\": true, \"ticks\": \"\", \"zerolinecolor\": \"white\"}, \"yaxis\": {\"backgroundcolor\": \"#E5ECF6\", \"gridcolor\": \"white\", \"gridwidth\": 2, \"linecolor\": \"white\", \"showbackground\": true, \"ticks\": \"\", \"zerolinecolor\": \"white\"}, \"zaxis\": {\"backgroundcolor\": \"#E5ECF6\", \"gridcolor\": \"white\", \"gridwidth\": 2, \"linecolor\": \"white\", \"showbackground\": true, \"ticks\": \"\", \"zerolinecolor\": \"white\"}}, \"shapedefaults\": {\"line\": {\"color\": \"#2a3f5f\"}}, \"ternary\": {\"aaxis\": {\"gridcolor\": \"white\", \"linecolor\": \"white\", \"ticks\": \"\"}, \"baxis\": {\"gridcolor\": \"white\", \"linecolor\": \"white\", \"ticks\": \"\"}, \"bgcolor\": \"#E5ECF6\", \"caxis\": {\"gridcolor\": \"white\", \"linecolor\": \"white\", \"ticks\": \"\"}}, \"title\": {\"x\": 0.05}, \"xaxis\": {\"automargin\": true, \"gridcolor\": \"white\", \"linecolor\": \"white\", \"ticks\": \"\", \"title\": {\"standoff\": 15}, \"zerolinecolor\": \"white\", \"zerolinewidth\": 2}, \"yaxis\": {\"automargin\": true, \"gridcolor\": \"white\", \"linecolor\": \"white\", \"ticks\": \"\", \"title\": {\"standoff\": 15}, \"zerolinecolor\": \"white\", \"zerolinewidth\": 2}}}},                        {\"responsive\": true}                    ).then(function(){\n",
       "                            \n",
       "var gd = document.getElementById('fa6388ea-c789-47df-97e2-4d5e07afe2e7');\n",
       "var x = new MutationObserver(function (mutations, observer) {{\n",
       "        var display = window.getComputedStyle(gd).display;\n",
       "        if (!display || display === 'none') {{\n",
       "            console.log([gd, 'removed!']);\n",
       "            Plotly.purge(gd);\n",
       "            observer.disconnect();\n",
       "        }}\n",
       "}});\n",
       "\n",
       "// Listen for the removal of the full notebook cells\n",
       "var notebookContainer = gd.closest('#notebook-container');\n",
       "if (notebookContainer) {{\n",
       "    x.observe(notebookContainer, {childList: true});\n",
       "}}\n",
       "\n",
       "// Listen for the clearing of the current output cell\n",
       "var outputEl = gd.closest('.output');\n",
       "if (outputEl) {{\n",
       "    x.observe(outputEl, {childList: true});\n",
       "}}\n",
       "\n",
       "                        })                };                });            </script>        </div>"
      ]
     },
     "metadata": {},
     "output_type": "display_data"
    }
   ],
   "source": [
    "parallel_coordinates()"
   ]
  },
  {
   "cell_type": "code",
   "execution_count": 44,
   "metadata": {},
   "outputs": [],
   "source": [
    "def parallel_categories():\n",
    "    \"\"\"Parallel Categories Plot.\"\"\"\n",
    "    most_expensive_neighborhood = sfo_data.groupby('neighborhood').mean()\n",
    "    most_expensive_neighborhood.sort_values(by = 'sale_price_sqr_foot', ascending=False, inplace=True)\n",
    "    most_expensive_neighborhood.reset_index(inplace=True)\n",
    "    most_expensive_neighborhood = most_expensive_neighborhood.head(10)\n",
    "    parallel_categories = px.parallel_categories(most_expensive_neighborhood.round(3), color=\"sale_price_sqr_foot\", color_continuous_scale = px.colors.sequential.Inferno)\n",
    "    return parallel_categories"
   ]
  },
  {
   "cell_type": "code",
   "execution_count": 45,
   "metadata": {},
   "outputs": [
    {
     "data": {
      "application/vnd.plotly.v1+json": {
       "config": {
        "plotlyServerURL": "https://plot.ly"
       },
       "data": [
        {
         "dimensions": [
          {
           "label": "neighborhood",
           "values": [
            "Union Square District",
            "Merced Heights",
            "Miraloma Park",
            "Pacific Heights",
            "Westwood Park",
            "Telegraph Hill",
            "Presidio Heights",
            "Cow Hollow",
            "Potrero Hill",
            "South Beach"
           ]
          },
          {
           "label": "sale_price_sqr_foot",
           "values": [
            903.993,
            788.845,
            779.811,
            689.556,
            687.088,
            676.507,
            675.35,
            665.964,
            662.014,
            650.124
           ]
          },
          {
           "label": "housing_units",
           "values": [
            377427.5,
            380348,
            375967.25,
            378401,
            382295,
            378401,
            378401,
            378401,
            378401,
            375805
           ]
          },
          {
           "label": "gross_rent",
           "values": [
            2555.167,
            3414,
            2155.25,
            2817.286,
            3959,
            2817.286,
            2817.286,
            2817.286,
            2817.286,
            2099
           ]
          }
         ],
         "domain": {
          "x": [
           0,
           1
          ],
          "y": [
           0,
           1
          ]
         },
         "line": {
          "color": [
           903.993,
           788.845,
           779.811,
           689.556,
           687.088,
           676.507,
           675.35,
           665.964,
           662.014,
           650.124
          ],
          "coloraxis": "coloraxis"
         },
         "name": "",
         "type": "parcats"
        }
       ],
       "layout": {
        "autosize": true,
        "coloraxis": {
         "colorbar": {
          "title": {
           "text": "sale_price_sqr_foot"
          }
         },
         "colorscale": [
          [
           0,
           "#000004"
          ],
          [
           0.1111111111111111,
           "#1b0c41"
          ],
          [
           0.2222222222222222,
           "#4a0c6b"
          ],
          [
           0.3333333333333333,
           "#781c6d"
          ],
          [
           0.4444444444444444,
           "#a52c60"
          ],
          [
           0.5555555555555556,
           "#cf4446"
          ],
          [
           0.6666666666666666,
           "#ed6925"
          ],
          [
           0.7777777777777778,
           "#fb9b06"
          ],
          [
           0.8888888888888888,
           "#f7d13d"
          ],
          [
           1,
           "#fcffa4"
          ]
         ]
        },
        "legend": {
         "tracegroupgap": 0
        },
        "margin": {
         "t": 60
        },
        "template": {
         "data": {
          "bar": [
           {
            "error_x": {
             "color": "#2a3f5f"
            },
            "error_y": {
             "color": "#2a3f5f"
            },
            "marker": {
             "line": {
              "color": "#E5ECF6",
              "width": 0.5
             }
            },
            "type": "bar"
           }
          ],
          "barpolar": [
           {
            "marker": {
             "line": {
              "color": "#E5ECF6",
              "width": 0.5
             }
            },
            "type": "barpolar"
           }
          ],
          "carpet": [
           {
            "aaxis": {
             "endlinecolor": "#2a3f5f",
             "gridcolor": "white",
             "linecolor": "white",
             "minorgridcolor": "white",
             "startlinecolor": "#2a3f5f"
            },
            "baxis": {
             "endlinecolor": "#2a3f5f",
             "gridcolor": "white",
             "linecolor": "white",
             "minorgridcolor": "white",
             "startlinecolor": "#2a3f5f"
            },
            "type": "carpet"
           }
          ],
          "choropleth": [
           {
            "colorbar": {
             "outlinewidth": 0,
             "ticks": ""
            },
            "type": "choropleth"
           }
          ],
          "contour": [
           {
            "colorbar": {
             "outlinewidth": 0,
             "ticks": ""
            },
            "colorscale": [
             [
              0,
              "#0d0887"
             ],
             [
              0.1111111111111111,
              "#46039f"
             ],
             [
              0.2222222222222222,
              "#7201a8"
             ],
             [
              0.3333333333333333,
              "#9c179e"
             ],
             [
              0.4444444444444444,
              "#bd3786"
             ],
             [
              0.5555555555555556,
              "#d8576b"
             ],
             [
              0.6666666666666666,
              "#ed7953"
             ],
             [
              0.7777777777777778,
              "#fb9f3a"
             ],
             [
              0.8888888888888888,
              "#fdca26"
             ],
             [
              1,
              "#f0f921"
             ]
            ],
            "type": "contour"
           }
          ],
          "contourcarpet": [
           {
            "colorbar": {
             "outlinewidth": 0,
             "ticks": ""
            },
            "type": "contourcarpet"
           }
          ],
          "heatmap": [
           {
            "colorbar": {
             "outlinewidth": 0,
             "ticks": ""
            },
            "colorscale": [
             [
              0,
              "#0d0887"
             ],
             [
              0.1111111111111111,
              "#46039f"
             ],
             [
              0.2222222222222222,
              "#7201a8"
             ],
             [
              0.3333333333333333,
              "#9c179e"
             ],
             [
              0.4444444444444444,
              "#bd3786"
             ],
             [
              0.5555555555555556,
              "#d8576b"
             ],
             [
              0.6666666666666666,
              "#ed7953"
             ],
             [
              0.7777777777777778,
              "#fb9f3a"
             ],
             [
              0.8888888888888888,
              "#fdca26"
             ],
             [
              1,
              "#f0f921"
             ]
            ],
            "type": "heatmap"
           }
          ],
          "heatmapgl": [
           {
            "colorbar": {
             "outlinewidth": 0,
             "ticks": ""
            },
            "colorscale": [
             [
              0,
              "#0d0887"
             ],
             [
              0.1111111111111111,
              "#46039f"
             ],
             [
              0.2222222222222222,
              "#7201a8"
             ],
             [
              0.3333333333333333,
              "#9c179e"
             ],
             [
              0.4444444444444444,
              "#bd3786"
             ],
             [
              0.5555555555555556,
              "#d8576b"
             ],
             [
              0.6666666666666666,
              "#ed7953"
             ],
             [
              0.7777777777777778,
              "#fb9f3a"
             ],
             [
              0.8888888888888888,
              "#fdca26"
             ],
             [
              1,
              "#f0f921"
             ]
            ],
            "type": "heatmapgl"
           }
          ],
          "histogram": [
           {
            "marker": {
             "colorbar": {
              "outlinewidth": 0,
              "ticks": ""
             }
            },
            "type": "histogram"
           }
          ],
          "histogram2d": [
           {
            "colorbar": {
             "outlinewidth": 0,
             "ticks": ""
            },
            "colorscale": [
             [
              0,
              "#0d0887"
             ],
             [
              0.1111111111111111,
              "#46039f"
             ],
             [
              0.2222222222222222,
              "#7201a8"
             ],
             [
              0.3333333333333333,
              "#9c179e"
             ],
             [
              0.4444444444444444,
              "#bd3786"
             ],
             [
              0.5555555555555556,
              "#d8576b"
             ],
             [
              0.6666666666666666,
              "#ed7953"
             ],
             [
              0.7777777777777778,
              "#fb9f3a"
             ],
             [
              0.8888888888888888,
              "#fdca26"
             ],
             [
              1,
              "#f0f921"
             ]
            ],
            "type": "histogram2d"
           }
          ],
          "histogram2dcontour": [
           {
            "colorbar": {
             "outlinewidth": 0,
             "ticks": ""
            },
            "colorscale": [
             [
              0,
              "#0d0887"
             ],
             [
              0.1111111111111111,
              "#46039f"
             ],
             [
              0.2222222222222222,
              "#7201a8"
             ],
             [
              0.3333333333333333,
              "#9c179e"
             ],
             [
              0.4444444444444444,
              "#bd3786"
             ],
             [
              0.5555555555555556,
              "#d8576b"
             ],
             [
              0.6666666666666666,
              "#ed7953"
             ],
             [
              0.7777777777777778,
              "#fb9f3a"
             ],
             [
              0.8888888888888888,
              "#fdca26"
             ],
             [
              1,
              "#f0f921"
             ]
            ],
            "type": "histogram2dcontour"
           }
          ],
          "mesh3d": [
           {
            "colorbar": {
             "outlinewidth": 0,
             "ticks": ""
            },
            "type": "mesh3d"
           }
          ],
          "parcoords": [
           {
            "line": {
             "colorbar": {
              "outlinewidth": 0,
              "ticks": ""
             }
            },
            "type": "parcoords"
           }
          ],
          "pie": [
           {
            "automargin": true,
            "type": "pie"
           }
          ],
          "scatter": [
           {
            "marker": {
             "colorbar": {
              "outlinewidth": 0,
              "ticks": ""
             }
            },
            "type": "scatter"
           }
          ],
          "scatter3d": [
           {
            "line": {
             "colorbar": {
              "outlinewidth": 0,
              "ticks": ""
             }
            },
            "marker": {
             "colorbar": {
              "outlinewidth": 0,
              "ticks": ""
             }
            },
            "type": "scatter3d"
           }
          ],
          "scattercarpet": [
           {
            "marker": {
             "colorbar": {
              "outlinewidth": 0,
              "ticks": ""
             }
            },
            "type": "scattercarpet"
           }
          ],
          "scattergeo": [
           {
            "marker": {
             "colorbar": {
              "outlinewidth": 0,
              "ticks": ""
             }
            },
            "type": "scattergeo"
           }
          ],
          "scattergl": [
           {
            "marker": {
             "colorbar": {
              "outlinewidth": 0,
              "ticks": ""
             }
            },
            "type": "scattergl"
           }
          ],
          "scattermapbox": [
           {
            "marker": {
             "colorbar": {
              "outlinewidth": 0,
              "ticks": ""
             }
            },
            "type": "scattermapbox"
           }
          ],
          "scatterpolar": [
           {
            "marker": {
             "colorbar": {
              "outlinewidth": 0,
              "ticks": ""
             }
            },
            "type": "scatterpolar"
           }
          ],
          "scatterpolargl": [
           {
            "marker": {
             "colorbar": {
              "outlinewidth": 0,
              "ticks": ""
             }
            },
            "type": "scatterpolargl"
           }
          ],
          "scatterternary": [
           {
            "marker": {
             "colorbar": {
              "outlinewidth": 0,
              "ticks": ""
             }
            },
            "type": "scatterternary"
           }
          ],
          "surface": [
           {
            "colorbar": {
             "outlinewidth": 0,
             "ticks": ""
            },
            "colorscale": [
             [
              0,
              "#0d0887"
             ],
             [
              0.1111111111111111,
              "#46039f"
             ],
             [
              0.2222222222222222,
              "#7201a8"
             ],
             [
              0.3333333333333333,
              "#9c179e"
             ],
             [
              0.4444444444444444,
              "#bd3786"
             ],
             [
              0.5555555555555556,
              "#d8576b"
             ],
             [
              0.6666666666666666,
              "#ed7953"
             ],
             [
              0.7777777777777778,
              "#fb9f3a"
             ],
             [
              0.8888888888888888,
              "#fdca26"
             ],
             [
              1,
              "#f0f921"
             ]
            ],
            "type": "surface"
           }
          ],
          "table": [
           {
            "cells": {
             "fill": {
              "color": "#EBF0F8"
             },
             "line": {
              "color": "white"
             }
            },
            "header": {
             "fill": {
              "color": "#C8D4E3"
             },
             "line": {
              "color": "white"
             }
            },
            "type": "table"
           }
          ]
         },
         "layout": {
          "annotationdefaults": {
           "arrowcolor": "#2a3f5f",
           "arrowhead": 0,
           "arrowwidth": 1
          },
          "coloraxis": {
           "colorbar": {
            "outlinewidth": 0,
            "ticks": ""
           }
          },
          "colorscale": {
           "diverging": [
            [
             0,
             "#8e0152"
            ],
            [
             0.1,
             "#c51b7d"
            ],
            [
             0.2,
             "#de77ae"
            ],
            [
             0.3,
             "#f1b6da"
            ],
            [
             0.4,
             "#fde0ef"
            ],
            [
             0.5,
             "#f7f7f7"
            ],
            [
             0.6,
             "#e6f5d0"
            ],
            [
             0.7,
             "#b8e186"
            ],
            [
             0.8,
             "#7fbc41"
            ],
            [
             0.9,
             "#4d9221"
            ],
            [
             1,
             "#276419"
            ]
           ],
           "sequential": [
            [
             0,
             "#0d0887"
            ],
            [
             0.1111111111111111,
             "#46039f"
            ],
            [
             0.2222222222222222,
             "#7201a8"
            ],
            [
             0.3333333333333333,
             "#9c179e"
            ],
            [
             0.4444444444444444,
             "#bd3786"
            ],
            [
             0.5555555555555556,
             "#d8576b"
            ],
            [
             0.6666666666666666,
             "#ed7953"
            ],
            [
             0.7777777777777778,
             "#fb9f3a"
            ],
            [
             0.8888888888888888,
             "#fdca26"
            ],
            [
             1,
             "#f0f921"
            ]
           ],
           "sequentialminus": [
            [
             0,
             "#0d0887"
            ],
            [
             0.1111111111111111,
             "#46039f"
            ],
            [
             0.2222222222222222,
             "#7201a8"
            ],
            [
             0.3333333333333333,
             "#9c179e"
            ],
            [
             0.4444444444444444,
             "#bd3786"
            ],
            [
             0.5555555555555556,
             "#d8576b"
            ],
            [
             0.6666666666666666,
             "#ed7953"
            ],
            [
             0.7777777777777778,
             "#fb9f3a"
            ],
            [
             0.8888888888888888,
             "#fdca26"
            ],
            [
             1,
             "#f0f921"
            ]
           ]
          },
          "colorway": [
           "#636efa",
           "#EF553B",
           "#00cc96",
           "#ab63fa",
           "#FFA15A",
           "#19d3f3",
           "#FF6692",
           "#B6E880",
           "#FF97FF",
           "#FECB52"
          ],
          "font": {
           "color": "#2a3f5f"
          },
          "geo": {
           "bgcolor": "white",
           "lakecolor": "white",
           "landcolor": "#E5ECF6",
           "showlakes": true,
           "showland": true,
           "subunitcolor": "white"
          },
          "hoverlabel": {
           "align": "left"
          },
          "hovermode": "closest",
          "mapbox": {
           "style": "light"
          },
          "paper_bgcolor": "white",
          "plot_bgcolor": "#E5ECF6",
          "polar": {
           "angularaxis": {
            "gridcolor": "white",
            "linecolor": "white",
            "ticks": ""
           },
           "bgcolor": "#E5ECF6",
           "radialaxis": {
            "gridcolor": "white",
            "linecolor": "white",
            "ticks": ""
           }
          },
          "scene": {
           "xaxis": {
            "backgroundcolor": "#E5ECF6",
            "gridcolor": "white",
            "gridwidth": 2,
            "linecolor": "white",
            "showbackground": true,
            "ticks": "",
            "zerolinecolor": "white"
           },
           "yaxis": {
            "backgroundcolor": "#E5ECF6",
            "gridcolor": "white",
            "gridwidth": 2,
            "linecolor": "white",
            "showbackground": true,
            "ticks": "",
            "zerolinecolor": "white"
           },
           "zaxis": {
            "backgroundcolor": "#E5ECF6",
            "gridcolor": "white",
            "gridwidth": 2,
            "linecolor": "white",
            "showbackground": true,
            "ticks": "",
            "zerolinecolor": "white"
           }
          },
          "shapedefaults": {
           "line": {
            "color": "#2a3f5f"
           }
          },
          "ternary": {
           "aaxis": {
            "gridcolor": "white",
            "linecolor": "white",
            "ticks": ""
           },
           "baxis": {
            "gridcolor": "white",
            "linecolor": "white",
            "ticks": ""
           },
           "bgcolor": "#E5ECF6",
           "caxis": {
            "gridcolor": "white",
            "linecolor": "white",
            "ticks": ""
           }
          },
          "title": {
           "x": 0.05
          },
          "xaxis": {
           "automargin": true,
           "gridcolor": "white",
           "linecolor": "white",
           "ticks": "",
           "title": {
            "standoff": 15
           },
           "zerolinecolor": "white",
           "zerolinewidth": 2
          },
          "yaxis": {
           "automargin": true,
           "gridcolor": "white",
           "linecolor": "white",
           "ticks": "",
           "title": {
            "standoff": 15
           },
           "zerolinecolor": "white",
           "zerolinewidth": 2
          }
         }
        }
       }
      },
      "image/png": "[encoded data removed]",
      "text/html": [
       "<div>                            <div id=\"b10fd699-1194-4da4-a041-0d01ca6f573f\" class=\"plotly-graph-div\" style=\"height:525px; width:100%;\"></div>            <script type=\"text/javascript\">                require([\"plotly\"], function(Plotly) {                    window.PLOTLYENV=window.PLOTLYENV || {};                                    if (document.getElementById(\"b10fd699-1194-4da4-a041-0d01ca6f573f\")) {                    Plotly.newPlot(                        \"b10fd699-1194-4da4-a041-0d01ca6f573f\",                        [{\"dimensions\": [{\"label\": \"neighborhood\", \"values\": [\"Union Square District\", \"Merced Heights\", \"Miraloma Park\", \"Pacific Heights\", \"Westwood Park\", \"Telegraph Hill\", \"Presidio Heights\", \"Cow Hollow\", \"Potrero Hill\", \"South Beach\"]}, {\"label\": \"sale_price_sqr_foot\", \"values\": [903.993, 788.845, 779.811, 689.556, 687.088, 676.507, 675.35, 665.964, 662.014, 650.124]}, {\"label\": \"housing_units\", \"values\": [377427.5, 380348.0, 375967.25, 378401.0, 382295.0, 378401.0, 378401.0, 378401.0, 378401.0, 375805.0]}, {\"label\": \"gross_rent\", \"values\": [2555.167, 3414.0, 2155.25, 2817.286, 3959.0, 2817.286, 2817.286, 2817.286, 2817.286, 2099.0]}], \"domain\": {\"x\": [0.0, 1.0], \"y\": [0.0, 1.0]}, \"line\": {\"color\": [903.993, 788.845, 779.811, 689.556, 687.088, 676.507, 675.35, 665.964, 662.014, 650.124], \"coloraxis\": \"coloraxis\"}, \"name\": \"\", \"type\": \"parcats\"}],                        {\"coloraxis\": {\"colorbar\": {\"title\": {\"text\": \"sale_price_sqr_foot\"}}, \"colorscale\": [[0.0, \"#000004\"], [0.1111111111111111, \"#1b0c41\"], [0.2222222222222222, \"#4a0c6b\"], [0.3333333333333333, \"#781c6d\"], [0.4444444444444444, \"#a52c60\"], [0.5555555555555556, \"#cf4446\"], [0.6666666666666666, \"#ed6925\"], [0.7777777777777778, \"#fb9b06\"], [0.8888888888888888, \"#f7d13d\"], [1.0, \"#fcffa4\"]]}, \"legend\": {\"tracegroupgap\": 0}, \"margin\": {\"t\": 60}, \"template\": {\"data\": {\"bar\": [{\"error_x\": {\"color\": \"#2a3f5f\"}, \"error_y\": {\"color\": \"#2a3f5f\"}, \"marker\": {\"line\": {\"color\": \"#E5ECF6\", \"width\": 0.5}}, \"type\": \"bar\"}], \"barpolar\": [{\"marker\": {\"line\": {\"color\": \"#E5ECF6\", \"width\": 0.5}}, \"type\": \"barpolar\"}], \"carpet\": [{\"aaxis\": {\"endlinecolor\": \"#2a3f5f\", \"gridcolor\": \"white\", \"linecolor\": \"white\", \"minorgridcolor\": \"white\", \"startlinecolor\": \"#2a3f5f\"}, \"baxis\": {\"endlinecolor\": \"#2a3f5f\", \"gridcolor\": \"white\", \"linecolor\": \"white\", \"minorgridcolor\": \"white\", \"startlinecolor\": \"#2a3f5f\"}, \"type\": \"carpet\"}], \"choropleth\": [{\"colorbar\": {\"outlinewidth\": 0, \"ticks\": \"\"}, \"type\": \"choropleth\"}], \"contour\": [{\"colorbar\": {\"outlinewidth\": 0, \"ticks\": \"\"}, \"colorscale\": [[0.0, \"#0d0887\"], [0.1111111111111111, \"#46039f\"], [0.2222222222222222, \"#7201a8\"], [0.3333333333333333, \"#9c179e\"], [0.4444444444444444, \"#bd3786\"], [0.5555555555555556, \"#d8576b\"], [0.6666666666666666, \"#ed7953\"], [0.7777777777777778, \"#fb9f3a\"], [0.8888888888888888, \"#fdca26\"], [1.0, \"#f0f921\"]], \"type\": \"contour\"}], \"contourcarpet\": [{\"colorbar\": {\"outlinewidth\": 0, \"ticks\": \"\"}, \"type\": \"contourcarpet\"}], \"heatmap\": [{\"colorbar\": {\"outlinewidth\": 0, \"ticks\": \"\"}, \"colorscale\": [[0.0, \"#0d0887\"], [0.1111111111111111, \"#46039f\"], [0.2222222222222222, \"#7201a8\"], [0.3333333333333333, \"#9c179e\"], [0.4444444444444444, \"#bd3786\"], [0.5555555555555556, \"#d8576b\"], [0.6666666666666666, \"#ed7953\"], [0.7777777777777778, \"#fb9f3a\"], [0.8888888888888888, \"#fdca26\"], [1.0, \"#f0f921\"]], \"type\": \"heatmap\"}], \"heatmapgl\": [{\"colorbar\": {\"outlinewidth\": 0, \"ticks\": \"\"}, \"colorscale\": [[0.0, \"#0d0887\"], [0.1111111111111111, \"#46039f\"], [0.2222222222222222, \"#7201a8\"], [0.3333333333333333, \"#9c179e\"], [0.4444444444444444, \"#bd3786\"], [0.5555555555555556, \"#d8576b\"], [0.6666666666666666, \"#ed7953\"], [0.7777777777777778, \"#fb9f3a\"], [0.8888888888888888, \"#fdca26\"], [1.0, \"#f0f921\"]], \"type\": \"heatmapgl\"}], \"histogram\": [{\"marker\": {\"colorbar\": {\"outlinewidth\": 0, \"ticks\": \"\"}}, \"type\": \"histogram\"}], \"histogram2d\": [{\"colorbar\": {\"outlinewidth\": 0, \"ticks\": \"\"}, \"colorscale\": [[0.0, \"#0d0887\"], [0.1111111111111111, \"#46039f\"], [0.2222222222222222, \"#7201a8\"], [0.3333333333333333, \"#9c179e\"], [0.4444444444444444, \"#bd3786\"], [0.5555555555555556, \"#d8576b\"], [0.6666666666666666, \"#ed7953\"], [0.7777777777777778, \"#fb9f3a\"], [0.8888888888888888, \"#fdca26\"], [1.0, \"#f0f921\"]], \"type\": \"histogram2d\"}], \"histogram2dcontour\": [{\"colorbar\": {\"outlinewidth\": 0, \"ticks\": \"\"}, \"colorscale\": [[0.0, \"#0d0887\"], [0.1111111111111111, \"#46039f\"], [0.2222222222222222, \"#7201a8\"], [0.3333333333333333, \"#9c179e\"], [0.4444444444444444, \"#bd3786\"], [0.5555555555555556, \"#d8576b\"], [0.6666666666666666, \"#ed7953\"], [0.7777777777777778, \"#fb9f3a\"], [0.8888888888888888, \"#fdca26\"], [1.0, \"#f0f921\"]], \"type\": \"histogram2dcontour\"}], \"mesh3d\": [{\"colorbar\": {\"outlinewidth\": 0, \"ticks\": \"\"}, \"type\": \"mesh3d\"}], \"parcoords\": [{\"line\": {\"colorbar\": {\"outlinewidth\": 0, \"ticks\": \"\"}}, \"type\": \"parcoords\"}], \"pie\": [{\"automargin\": true, \"type\": \"pie\"}], \"scatter\": [{\"marker\": {\"colorbar\": {\"outlinewidth\": 0, \"ticks\": \"\"}}, \"type\": \"scatter\"}], \"scatter3d\": [{\"line\": {\"colorbar\": {\"outlinewidth\": 0, \"ticks\": \"\"}}, \"marker\": {\"colorbar\": {\"outlinewidth\": 0, \"ticks\": \"\"}}, \"type\": \"scatter3d\"}], \"scattercarpet\": [{\"marker\": {\"colorbar\": {\"outlinewidth\": 0, \"ticks\": \"\"}}, \"type\": \"scattercarpet\"}], \"scattergeo\": [{\"marker\": {\"colorbar\": {\"outlinewidth\": 0, \"ticks\": \"\"}}, \"type\": \"scattergeo\"}], \"scattergl\": [{\"marker\": {\"colorbar\": {\"outlinewidth\": 0, \"ticks\": \"\"}}, \"type\": \"scattergl\"}], \"scattermapbox\": [{\"marker\": {\"colorbar\": {\"outlinewidth\": 0, \"ticks\": \"\"}}, \"type\": \"scattermapbox\"}], \"scatterpolar\": [{\"marker\": {\"colorbar\": {\"outlinewidth\": 0, \"ticks\": \"\"}}, \"type\": \"scatterpolar\"}], \"scatterpolargl\": [{\"marker\": {\"colorbar\": {\"outlinewidth\": 0, \"ticks\": \"\"}}, \"type\": \"scatterpolargl\"}], \"scatterternary\": [{\"marker\": {\"colorbar\": {\"outlinewidth\": 0, \"ticks\": \"\"}}, \"type\": \"scatterternary\"}], \"surface\": [{\"colorbar\": {\"outlinewidth\": 0, \"ticks\": \"\"}, \"colorscale\": [[0.0, \"#0d0887\"], [0.1111111111111111, \"#46039f\"], [0.2222222222222222, \"#7201a8\"], [0.3333333333333333, \"#9c179e\"], [0.4444444444444444, \"#bd3786\"], [0.5555555555555556, \"#d8576b\"], [0.6666666666666666, \"#ed7953\"], [0.7777777777777778, \"#fb9f3a\"], [0.8888888888888888, \"#fdca26\"], [1.0, \"#f0f921\"]], \"type\": \"surface\"}], \"table\": [{\"cells\": {\"fill\": {\"color\": \"#EBF0F8\"}, \"line\": {\"color\": \"white\"}}, \"header\": {\"fill\": {\"color\": \"#C8D4E3\"}, \"line\": {\"color\": \"white\"}}, \"type\": \"table\"}]}, \"layout\": {\"annotationdefaults\": {\"arrowcolor\": \"#2a3f5f\", \"arrowhead\": 0, \"arrowwidth\": 1}, \"coloraxis\": {\"colorbar\": {\"outlinewidth\": 0, \"ticks\": \"\"}}, \"colorscale\": {\"diverging\": [[0, \"#8e0152\"], [0.1, \"#c51b7d\"], [0.2, \"#de77ae\"], [0.3, \"#f1b6da\"], [0.4, \"#fde0ef\"], [0.5, \"#f7f7f7\"], [0.6, \"#e6f5d0\"], [0.7, \"#b8e186\"], [0.8, \"#7fbc41\"], [0.9, \"#4d9221\"], [1, \"#276419\"]], \"sequential\": [[0.0, \"#0d0887\"], [0.1111111111111111, \"#46039f\"], [0.2222222222222222, \"#7201a8\"], [0.3333333333333333, \"#9c179e\"], [0.4444444444444444, \"#bd3786\"], [0.5555555555555556, \"#d8576b\"], [0.6666666666666666, \"#ed7953\"], [0.7777777777777778, \"#fb9f3a\"], [0.8888888888888888, \"#fdca26\"], [1.0, \"#f0f921\"]], \"sequentialminus\": [[0.0, \"#0d0887\"], [0.1111111111111111, \"#46039f\"], [0.2222222222222222, \"#7201a8\"], [0.3333333333333333, \"#9c179e\"], [0.4444444444444444, \"#bd3786\"], [0.5555555555555556, \"#d8576b\"], [0.6666666666666666, \"#ed7953\"], [0.7777777777777778, \"#fb9f3a\"], [0.8888888888888888, \"#fdca26\"], [1.0, \"#f0f921\"]]}, \"colorway\": [\"#636efa\", \"#EF553B\", \"#00cc96\", \"#ab63fa\", \"#FFA15A\", \"#19d3f3\", \"#FF6692\", \"#B6E880\", \"#FF97FF\", \"#FECB52\"], \"font\": {\"color\": \"#2a3f5f\"}, \"geo\": {\"bgcolor\": \"white\", \"lakecolor\": \"white\", \"landcolor\": \"#E5ECF6\", \"showlakes\": true, \"showland\": true, \"subunitcolor\": \"white\"}, \"hoverlabel\": {\"align\": \"left\"}, \"hovermode\": \"closest\", \"mapbox\": {\"style\": \"light\"}, \"paper_bgcolor\": \"white\", \"plot_bgcolor\": \"#E5ECF6\", \"polar\": {\"angularaxis\": {\"gridcolor\": \"white\", \"linecolor\": \"white\", \"ticks\": \"\"}, \"bgcolor\": \"#E5ECF6\", \"radialaxis\": {\"gridcolor\": \"white\", \"linecolor\": \"white\", \"ticks\": \"\"}}, \"scene\": {\"xaxis\": {\"backgroundcolor\": \"#E5ECF6\", \"gridcolor\": \"white\", \"gridwidth\": 2, \"linecolor\": \"white\", \"showbackground\": true, \"ticks\": \"\", \"zerolinecolor\": \"white\"}, \"yaxis\": {\"backgroundcolor\": \"#E5ECF6\", \"gridcolor\": \"white\", \"gridwidth\": 2, \"linecolor\": \"white\", \"showbackground\": true, \"ticks\": \"\", \"zerolinecolor\": \"white\"}, \"zaxis\": {\"backgroundcolor\": \"#E5ECF6\", \"gridcolor\": \"white\", \"gridwidth\": 2, \"linecolor\": \"white\", \"showbackground\": true, \"ticks\": \"\", \"zerolinecolor\": \"white\"}}, \"shapedefaults\": {\"line\": {\"color\": \"#2a3f5f\"}}, \"ternary\": {\"aaxis\": {\"gridcolor\": \"white\", \"linecolor\": \"white\", \"ticks\": \"\"}, \"baxis\": {\"gridcolor\": \"white\", \"linecolor\": \"white\", \"ticks\": \"\"}, \"bgcolor\": \"#E5ECF6\", \"caxis\": {\"gridcolor\": \"white\", \"linecolor\": \"white\", \"ticks\": \"\"}}, \"title\": {\"x\": 0.05}, \"xaxis\": {\"automargin\": true, \"gridcolor\": \"white\", \"linecolor\": \"white\", \"ticks\": \"\", \"title\": {\"standoff\": 15}, \"zerolinecolor\": \"white\", \"zerolinewidth\": 2}, \"yaxis\": {\"automargin\": true, \"gridcolor\": \"white\", \"linecolor\": \"white\", \"ticks\": \"\", \"title\": {\"standoff\": 15}, \"zerolinecolor\": \"white\", \"zerolinewidth\": 2}}}},                        {\"responsive\": true}                    ).then(function(){\n",
       "                            \n",
       "var gd = document.getElementById('b10fd699-1194-4da4-a041-0d01ca6f573f');\n",
       "var x = new MutationObserver(function (mutations, observer) {{\n",
       "        var display = window.getComputedStyle(gd).display;\n",
       "        if (!display || display === 'none') {{\n",
       "            console.log([gd, 'removed!']);\n",
       "            Plotly.purge(gd);\n",
       "            observer.disconnect();\n",
       "        }}\n",
       "}});\n",
       "\n",
       "// Listen for the removal of the full notebook cells\n",
       "var notebookContainer = gd.closest('#notebook-container');\n",
       "if (notebookContainer) {{\n",
       "    x.observe(notebookContainer, {childList: true});\n",
       "}}\n",
       "\n",
       "// Listen for the clearing of the current output cell\n",
       "var outputEl = gd.closest('.output');\n",
       "if (outputEl) {{\n",
       "    x.observe(outputEl, {childList: true});\n",
       "}}\n",
       "\n",
       "                        })                };                });            </script>        </div>"
      ]
     },
     "metadata": {},
     "output_type": "display_data"
    }
   ],
   "source": [
    "parallel_categories()"
   ]
  },
  {
   "cell_type": "code",
   "execution_count": 52,
   "metadata": {},
   "outputs": [],
   "source": [
    "def neighborhood_map():\n",
    "    \"\"\"Neighborhood Map\"\"\"\n",
    "    df_neighborhood_locations.rename(columns = {'Neighborhood':'neighborhood'}, inplace=True)\n",
    "    neighborhood_mean = sfo_data.groupby('neighborhood').mean()\n",
    "    neighborhood_mean.reset_index(inplace=True)\n",
    "    neighborhood_location_df = pd.merge(df_neighborhood_locations,neighborhood_mean, on='neighborhood')\n",
    "    plot_neighborhood = px.scatter_mapbox(neighborhood_location_df, lat='Lat', lon='Lon', color='gross_rent', size='housing_units', title='San Franciscos Gross Rent And Average Sales Price Per Square Foot' ,\n",
    "    color_continuous_scale =px.colors.cyclical.IceFire, size_max=15, zoom=10)\n",
    "    return plot_neighborhood.show()"
   ]
  },
  {
   "cell_type": "code",
   "execution_count": 53,
   "metadata": {},
   "outputs": [
    {
     "data": {
      "application/vnd.plotly.v1+json": {
       "config": {
        "plotlyServerURL": "https://plot.ly"
       },
       "data": [
        {
         "hovertemplate": "housing_units=%{marker.size}<br>Lat=%{lat}<br>Lon=%{lon}<br>gross_rent=%{marker.color}<extra></extra>",
         "lat": [
          37.791012,
          37.779598,
          37.73467,
          37.72874,
          37.768159999999995,
          37.77789,
          37.74961,
          37.75331,
          37.78553,
          37.79298,
          37.7228,
          37.728629999999995,
          37.76964,
          37.75554,
          37.72874,
          37.79101,
          37.79101,
          37.757059999999996,
          37.728629999999995,
          37.757912,
          37.76525,
          37.76525,
          37.72551,
          37.72116,
          37.75416,
          37.74961,
          37.769112,
          37.74961,
          37.78553,
          37.801520000000004,
          37.7789,
          37.79298,
          37.79972,
          37.71993,
          37.75331,
          37.73415,
          37.783229999999996,
          37.75184,
          37.728629999999995,
          37.79298,
          37.75331,
          37.80055,
          37.80055,
          37.71993,
          37.7228,
          37.7517,
          37.74961,
          37.79298,
          37.72838,
          37.74961,
          37.76355,
          37.73467,
          37.73196,
          37.78553,
          37.79298,
          37.73467,
          37.783229999999996,
          37.79101,
          37.73415,
          37.80055,
          37.753311,
          37.79101,
          37.779509999999995,
          37.72874,
          37.74026,
          37.79298,
          37.7347,
          37.73415,
          37.79298
         ],
         "legendgroup": "",
         "lon": [
          -122.4021,
          -122.443451,
          -122.40106000000002,
          -122.41098000000001,
          -122.43933,
          -122.44516999999999,
          -122.48998999999999,
          -122.44703,
          -122.456,
          -122.43579,
          -122.43869,
          -122.44305,
          -122.42611000000001,
          -122.43778999999999,
          -122.41098000000001,
          -122.4021,
          -122.4021,
          -122.45508999999998,
          -122.44305,
          -122.46401999999999,
          -122.43596000000001,
          -122.43596000000001,
          -122.37178,
          -122.48706999999999,
          -122.41946999999999,
          -122.48998999999999,
          -122.483566,
          -122.48997,
          -122.456,
          -122.45456999999999,
          -122.45496000000001,
          -122.43579,
          -122.46688999999999,
          -122.46595,
          -122.44703,
          -122.45700000000001,
          -122.40065,
          -122.42522,
          -122.44305,
          -122.43579,
          -122.44703,
          -122.40433,
          -122.40433,
          -122.46595,
          -122.43869,
          -122.446,
          -122.48998999999999,
          -122.43579,
          -122.47851000000001,
          -122.48998999999999,
          -122.45765,
          -122.40106000000002,
          -122.38323999999999,
          -122.456,
          -122.43579,
          -122.40106000000002,
          -122.40065,
          -122.4021,
          -122.45700000000001,
          -122.40433,
          -122.447029,
          -122.4021,
          -122.42022,
          -122.41098000000001,
          -122.46388,
          -122.43579,
          -122.456854,
          -122.45700000000001,
          -122.39636000000002
         ],
         "marker": {
          "color": [
           2817.285714285714,
           3031.8333333333335,
           2318.4,
           3739,
           2698.8333333333335,
           2817.285714285714,
           2817.285714285714,
           2250.5,
           2472,
           2817.285714285714,
           2698.8333333333335,
           2016,
           2780.25,
           2817.285714285714,
           3031.8333333333335,
           2817.285714285714,
           2472,
           1781.5,
           2899.5,
           2601.4,
           2817.285714285714,
           2817.285714285714,
           2489,
           2960,
           2817.285714285714,
           3224,
           2817.285714285714,
           2817.285714285714,
           2817.285714285714,
           2555.1666666666665,
           2555.1666666666665,
           2817.285714285714,
           2817.285714285714,
           3414,
           2647.5,
           2155.25,
           2663.6666666666665,
           2555.1666666666665,
           3173.4,
           2817.285714285714,
           2817.285714285714,
           2990.8,
           2818.4,
           2434,
           2995.75,
           2817.285714285714,
           2817.285714285714,
           2817.285714285714,
           2817.285714285714,
           2555.1666666666665,
           2817.285714285714,
           2318.4,
           2817.285714285714,
           2817.285714285714,
           2817.285714285714,
           3528,
           2099,
           2817.285714285714,
           2899.5,
           2817.285714285714,
           2817.285714285714,
           2555.1666666666665,
           2817.285714285714,
           3657,
           2515.5,
           2555.1666666666665,
           2250.5,
           3959,
           2555.1666666666665
          ],
          "coloraxis": "coloraxis",
          "size": [
           378401,
           379050,
           376454,
           382295,
           378076.5,
           378401,
           378401,
           376454,
           377232.8,
           378401,
           378076.5,
           375480.5,
           378401,
           378401,
           379050,
           378401,
           377232.8,
           374507,
           378725.5,
           377622.2,
           378401,
           378401,
           377427.5,
           379374.5,
           378401,
           379861.25,
           378401,
           378401,
           378401,
           377427.5,
           377427.5,
           378401,
           378401,
           380348,
           377427.5,
           375967.25,
           377752,
           377427.5,
           379569.2,
           378401,
           378401,
           379179.8,
           378401,
           377103,
           379374.5,
           378401,
           378401,
           378401,
           378401,
           377427.5,
           378401,
           376454,
           378401,
           378401,
           378401,
           380348,
           375805,
           378401,
           378725.5,
           378401,
           378401,
           377427.5,
           378401,
           381321.5,
           376940.75,
           377427.5,
           376454,
           382295,
           377427.5
          ],
          "sizemode": "area",
          "sizeref": 1699.088888888889
         },
         "mode": "markers",
         "name": "",
         "showlegend": false,
         "subplot": "mapbox",
         "type": "scattermapbox"
        }
       ],
       "layout": {
        "coloraxis": {
         "colorbar": {
          "title": {
           "text": "gross_rent"
          }
         },
         "colorscale": [
          [
           0,
           "#000000"
          ],
          [
           0.0625,
           "#001f4d"
          ],
          [
           0.125,
           "#003786"
          ],
          [
           0.1875,
           "#0e58a8"
          ],
          [
           0.25,
           "#217eb8"
          ],
          [
           0.3125,
           "#30a4ca"
          ],
          [
           0.375,
           "#54c8df"
          ],
          [
           0.4375,
           "#9be4ef"
          ],
          [
           0.5,
           "#e1e9d1"
          ],
          [
           0.5625,
           "#f3d573"
          ],
          [
           0.625,
           "#e7b000"
          ],
          [
           0.6875,
           "#da8200"
          ],
          [
           0.75,
           "#c65400"
          ],
          [
           0.8125,
           "#ac2301"
          ],
          [
           0.875,
           "#820000"
          ],
          [
           0.9375,
           "#4c0000"
          ],
          [
           1,
           "#000000"
          ]
         ]
        },
        "legend": {
         "itemsizing": "constant",
         "tracegroupgap": 0
        },
        "mapbox": {
         "center": {
          "lat": 37.76064079710145,
          "lon": -122.43826449275363
         },
         "domain": {
          "x": [
           0,
           1
          ],
          "y": [
           0,
           1
          ]
         },
         "zoom": 10
        },
        "template": {
         "data": {
          "bar": [
           {
            "error_x": {
             "color": "#2a3f5f"
            },
            "error_y": {
             "color": "#2a3f5f"
            },
            "marker": {
             "line": {
              "color": "#E5ECF6",
              "width": 0.5
             }
            },
            "type": "bar"
           }
          ],
          "barpolar": [
           {
            "marker": {
             "line": {
              "color": "#E5ECF6",
              "width": 0.5
             }
            },
            "type": "barpolar"
           }
          ],
          "carpet": [
           {
            "aaxis": {
             "endlinecolor": "#2a3f5f",
             "gridcolor": "white",
             "linecolor": "white",
             "minorgridcolor": "white",
             "startlinecolor": "#2a3f5f"
            },
            "baxis": {
             "endlinecolor": "#2a3f5f",
             "gridcolor": "white",
             "linecolor": "white",
             "minorgridcolor": "white",
             "startlinecolor": "#2a3f5f"
            },
            "type": "carpet"
           }
          ],
          "choropleth": [
           {
            "colorbar": {
             "outlinewidth": 0,
             "ticks": ""
            },
            "type": "choropleth"
           }
          ],
          "contour": [
           {
            "colorbar": {
             "outlinewidth": 0,
             "ticks": ""
            },
            "colorscale": [
             [
              0,
              "#0d0887"
             ],
             [
              0.1111111111111111,
              "#46039f"
             ],
             [
              0.2222222222222222,
              "#7201a8"
             ],
             [
              0.3333333333333333,
              "#9c179e"
             ],
             [
              0.4444444444444444,
              "#bd3786"
             ],
             [
              0.5555555555555556,
              "#d8576b"
             ],
             [
              0.6666666666666666,
              "#ed7953"
             ],
             [
              0.7777777777777778,
              "#fb9f3a"
             ],
             [
              0.8888888888888888,
              "#fdca26"
             ],
             [
              1,
              "#f0f921"
             ]
            ],
            "type": "contour"
           }
          ],
          "contourcarpet": [
           {
            "colorbar": {
             "outlinewidth": 0,
             "ticks": ""
            },
            "type": "contourcarpet"
           }
          ],
          "heatmap": [
           {
            "colorbar": {
             "outlinewidth": 0,
             "ticks": ""
            },
            "colorscale": [
             [
              0,
              "#0d0887"
             ],
             [
              0.1111111111111111,
              "#46039f"
             ],
             [
              0.2222222222222222,
              "#7201a8"
             ],
             [
              0.3333333333333333,
              "#9c179e"
             ],
             [
              0.4444444444444444,
              "#bd3786"
             ],
             [
              0.5555555555555556,
              "#d8576b"
             ],
             [
              0.6666666666666666,
              "#ed7953"
             ],
             [
              0.7777777777777778,
              "#fb9f3a"
             ],
             [
              0.8888888888888888,
              "#fdca26"
             ],
             [
              1,
              "#f0f921"
             ]
            ],
            "type": "heatmap"
           }
          ],
          "heatmapgl": [
           {
            "colorbar": {
             "outlinewidth": 0,
             "ticks": ""
            },
            "colorscale": [
             [
              0,
              "#0d0887"
             ],
             [
              0.1111111111111111,
              "#46039f"
             ],
             [
              0.2222222222222222,
              "#7201a8"
             ],
             [
              0.3333333333333333,
              "#9c179e"
             ],
             [
              0.4444444444444444,
              "#bd3786"
             ],
             [
              0.5555555555555556,
              "#d8576b"
             ],
             [
              0.6666666666666666,
              "#ed7953"
             ],
             [
              0.7777777777777778,
              "#fb9f3a"
             ],
             [
              0.8888888888888888,
              "#fdca26"
             ],
             [
              1,
              "#f0f921"
             ]
            ],
            "type": "heatmapgl"
           }
          ],
          "histogram": [
           {
            "marker": {
             "colorbar": {
              "outlinewidth": 0,
              "ticks": ""
             }
            },
            "type": "histogram"
           }
          ],
          "histogram2d": [
           {
            "colorbar": {
             "outlinewidth": 0,
             "ticks": ""
            },
            "colorscale": [
             [
              0,
              "#0d0887"
             ],
             [
              0.1111111111111111,
              "#46039f"
             ],
             [
              0.2222222222222222,
              "#7201a8"
             ],
             [
              0.3333333333333333,
              "#9c179e"
             ],
             [
              0.4444444444444444,
              "#bd3786"
             ],
             [
              0.5555555555555556,
              "#d8576b"
             ],
             [
              0.6666666666666666,
              "#ed7953"
             ],
             [
              0.7777777777777778,
              "#fb9f3a"
             ],
             [
              0.8888888888888888,
              "#fdca26"
             ],
             [
              1,
              "#f0f921"
             ]
            ],
            "type": "histogram2d"
           }
          ],
          "histogram2dcontour": [
           {
            "colorbar": {
             "outlinewidth": 0,
             "ticks": ""
            },
            "colorscale": [
             [
              0,
              "#0d0887"
             ],
             [
              0.1111111111111111,
              "#46039f"
             ],
             [
              0.2222222222222222,
              "#7201a8"
             ],
             [
              0.3333333333333333,
              "#9c179e"
             ],
             [
              0.4444444444444444,
              "#bd3786"
             ],
             [
              0.5555555555555556,
              "#d8576b"
             ],
             [
              0.6666666666666666,
              "#ed7953"
             ],
             [
              0.7777777777777778,
              "#fb9f3a"
             ],
             [
              0.8888888888888888,
              "#fdca26"
             ],
             [
              1,
              "#f0f921"
             ]
            ],
            "type": "histogram2dcontour"
           }
          ],
          "mesh3d": [
           {
            "colorbar": {
             "outlinewidth": 0,
             "ticks": ""
            },
            "type": "mesh3d"
           }
          ],
          "parcoords": [
           {
            "line": {
             "colorbar": {
              "outlinewidth": 0,
              "ticks": ""
             }
            },
            "type": "parcoords"
           }
          ],
          "pie": [
           {
            "automargin": true,
            "type": "pie"
           }
          ],
          "scatter": [
           {
            "marker": {
             "colorbar": {
              "outlinewidth": 0,
              "ticks": ""
             }
            },
            "type": "scatter"
           }
          ],
          "scatter3d": [
           {
            "line": {
             "colorbar": {
              "outlinewidth": 0,
              "ticks": ""
             }
            },
            "marker": {
             "colorbar": {
              "outlinewidth": 0,
              "ticks": ""
             }
            },
            "type": "scatter3d"
           }
          ],
          "scattercarpet": [
           {
            "marker": {
             "colorbar": {
              "outlinewidth": 0,
              "ticks": ""
             }
            },
            "type": "scattercarpet"
           }
          ],
          "scattergeo": [
           {
            "marker": {
             "colorbar": {
              "outlinewidth": 0,
              "ticks": ""
             }
            },
            "type": "scattergeo"
           }
          ],
          "scattergl": [
           {
            "marker": {
             "colorbar": {
              "outlinewidth": 0,
              "ticks": ""
             }
            },
            "type": "scattergl"
           }
          ],
          "scattermapbox": [
           {
            "marker": {
             "colorbar": {
              "outlinewidth": 0,
              "ticks": ""
             }
            },
            "type": "scattermapbox"
           }
          ],
          "scatterpolar": [
           {
            "marker": {
             "colorbar": {
              "outlinewidth": 0,
              "ticks": ""
             }
            },
            "type": "scatterpolar"
           }
          ],
          "scatterpolargl": [
           {
            "marker": {
             "colorbar": {
              "outlinewidth": 0,
              "ticks": ""
             }
            },
            "type": "scatterpolargl"
           }
          ],
          "scatterternary": [
           {
            "marker": {
             "colorbar": {
              "outlinewidth": 0,
              "ticks": ""
             }
            },
            "type": "scatterternary"
           }
          ],
          "surface": [
           {
            "colorbar": {
             "outlinewidth": 0,
             "ticks": ""
            },
            "colorscale": [
             [
              0,
              "#0d0887"
             ],
             [
              0.1111111111111111,
              "#46039f"
             ],
             [
              0.2222222222222222,
              "#7201a8"
             ],
             [
              0.3333333333333333,
              "#9c179e"
             ],
             [
              0.4444444444444444,
              "#bd3786"
             ],
             [
              0.5555555555555556,
              "#d8576b"
             ],
             [
              0.6666666666666666,
              "#ed7953"
             ],
             [
              0.7777777777777778,
              "#fb9f3a"
             ],
             [
              0.8888888888888888,
              "#fdca26"
             ],
             [
              1,
              "#f0f921"
             ]
            ],
            "type": "surface"
           }
          ],
          "table": [
           {
            "cells": {
             "fill": {
              "color": "#EBF0F8"
             },
             "line": {
              "color": "white"
             }
            },
            "header": {
             "fill": {
              "color": "#C8D4E3"
             },
             "line": {
              "color": "white"
             }
            },
            "type": "table"
           }
          ]
         },
         "layout": {
          "annotationdefaults": {
           "arrowcolor": "#2a3f5f",
           "arrowhead": 0,
           "arrowwidth": 1
          },
          "coloraxis": {
           "colorbar": {
            "outlinewidth": 0,
            "ticks": ""
           }
          },
          "colorscale": {
           "diverging": [
            [
             0,
             "#8e0152"
            ],
            [
             0.1,
             "#c51b7d"
            ],
            [
             0.2,
             "#de77ae"
            ],
            [
             0.3,
             "#f1b6da"
            ],
            [
             0.4,
             "#fde0ef"
            ],
            [
             0.5,
             "#f7f7f7"
            ],
            [
             0.6,
             "#e6f5d0"
            ],
            [
             0.7,
             "#b8e186"
            ],
            [
             0.8,
             "#7fbc41"
            ],
            [
             0.9,
             "#4d9221"
            ],
            [
             1,
             "#276419"
            ]
           ],
           "sequential": [
            [
             0,
             "#0d0887"
            ],
            [
             0.1111111111111111,
             "#46039f"
            ],
            [
             0.2222222222222222,
             "#7201a8"
            ],
            [
             0.3333333333333333,
             "#9c179e"
            ],
            [
             0.4444444444444444,
             "#bd3786"
            ],
            [
             0.5555555555555556,
             "#d8576b"
            ],
            [
             0.6666666666666666,
             "#ed7953"
            ],
            [
             0.7777777777777778,
             "#fb9f3a"
            ],
            [
             0.8888888888888888,
             "#fdca26"
            ],
            [
             1,
             "#f0f921"
            ]
           ],
           "sequentialminus": [
            [
             0,
             "#0d0887"
            ],
            [
             0.1111111111111111,
             "#46039f"
            ],
            [
             0.2222222222222222,
             "#7201a8"
            ],
            [
             0.3333333333333333,
             "#9c179e"
            ],
            [
             0.4444444444444444,
             "#bd3786"
            ],
            [
             0.5555555555555556,
             "#d8576b"
            ],
            [
             0.6666666666666666,
             "#ed7953"
            ],
            [
             0.7777777777777778,
             "#fb9f3a"
            ],
            [
             0.8888888888888888,
             "#fdca26"
            ],
            [
             1,
             "#f0f921"
            ]
           ]
          },
          "colorway": [
           "#636efa",
           "#EF553B",
           "#00cc96",
           "#ab63fa",
           "#FFA15A",
           "#19d3f3",
           "#FF6692",
           "#B6E880",
           "#FF97FF",
           "#FECB52"
          ],
          "font": {
           "color": "#2a3f5f"
          },
          "geo": {
           "bgcolor": "white",
           "lakecolor": "white",
           "landcolor": "#E5ECF6",
           "showlakes": true,
           "showland": true,
           "subunitcolor": "white"
          },
          "hoverlabel": {
           "align": "left"
          },
          "hovermode": "closest",
          "mapbox": {
           "style": "light"
          },
          "paper_bgcolor": "white",
          "plot_bgcolor": "#E5ECF6",
          "polar": {
           "angularaxis": {
            "gridcolor": "white",
            "linecolor": "white",
            "ticks": ""
           },
           "bgcolor": "#E5ECF6",
           "radialaxis": {
            "gridcolor": "white",
            "linecolor": "white",
            "ticks": ""
           }
          },
          "scene": {
           "xaxis": {
            "backgroundcolor": "#E5ECF6",
            "gridcolor": "white",
            "gridwidth": 2,
            "linecolor": "white",
            "showbackground": true,
            "ticks": "",
            "zerolinecolor": "white"
           },
           "yaxis": {
            "backgroundcolor": "#E5ECF6",
            "gridcolor": "white",
            "gridwidth": 2,
            "linecolor": "white",
            "showbackground": true,
            "ticks": "",
            "zerolinecolor": "white"
           },
           "zaxis": {
            "backgroundcolor": "#E5ECF6",
            "gridcolor": "white",
            "gridwidth": 2,
            "linecolor": "white",
            "showbackground": true,
            "ticks": "",
            "zerolinecolor": "white"
           }
          },
          "shapedefaults": {
           "line": {
            "color": "#2a3f5f"
           }
          },
          "ternary": {
           "aaxis": {
            "gridcolor": "white",
            "linecolor": "white",
            "ticks": ""
           },
           "baxis": {
            "gridcolor": "white",
            "linecolor": "white",
            "ticks": ""
           },
           "bgcolor": "#E5ECF6",
           "caxis": {
            "gridcolor": "white",
            "linecolor": "white",
            "ticks": ""
           }
          },
          "title": {
           "x": 0.05
          },
          "xaxis": {
           "automargin": true,
           "gridcolor": "white",
           "linecolor": "white",
           "ticks": "",
           "title": {
            "standoff": 15
           },
           "zerolinecolor": "white",
           "zerolinewidth": 2
          },
          "yaxis": {
           "automargin": true,
           "gridcolor": "white",
           "linecolor": "white",
           "ticks": "",
           "title": {
            "standoff": 15
           },
           "zerolinecolor": "white",
           "zerolinewidth": 2
          }
         }
        },
        "title": {
         "text": "San Franciscos Gross Rent And Average Sales Price Per Square Foot"
        }
       }
      },
      "text/html": [
       "<div>                            <div id=\"14e57feb-188d-4e56-a621-7ac8f1e7b748\" class=\"plotly-graph-div\" style=\"height:525px; width:100%;\"></div>            <script type=\"text/javascript\">                require([\"plotly\"], function(Plotly) {                    window.PLOTLYENV=window.PLOTLYENV || {};                                    if (document.getElementById(\"14e57feb-188d-4e56-a621-7ac8f1e7b748\")) {                    Plotly.newPlot(                        \"14e57feb-188d-4e56-a621-7ac8f1e7b748\",                        [{\"hovertemplate\": \"housing_units=%{marker.size}<br>Lat=%{lat}<br>Lon=%{lon}<br>gross_rent=%{marker.color}<extra></extra>\", \"lat\": [37.791012, 37.779598, 37.73467, 37.72874, 37.768159999999995, 37.77789, 37.74961, 37.75331, 37.78553, 37.79298, 37.7228, 37.728629999999995, 37.76964, 37.75554, 37.72874, 37.79101, 37.79101, 37.757059999999996, 37.728629999999995, 37.757912, 37.76525, 37.76525, 37.72551, 37.72116, 37.75416, 37.74961, 37.769112, 37.74961, 37.78553, 37.801520000000004, 37.7789, 37.79298, 37.79972, 37.71993, 37.75331, 37.73415, 37.783229999999996, 37.75184, 37.728629999999995, 37.79298, 37.75331, 37.80055, 37.80055, 37.71993, 37.7228, 37.7517, 37.74961, 37.79298, 37.72838, 37.74961, 37.76355, 37.73467, 37.73196, 37.78553, 37.79298, 37.73467, 37.783229999999996, 37.79101, 37.73415, 37.80055, 37.753311, 37.79101, 37.779509999999995, 37.72874, 37.74026, 37.79298, 37.7347, 37.73415, 37.79298], \"legendgroup\": \"\", \"lon\": [-122.4021, -122.443451, -122.40106000000002, -122.41098000000001, -122.43933, -122.44516999999999, -122.48998999999999, -122.44703, -122.456, -122.43579, -122.43869, -122.44305, -122.42611000000001, -122.43778999999999, -122.41098000000001, -122.4021, -122.4021, -122.45508999999998, -122.44305, -122.46401999999999, -122.43596000000001, -122.43596000000001, -122.37178, -122.48706999999999, -122.41946999999999, -122.48998999999999, -122.483566, -122.48997, -122.456, -122.45456999999999, -122.45496000000001, -122.43579, -122.46688999999999, -122.46595, -122.44703, -122.45700000000001, -122.40065, -122.42522, -122.44305, -122.43579, -122.44703, -122.40433, -122.40433, -122.46595, -122.43869, -122.446, -122.48998999999999, -122.43579, -122.47851000000001, -122.48998999999999, -122.45765, -122.40106000000002, -122.38323999999999, -122.456, -122.43579, -122.40106000000002, -122.40065, -122.4021, -122.45700000000001, -122.40433, -122.447029, -122.4021, -122.42022, -122.41098000000001, -122.46388, -122.43579, -122.456854, -122.45700000000001, -122.39636000000002], \"marker\": {\"color\": [2817.285714285714, 3031.8333333333335, 2318.4, 3739.0, 2698.8333333333335, 2817.285714285714, 2817.285714285714, 2250.5, 2472.0, 2817.285714285714, 2698.8333333333335, 2016.0, 2780.25, 2817.285714285714, 3031.8333333333335, 2817.285714285714, 2472.0, 1781.5, 2899.5, 2601.4, 2817.285714285714, 2817.285714285714, 2489.0, 2960.0, 2817.285714285714, 3224.0, 2817.285714285714, 2817.285714285714, 2817.285714285714, 2555.1666666666665, 2555.1666666666665, 2817.285714285714, 2817.285714285714, 3414.0, 2647.5, 2155.25, 2663.6666666666665, 2555.1666666666665, 3173.4, 2817.285714285714, 2817.285714285714, 2990.8, 2818.4, 2434.0, 2995.75, 2817.285714285714, 2817.285714285714, 2817.285714285714, 2817.285714285714, 2555.1666666666665, 2817.285714285714, 2318.4, 2817.285714285714, 2817.285714285714, 2817.285714285714, 3528.0, 2099.0, 2817.285714285714, 2899.5, 2817.285714285714, 2817.285714285714, 2555.1666666666665, 2817.285714285714, 3657.0, 2515.5, 2555.1666666666665, 2250.5, 3959.0, 2555.1666666666665], \"coloraxis\": \"coloraxis\", \"size\": [378401.0, 379050.0, 376454.0, 382295.0, 378076.5, 378401.0, 378401.0, 376454.0, 377232.8, 378401.0, 378076.5, 375480.5, 378401.0, 378401.0, 379050.0, 378401.0, 377232.8, 374507.0, 378725.5, 377622.2, 378401.0, 378401.0, 377427.5, 379374.5, 378401.0, 379861.25, 378401.0, 378401.0, 378401.0, 377427.5, 377427.5, 378401.0, 378401.0, 380348.0, 377427.5, 375967.25, 377752.0, 377427.5, 379569.2, 378401.0, 378401.0, 379179.8, 378401.0, 377103.0, 379374.5, 378401.0, 378401.0, 378401.0, 378401.0, 377427.5, 378401.0, 376454.0, 378401.0, 378401.0, 378401.0, 380348.0, 375805.0, 378401.0, 378725.5, 378401.0, 378401.0, 377427.5, 378401.0, 381321.5, 376940.75, 377427.5, 376454.0, 382295.0, 377427.5], \"sizemode\": \"area\", \"sizeref\": 1699.088888888889}, \"mode\": \"markers\", \"name\": \"\", \"showlegend\": false, \"subplot\": \"mapbox\", \"type\": \"scattermapbox\"}],                        {\"coloraxis\": {\"colorbar\": {\"title\": {\"text\": \"gross_rent\"}}, \"colorscale\": [[0.0, \"#000000\"], [0.0625, \"#001f4d\"], [0.125, \"#003786\"], [0.1875, \"#0e58a8\"], [0.25, \"#217eb8\"], [0.3125, \"#30a4ca\"], [0.375, \"#54c8df\"], [0.4375, \"#9be4ef\"], [0.5, \"#e1e9d1\"], [0.5625, \"#f3d573\"], [0.625, \"#e7b000\"], [0.6875, \"#da8200\"], [0.75, \"#c65400\"], [0.8125, \"#ac2301\"], [0.875, \"#820000\"], [0.9375, \"#4c0000\"], [1.0, \"#000000\"]]}, \"legend\": {\"itemsizing\": \"constant\", \"tracegroupgap\": 0}, \"mapbox\": {\"center\": {\"lat\": 37.76064079710145, \"lon\": -122.43826449275363}, \"domain\": {\"x\": [0.0, 1.0], \"y\": [0.0, 1.0]}, \"zoom\": 10}, \"template\": {\"data\": {\"bar\": [{\"error_x\": {\"color\": \"#2a3f5f\"}, \"error_y\": {\"color\": \"#2a3f5f\"}, \"marker\": {\"line\": {\"color\": \"#E5ECF6\", \"width\": 0.5}}, \"type\": \"bar\"}], \"barpolar\": [{\"marker\": {\"line\": {\"color\": \"#E5ECF6\", \"width\": 0.5}}, \"type\": \"barpolar\"}], \"carpet\": [{\"aaxis\": {\"endlinecolor\": \"#2a3f5f\", \"gridcolor\": \"white\", \"linecolor\": \"white\", \"minorgridcolor\": \"white\", \"startlinecolor\": \"#2a3f5f\"}, \"baxis\": {\"endlinecolor\": \"#2a3f5f\", \"gridcolor\": \"white\", \"linecolor\": \"white\", \"minorgridcolor\": \"white\", \"startlinecolor\": \"#2a3f5f\"}, \"type\": \"carpet\"}], \"choropleth\": [{\"colorbar\": {\"outlinewidth\": 0, \"ticks\": \"\"}, \"type\": \"choropleth\"}], \"contour\": [{\"colorbar\": {\"outlinewidth\": 0, \"ticks\": \"\"}, \"colorscale\": [[0.0, \"#0d0887\"], [0.1111111111111111, \"#46039f\"], [0.2222222222222222, \"#7201a8\"], [0.3333333333333333, \"#9c179e\"], [0.4444444444444444, \"#bd3786\"], [0.5555555555555556, \"#d8576b\"], [0.6666666666666666, \"#ed7953\"], [0.7777777777777778, \"#fb9f3a\"], [0.8888888888888888, \"#fdca26\"], [1.0, \"#f0f921\"]], \"type\": \"contour\"}], \"contourcarpet\": [{\"colorbar\": {\"outlinewidth\": 0, \"ticks\": \"\"}, \"type\": \"contourcarpet\"}], \"heatmap\": [{\"colorbar\": {\"outlinewidth\": 0, \"ticks\": \"\"}, \"colorscale\": [[0.0, \"#0d0887\"], [0.1111111111111111, \"#46039f\"], [0.2222222222222222, \"#7201a8\"], [0.3333333333333333, \"#9c179e\"], [0.4444444444444444, \"#bd3786\"], [0.5555555555555556, \"#d8576b\"], [0.6666666666666666, \"#ed7953\"], [0.7777777777777778, \"#fb9f3a\"], [0.8888888888888888, \"#fdca26\"], [1.0, \"#f0f921\"]], \"type\": \"heatmap\"}], \"heatmapgl\": [{\"colorbar\": {\"outlinewidth\": 0, \"ticks\": \"\"}, \"colorscale\": [[0.0, \"#0d0887\"], [0.1111111111111111, \"#46039f\"], [0.2222222222222222, \"#7201a8\"], [0.3333333333333333, \"#9c179e\"], [0.4444444444444444, \"#bd3786\"], [0.5555555555555556, \"#d8576b\"], [0.6666666666666666, \"#ed7953\"], [0.7777777777777778, \"#fb9f3a\"], [0.8888888888888888, \"#fdca26\"], [1.0, \"#f0f921\"]], \"type\": \"heatmapgl\"}], \"histogram\": [{\"marker\": {\"colorbar\": {\"outlinewidth\": 0, \"ticks\": \"\"}}, \"type\": \"histogram\"}], \"histogram2d\": [{\"colorbar\": {\"outlinewidth\": 0, \"ticks\": \"\"}, \"colorscale\": [[0.0, \"#0d0887\"], [0.1111111111111111, \"#46039f\"], [0.2222222222222222, \"#7201a8\"], [0.3333333333333333, \"#9c179e\"], [0.4444444444444444, \"#bd3786\"], [0.5555555555555556, \"#d8576b\"], [0.6666666666666666, \"#ed7953\"], [0.7777777777777778, \"#fb9f3a\"], [0.8888888888888888, \"#fdca26\"], [1.0, \"#f0f921\"]], \"type\": \"histogram2d\"}], \"histogram2dcontour\": [{\"colorbar\": {\"outlinewidth\": 0, \"ticks\": \"\"}, \"colorscale\": [[0.0, \"#0d0887\"], [0.1111111111111111, \"#46039f\"], [0.2222222222222222, \"#7201a8\"], [0.3333333333333333, \"#9c179e\"], [0.4444444444444444, \"#bd3786\"], [0.5555555555555556, \"#d8576b\"], [0.6666666666666666, \"#ed7953\"], [0.7777777777777778, \"#fb9f3a\"], [0.8888888888888888, \"#fdca26\"], [1.0, \"#f0f921\"]], \"type\": \"histogram2dcontour\"}], \"mesh3d\": [{\"colorbar\": {\"outlinewidth\": 0, \"ticks\": \"\"}, \"type\": \"mesh3d\"}], \"parcoords\": [{\"line\": {\"colorbar\": {\"outlinewidth\": 0, \"ticks\": \"\"}}, \"type\": \"parcoords\"}], \"pie\": [{\"automargin\": true, \"type\": \"pie\"}], \"scatter\": [{\"marker\": {\"colorbar\": {\"outlinewidth\": 0, \"ticks\": \"\"}}, \"type\": \"scatter\"}], \"scatter3d\": [{\"line\": {\"colorbar\": {\"outlinewidth\": 0, \"ticks\": \"\"}}, \"marker\": {\"colorbar\": {\"outlinewidth\": 0, \"ticks\": \"\"}}, \"type\": \"scatter3d\"}], \"scattercarpet\": [{\"marker\": {\"colorbar\": {\"outlinewidth\": 0, \"ticks\": \"\"}}, \"type\": \"scattercarpet\"}], \"scattergeo\": [{\"marker\": {\"colorbar\": {\"outlinewidth\": 0, \"ticks\": \"\"}}, \"type\": \"scattergeo\"}], \"scattergl\": [{\"marker\": {\"colorbar\": {\"outlinewidth\": 0, \"ticks\": \"\"}}, \"type\": \"scattergl\"}], \"scattermapbox\": [{\"marker\": {\"colorbar\": {\"outlinewidth\": 0, \"ticks\": \"\"}}, \"type\": \"scattermapbox\"}], \"scatterpolar\": [{\"marker\": {\"colorbar\": {\"outlinewidth\": 0, \"ticks\": \"\"}}, \"type\": \"scatterpolar\"}], \"scatterpolargl\": [{\"marker\": {\"colorbar\": {\"outlinewidth\": 0, \"ticks\": \"\"}}, \"type\": \"scatterpolargl\"}], \"scatterternary\": [{\"marker\": {\"colorbar\": {\"outlinewidth\": 0, \"ticks\": \"\"}}, \"type\": \"scatterternary\"}], \"surface\": [{\"colorbar\": {\"outlinewidth\": 0, \"ticks\": \"\"}, \"colorscale\": [[0.0, \"#0d0887\"], [0.1111111111111111, \"#46039f\"], [0.2222222222222222, \"#7201a8\"], [0.3333333333333333, \"#9c179e\"], [0.4444444444444444, \"#bd3786\"], [0.5555555555555556, \"#d8576b\"], [0.6666666666666666, \"#ed7953\"], [0.7777777777777778, \"#fb9f3a\"], [0.8888888888888888, \"#fdca26\"], [1.0, \"#f0f921\"]], \"type\": \"surface\"}], \"table\": [{\"cells\": {\"fill\": {\"color\": \"#EBF0F8\"}, \"line\": {\"color\": \"white\"}}, \"header\": {\"fill\": {\"color\": \"#C8D4E3\"}, \"line\": {\"color\": \"white\"}}, \"type\": \"table\"}]}, \"layout\": {\"annotationdefaults\": {\"arrowcolor\": \"#2a3f5f\", \"arrowhead\": 0, \"arrowwidth\": 1}, \"coloraxis\": {\"colorbar\": {\"outlinewidth\": 0, \"ticks\": \"\"}}, \"colorscale\": {\"diverging\": [[0, \"#8e0152\"], [0.1, \"#c51b7d\"], [0.2, \"#de77ae\"], [0.3, \"#f1b6da\"], [0.4, \"#fde0ef\"], [0.5, \"#f7f7f7\"], [0.6, \"#e6f5d0\"], [0.7, \"#b8e186\"], [0.8, \"#7fbc41\"], [0.9, \"#4d9221\"], [1, \"#276419\"]], \"sequential\": [[0.0, \"#0d0887\"], [0.1111111111111111, \"#46039f\"], [0.2222222222222222, \"#7201a8\"], [0.3333333333333333, \"#9c179e\"], [0.4444444444444444, \"#bd3786\"], [0.5555555555555556, \"#d8576b\"], [0.6666666666666666, \"#ed7953\"], [0.7777777777777778, \"#fb9f3a\"], [0.8888888888888888, \"#fdca26\"], [1.0, \"#f0f921\"]], \"sequentialminus\": [[0.0, \"#0d0887\"], [0.1111111111111111, \"#46039f\"], [0.2222222222222222, \"#7201a8\"], [0.3333333333333333, \"#9c179e\"], [0.4444444444444444, \"#bd3786\"], [0.5555555555555556, \"#d8576b\"], [0.6666666666666666, \"#ed7953\"], [0.7777777777777778, \"#fb9f3a\"], [0.8888888888888888, \"#fdca26\"], [1.0, \"#f0f921\"]]}, \"colorway\": [\"#636efa\", \"#EF553B\", \"#00cc96\", \"#ab63fa\", \"#FFA15A\", \"#19d3f3\", \"#FF6692\", \"#B6E880\", \"#FF97FF\", \"#FECB52\"], \"font\": {\"color\": \"#2a3f5f\"}, \"geo\": {\"bgcolor\": \"white\", \"lakecolor\": \"white\", \"landcolor\": \"#E5ECF6\", \"showlakes\": true, \"showland\": true, \"subunitcolor\": \"white\"}, \"hoverlabel\": {\"align\": \"left\"}, \"hovermode\": \"closest\", \"mapbox\": {\"style\": \"light\"}, \"paper_bgcolor\": \"white\", \"plot_bgcolor\": \"#E5ECF6\", \"polar\": {\"angularaxis\": {\"gridcolor\": \"white\", \"linecolor\": \"white\", \"ticks\": \"\"}, \"bgcolor\": \"#E5ECF6\", \"radialaxis\": {\"gridcolor\": \"white\", \"linecolor\": \"white\", \"ticks\": \"\"}}, \"scene\": {\"xaxis\": {\"backgroundcolor\": \"#E5ECF6\", \"gridcolor\": \"white\", \"gridwidth\": 2, \"linecolor\": \"white\", \"showbackground\": true, \"ticks\": \"\", \"zerolinecolor\": \"white\"}, \"yaxis\": {\"backgroundcolor\": \"#E5ECF6\", \"gridcolor\": \"white\", \"gridwidth\": 2, \"linecolor\": \"white\", \"showbackground\": true, \"ticks\": \"\", \"zerolinecolor\": \"white\"}, \"zaxis\": {\"backgroundcolor\": \"#E5ECF6\", \"gridcolor\": \"white\", \"gridwidth\": 2, \"linecolor\": \"white\", \"showbackground\": true, \"ticks\": \"\", \"zerolinecolor\": \"white\"}}, \"shapedefaults\": {\"line\": {\"color\": \"#2a3f5f\"}}, \"ternary\": {\"aaxis\": {\"gridcolor\": \"white\", \"linecolor\": \"white\", \"ticks\": \"\"}, \"baxis\": {\"gridcolor\": \"white\", \"linecolor\": \"white\", \"ticks\": \"\"}, \"bgcolor\": \"#E5ECF6\", \"caxis\": {\"gridcolor\": \"white\", \"linecolor\": \"white\", \"ticks\": \"\"}}, \"title\": {\"x\": 0.05}, \"xaxis\": {\"automargin\": true, \"gridcolor\": \"white\", \"linecolor\": \"white\", \"ticks\": \"\", \"title\": {\"standoff\": 15}, \"zerolinecolor\": \"white\", \"zerolinewidth\": 2}, \"yaxis\": {\"automargin\": true, \"gridcolor\": \"white\", \"linecolor\": \"white\", \"ticks\": \"\", \"title\": {\"standoff\": 15}, \"zerolinecolor\": \"white\", \"zerolinewidth\": 2}}}, \"title\": {\"text\": \"San Franciscos Gross Rent And Average Sales Price Per Square Foot\"}},                        {\"responsive\": true}                    ).then(function(){\n",
       "                            \n",
       "var gd = document.getElementById('14e57feb-188d-4e56-a621-7ac8f1e7b748');\n",
       "var x = new MutationObserver(function (mutations, observer) {{\n",
       "        var display = window.getComputedStyle(gd).display;\n",
       "        if (!display || display === 'none') {{\n",
       "            console.log([gd, 'removed!']);\n",
       "            Plotly.purge(gd);\n",
       "            observer.disconnect();\n",
       "        }}\n",
       "}});\n",
       "\n",
       "// Listen for the removal of the full notebook cells\n",
       "var notebookContainer = gd.closest('#notebook-container');\n",
       "if (notebookContainer) {{\n",
       "    x.observe(notebookContainer, {childList: true});\n",
       "}}\n",
       "\n",
       "// Listen for the clearing of the current output cell\n",
       "var outputEl = gd.closest('.output');\n",
       "if (outputEl) {{\n",
       "    x.observe(outputEl, {childList: true});\n",
       "}}\n",
       "\n",
       "                        })                };                });            </script>        </div>"
      ]
     },
     "metadata": {},
     "output_type": "display_data"
    }
   ],
   "source": [
    "neighborhood_map()"
   ]
  },
  {
   "cell_type": "code",
   "execution_count": 44,
   "metadata": {},
   "outputs": [
    {
     "data": {
      "application/vnd.plotly.v1+json": {
       "config": {
        "plotlyServerURL": "https://plot.ly"
       },
       "data": [
        {
         "hovertemplate": "housing_units=%{marker.size}<br>Lat=%{lat}<br>Lon=%{lon}<br>gross_rent=%{marker.color}<extra></extra>",
         "lat": [
          37.791012,
          37.779598,
          37.73467,
          37.72874,
          37.768159999999995,
          37.77789,
          37.74961,
          37.75331,
          37.78553,
          37.79298,
          37.7228,
          37.728629999999995,
          37.76964,
          37.75554,
          37.72874,
          37.79101,
          37.79101,
          37.757059999999996,
          37.728629999999995,
          37.757912,
          37.76525,
          37.76525,
          37.72551,
          37.72116,
          37.75416,
          37.74961,
          37.769112,
          37.74961,
          37.78553,
          37.801520000000004,
          37.7789,
          37.79298,
          37.79972,
          37.71993,
          37.75331,
          37.73415,
          37.783229999999996,
          37.75184,
          37.728629999999995,
          37.79298,
          37.75331,
          37.80055,
          37.80055,
          37.71993,
          37.7228,
          37.7517,
          37.74961,
          37.79298,
          37.72838,
          37.74961,
          37.76355,
          37.73467,
          37.73196,
          37.78553,
          37.79298,
          37.73467,
          37.783229999999996,
          37.79101,
          37.73415,
          37.80055,
          37.753311,
          37.79101,
          37.779509999999995,
          37.72874,
          37.74026,
          37.79298,
          37.7347,
          37.73415,
          37.79298
         ],
         "legendgroup": "",
         "lon": [
          -122.4021,
          -122.443451,
          -122.40106000000002,
          -122.41098000000001,
          -122.43933,
          -122.44516999999999,
          -122.48998999999999,
          -122.44703,
          -122.456,
          -122.43579,
          -122.43869,
          -122.44305,
          -122.42611000000001,
          -122.43778999999999,
          -122.41098000000001,
          -122.4021,
          -122.4021,
          -122.45508999999998,
          -122.44305,
          -122.46401999999999,
          -122.43596000000001,
          -122.43596000000001,
          -122.37178,
          -122.48706999999999,
          -122.41946999999999,
          -122.48998999999999,
          -122.483566,
          -122.48997,
          -122.456,
          -122.45456999999999,
          -122.45496000000001,
          -122.43579,
          -122.46688999999999,
          -122.46595,
          -122.44703,
          -122.45700000000001,
          -122.40065,
          -122.42522,
          -122.44305,
          -122.43579,
          -122.44703,
          -122.40433,
          -122.40433,
          -122.46595,
          -122.43869,
          -122.446,
          -122.48998999999999,
          -122.43579,
          -122.47851000000001,
          -122.48998999999999,
          -122.45765,
          -122.40106000000002,
          -122.38323999999999,
          -122.456,
          -122.43579,
          -122.40106000000002,
          -122.40065,
          -122.4021,
          -122.45700000000001,
          -122.40433,
          -122.447029,
          -122.4021,
          -122.42022,
          -122.41098000000001,
          -122.46388,
          -122.43579,
          -122.456854,
          -122.45700000000001,
          -122.39636000000002
         ],
         "marker": {
          "color": [
           2817.285714285714,
           3031.8333333333335,
           2318.4,
           3739,
           2698.8333333333335,
           2817.285714285714,
           2817.285714285714,
           2250.5,
           2472,
           2817.285714285714,
           2698.8333333333335,
           2016,
           2780.25,
           2817.285714285714,
           3031.8333333333335,
           2817.285714285714,
           2472,
           1781.5,
           2899.5,
           2601.4,
           2817.285714285714,
           2817.285714285714,
           2489,
           2960,
           2817.285714285714,
           3224,
           2817.285714285714,
           2817.285714285714,
           2817.285714285714,
           2555.1666666666665,
           2555.1666666666665,
           2817.285714285714,
           2817.285714285714,
           3414,
           2647.5,
           2155.25,
           2663.6666666666665,
           2555.1666666666665,
           3173.4,
           2817.285714285714,
           2817.285714285714,
           2990.8,
           2818.4,
           2434,
           2995.75,
           2817.285714285714,
           2817.285714285714,
           2817.285714285714,
           2817.285714285714,
           2555.1666666666665,
           2817.285714285714,
           2318.4,
           2817.285714285714,
           2817.285714285714,
           2817.285714285714,
           3528,
           2099,
           2817.285714285714,
           2899.5,
           2817.285714285714,
           2817.285714285714,
           2555.1666666666665,
           2817.285714285714,
           3657,
           2515.5,
           2555.1666666666665,
           2250.5,
           3959,
           2555.1666666666665
          ],
          "coloraxis": "coloraxis",
          "size": [
           378401,
           379050,
           376454,
           382295,
           378076.5,
           378401,
           378401,
           376454,
           377232.8,
           378401,
           378076.5,
           375480.5,
           378401,
           378401,
           379050,
           378401,
           377232.8,
           374507,
           378725.5,
           377622.2,
           378401,
           378401,
           377427.5,
           379374.5,
           378401,
           379861.25,
           378401,
           378401,
           378401,
           377427.5,
           377427.5,
           378401,
           378401,
           380348,
           377427.5,
           375967.25,
           377752,
           377427.5,
           379569.2,
           378401,
           378401,
           379179.8,
           378401,
           377103,
           379374.5,
           378401,
           378401,
           378401,
           378401,
           377427.5,
           378401,
           376454,
           378401,
           378401,
           378401,
           380348,
           375805,
           378401,
           378725.5,
           378401,
           378401,
           377427.5,
           378401,
           381321.5,
           376940.75,
           377427.5,
           376454,
           382295,
           377427.5
          ],
          "sizemode": "area",
          "sizeref": 1699.088888888889
         },
         "mode": "markers",
         "name": "",
         "showlegend": false,
         "subplot": "mapbox",
         "type": "scattermapbox"
        }
       ],
       "layout": {
        "coloraxis": {
         "colorbar": {
          "title": {
           "text": "gross_rent"
          }
         },
         "colorscale": [
          [
           0,
           "#000000"
          ],
          [
           0.0625,
           "#001f4d"
          ],
          [
           0.125,
           "#003786"
          ],
          [
           0.1875,
           "#0e58a8"
          ],
          [
           0.25,
           "#217eb8"
          ],
          [
           0.3125,
           "#30a4ca"
          ],
          [
           0.375,
           "#54c8df"
          ],
          [
           0.4375,
           "#9be4ef"
          ],
          [
           0.5,
           "#e1e9d1"
          ],
          [
           0.5625,
           "#f3d573"
          ],
          [
           0.625,
           "#e7b000"
          ],
          [
           0.6875,
           "#da8200"
          ],
          [
           0.75,
           "#c65400"
          ],
          [
           0.8125,
           "#ac2301"
          ],
          [
           0.875,
           "#820000"
          ],
          [
           0.9375,
           "#4c0000"
          ],
          [
           1,
           "#000000"
          ]
         ]
        },
        "legend": {
         "itemsizing": "constant",
         "tracegroupgap": 0
        },
        "mapbox": {
         "center": {
          "lat": 37.76064079710145,
          "lon": -122.43826449275363
         },
         "domain": {
          "x": [
           0,
           1
          ],
          "y": [
           0,
           1
          ]
         },
         "zoom": 10
        },
        "template": {
         "data": {
          "bar": [
           {
            "error_x": {
             "color": "#2a3f5f"
            },
            "error_y": {
             "color": "#2a3f5f"
            },
            "marker": {
             "line": {
              "color": "#E5ECF6",
              "width": 0.5
             }
            },
            "type": "bar"
           }
          ],
          "barpolar": [
           {
            "marker": {
             "line": {
              "color": "#E5ECF6",
              "width": 0.5
             }
            },
            "type": "barpolar"
           }
          ],
          "carpet": [
           {
            "aaxis": {
             "endlinecolor": "#2a3f5f",
             "gridcolor": "white",
             "linecolor": "white",
             "minorgridcolor": "white",
             "startlinecolor": "#2a3f5f"
            },
            "baxis": {
             "endlinecolor": "#2a3f5f",
             "gridcolor": "white",
             "linecolor": "white",
             "minorgridcolor": "white",
             "startlinecolor": "#2a3f5f"
            },
            "type": "carpet"
           }
          ],
          "choropleth": [
           {
            "colorbar": {
             "outlinewidth": 0,
             "ticks": ""
            },
            "type": "choropleth"
           }
          ],
          "contour": [
           {
            "colorbar": {
             "outlinewidth": 0,
             "ticks": ""
            },
            "colorscale": [
             [
              0,
              "#0d0887"
             ],
             [
              0.1111111111111111,
              "#46039f"
             ],
             [
              0.2222222222222222,
              "#7201a8"
             ],
             [
              0.3333333333333333,
              "#9c179e"
             ],
             [
              0.4444444444444444,
              "#bd3786"
             ],
             [
              0.5555555555555556,
              "#d8576b"
             ],
             [
              0.6666666666666666,
              "#ed7953"
             ],
             [
              0.7777777777777778,
              "#fb9f3a"
             ],
             [
              0.8888888888888888,
              "#fdca26"
             ],
             [
              1,
              "#f0f921"
             ]
            ],
            "type": "contour"
           }
          ],
          "contourcarpet": [
           {
            "colorbar": {
             "outlinewidth": 0,
             "ticks": ""
            },
            "type": "contourcarpet"
           }
          ],
          "heatmap": [
           {
            "colorbar": {
             "outlinewidth": 0,
             "ticks": ""
            },
            "colorscale": [
             [
              0,
              "#0d0887"
             ],
             [
              0.1111111111111111,
              "#46039f"
             ],
             [
              0.2222222222222222,
              "#7201a8"
             ],
             [
              0.3333333333333333,
              "#9c179e"
             ],
             [
              0.4444444444444444,
              "#bd3786"
             ],
             [
              0.5555555555555556,
              "#d8576b"
             ],
             [
              0.6666666666666666,
              "#ed7953"
             ],
             [
              0.7777777777777778,
              "#fb9f3a"
             ],
             [
              0.8888888888888888,
              "#fdca26"
             ],
             [
              1,
              "#f0f921"
             ]
            ],
            "type": "heatmap"
           }
          ],
          "heatmapgl": [
           {
            "colorbar": {
             "outlinewidth": 0,
             "ticks": ""
            },
            "colorscale": [
             [
              0,
              "#0d0887"
             ],
             [
              0.1111111111111111,
              "#46039f"
             ],
             [
              0.2222222222222222,
              "#7201a8"
             ],
             [
              0.3333333333333333,
              "#9c179e"
             ],
             [
              0.4444444444444444,
              "#bd3786"
             ],
             [
              0.5555555555555556,
              "#d8576b"
             ],
             [
              0.6666666666666666,
              "#ed7953"
             ],
             [
              0.7777777777777778,
              "#fb9f3a"
             ],
             [
              0.8888888888888888,
              "#fdca26"
             ],
             [
              1,
              "#f0f921"
             ]
            ],
            "type": "heatmapgl"
           }
          ],
          "histogram": [
           {
            "marker": {
             "colorbar": {
              "outlinewidth": 0,
              "ticks": ""
             }
            },
            "type": "histogram"
           }
          ],
          "histogram2d": [
           {
            "colorbar": {
             "outlinewidth": 0,
             "ticks": ""
            },
            "colorscale": [
             [
              0,
              "#0d0887"
             ],
             [
              0.1111111111111111,
              "#46039f"
             ],
             [
              0.2222222222222222,
              "#7201a8"
             ],
             [
              0.3333333333333333,
              "#9c179e"
             ],
             [
              0.4444444444444444,
              "#bd3786"
             ],
             [
              0.5555555555555556,
              "#d8576b"
             ],
             [
              0.6666666666666666,
              "#ed7953"
             ],
             [
              0.7777777777777778,
              "#fb9f3a"
             ],
             [
              0.8888888888888888,
              "#fdca26"
             ],
             [
              1,
              "#f0f921"
             ]
            ],
            "type": "histogram2d"
           }
          ],
          "histogram2dcontour": [
           {
            "colorbar": {
             "outlinewidth": 0,
             "ticks": ""
            },
            "colorscale": [
             [
              0,
              "#0d0887"
             ],
             [
              0.1111111111111111,
              "#46039f"
             ],
             [
              0.2222222222222222,
              "#7201a8"
             ],
             [
              0.3333333333333333,
              "#9c179e"
             ],
             [
              0.4444444444444444,
              "#bd3786"
             ],
             [
              0.5555555555555556,
              "#d8576b"
             ],
             [
              0.6666666666666666,
              "#ed7953"
             ],
             [
              0.7777777777777778,
              "#fb9f3a"
             ],
             [
              0.8888888888888888,
              "#fdca26"
             ],
             [
              1,
              "#f0f921"
             ]
            ],
            "type": "histogram2dcontour"
           }
          ],
          "mesh3d": [
           {
            "colorbar": {
             "outlinewidth": 0,
             "ticks": ""
            },
            "type": "mesh3d"
           }
          ],
          "parcoords": [
           {
            "line": {
             "colorbar": {
              "outlinewidth": 0,
              "ticks": ""
             }
            },
            "type": "parcoords"
           }
          ],
          "pie": [
           {
            "automargin": true,
            "type": "pie"
           }
          ],
          "scatter": [
           {
            "marker": {
             "colorbar": {
              "outlinewidth": 0,
              "ticks": ""
             }
            },
            "type": "scatter"
           }
          ],
          "scatter3d": [
           {
            "line": {
             "colorbar": {
              "outlinewidth": 0,
              "ticks": ""
             }
            },
            "marker": {
             "colorbar": {
              "outlinewidth": 0,
              "ticks": ""
             }
            },
            "type": "scatter3d"
           }
          ],
          "scattercarpet": [
           {
            "marker": {
             "colorbar": {
              "outlinewidth": 0,
              "ticks": ""
             }
            },
            "type": "scattercarpet"
           }
          ],
          "scattergeo": [
           {
            "marker": {
             "colorbar": {
              "outlinewidth": 0,
              "ticks": ""
             }
            },
            "type": "scattergeo"
           }
          ],
          "scattergl": [
           {
            "marker": {
             "colorbar": {
              "outlinewidth": 0,
              "ticks": ""
             }
            },
            "type": "scattergl"
           }
          ],
          "scattermapbox": [
           {
            "marker": {
             "colorbar": {
              "outlinewidth": 0,
              "ticks": ""
             }
            },
            "type": "scattermapbox"
           }
          ],
          "scatterpolar": [
           {
            "marker": {
             "colorbar": {
              "outlinewidth": 0,
              "ticks": ""
             }
            },
            "type": "scatterpolar"
           }
          ],
          "scatterpolargl": [
           {
            "marker": {
             "colorbar": {
              "outlinewidth": 0,
              "ticks": ""
             }
            },
            "type": "scatterpolargl"
           }
          ],
          "scatterternary": [
           {
            "marker": {
             "colorbar": {
              "outlinewidth": 0,
              "ticks": ""
             }
            },
            "type": "scatterternary"
           }
          ],
          "surface": [
           {
            "colorbar": {
             "outlinewidth": 0,
             "ticks": ""
            },
            "colorscale": [
             [
              0,
              "#0d0887"
             ],
             [
              0.1111111111111111,
              "#46039f"
             ],
             [
              0.2222222222222222,
              "#7201a8"
             ],
             [
              0.3333333333333333,
              "#9c179e"
             ],
             [
              0.4444444444444444,
              "#bd3786"
             ],
             [
              0.5555555555555556,
              "#d8576b"
             ],
             [
              0.6666666666666666,
              "#ed7953"
             ],
             [
              0.7777777777777778,
              "#fb9f3a"
             ],
             [
              0.8888888888888888,
              "#fdca26"
             ],
             [
              1,
              "#f0f921"
             ]
            ],
            "type": "surface"
           }
          ],
          "table": [
           {
            "cells": {
             "fill": {
              "color": "#EBF0F8"
             },
             "line": {
              "color": "white"
             }
            },
            "header": {
             "fill": {
              "color": "#C8D4E3"
             },
             "line": {
              "color": "white"
             }
            },
            "type": "table"
           }
          ]
         },
         "layout": {
          "annotationdefaults": {
           "arrowcolor": "#2a3f5f",
           "arrowhead": 0,
           "arrowwidth": 1
          },
          "coloraxis": {
           "colorbar": {
            "outlinewidth": 0,
            "ticks": ""
           }
          },
          "colorscale": {
           "diverging": [
            [
             0,
             "#8e0152"
            ],
            [
             0.1,
             "#c51b7d"
            ],
            [
             0.2,
             "#de77ae"
            ],
            [
             0.3,
             "#f1b6da"
            ],
            [
             0.4,
             "#fde0ef"
            ],
            [
             0.5,
             "#f7f7f7"
            ],
            [
             0.6,
             "#e6f5d0"
            ],
            [
             0.7,
             "#b8e186"
            ],
            [
             0.8,
             "#7fbc41"
            ],
            [
             0.9,
             "#4d9221"
            ],
            [
             1,
             "#276419"
            ]
           ],
           "sequential": [
            [
             0,
             "#0d0887"
            ],
            [
             0.1111111111111111,
             "#46039f"
            ],
            [
             0.2222222222222222,
             "#7201a8"
            ],
            [
             0.3333333333333333,
             "#9c179e"
            ],
            [
             0.4444444444444444,
             "#bd3786"
            ],
            [
             0.5555555555555556,
             "#d8576b"
            ],
            [
             0.6666666666666666,
             "#ed7953"
            ],
            [
             0.7777777777777778,
             "#fb9f3a"
            ],
            [
             0.8888888888888888,
             "#fdca26"
            ],
            [
             1,
             "#f0f921"
            ]
           ],
           "sequentialminus": [
            [
             0,
             "#0d0887"
            ],
            [
             0.1111111111111111,
             "#46039f"
            ],
            [
             0.2222222222222222,
             "#7201a8"
            ],
            [
             0.3333333333333333,
             "#9c179e"
            ],
            [
             0.4444444444444444,
             "#bd3786"
            ],
            [
             0.5555555555555556,
             "#d8576b"
            ],
            [
             0.6666666666666666,
             "#ed7953"
            ],
            [
             0.7777777777777778,
             "#fb9f3a"
            ],
            [
             0.8888888888888888,
             "#fdca26"
            ],
            [
             1,
             "#f0f921"
            ]
           ]
          },
          "colorway": [
           "#636efa",
           "#EF553B",
           "#00cc96",
           "#ab63fa",
           "#FFA15A",
           "#19d3f3",
           "#FF6692",
           "#B6E880",
           "#FF97FF",
           "#FECB52"
          ],
          "font": {
           "color": "#2a3f5f"
          },
          "geo": {
           "bgcolor": "white",
           "lakecolor": "white",
           "landcolor": "#E5ECF6",
           "showlakes": true,
           "showland": true,
           "subunitcolor": "white"
          },
          "hoverlabel": {
           "align": "left"
          },
          "hovermode": "closest",
          "mapbox": {
           "style": "light"
          },
          "paper_bgcolor": "white",
          "plot_bgcolor": "#E5ECF6",
          "polar": {
           "angularaxis": {
            "gridcolor": "white",
            "linecolor": "white",
            "ticks": ""
           },
           "bgcolor": "#E5ECF6",
           "radialaxis": {
            "gridcolor": "white",
            "linecolor": "white",
            "ticks": ""
           }
          },
          "scene": {
           "xaxis": {
            "backgroundcolor": "#E5ECF6",
            "gridcolor": "white",
            "gridwidth": 2,
            "linecolor": "white",
            "showbackground": true,
            "ticks": "",
            "zerolinecolor": "white"
           },
           "yaxis": {
            "backgroundcolor": "#E5ECF6",
            "gridcolor": "white",
            "gridwidth": 2,
            "linecolor": "white",
            "showbackground": true,
            "ticks": "",
            "zerolinecolor": "white"
           },
           "zaxis": {
            "backgroundcolor": "#E5ECF6",
            "gridcolor": "white",
            "gridwidth": 2,
            "linecolor": "white",
            "showbackground": true,
            "ticks": "",
            "zerolinecolor": "white"
           }
          },
          "shapedefaults": {
           "line": {
            "color": "#2a3f5f"
           }
          },
          "ternary": {
           "aaxis": {
            "gridcolor": "white",
            "linecolor": "white",
            "ticks": ""
           },
           "baxis": {
            "gridcolor": "white",
            "linecolor": "white",
            "ticks": ""
           },
           "bgcolor": "#E5ECF6",
           "caxis": {
            "gridcolor": "white",
            "linecolor": "white",
            "ticks": ""
           }
          },
          "title": {
           "x": 0.05
          },
          "xaxis": {
           "automargin": true,
           "gridcolor": "white",
           "linecolor": "white",
           "ticks": "",
           "title": {
            "standoff": 15
           },
           "zerolinecolor": "white",
           "zerolinewidth": 2
          },
          "yaxis": {
           "automargin": true,
           "gridcolor": "white",
           "linecolor": "white",
           "ticks": "",
           "title": {
            "standoff": 15
           },
           "zerolinecolor": "white",
           "zerolinewidth": 2
          }
         }
        },
        "title": {
         "text": "San Franciscos Gross Rent And Average Sales Price Per Square Foot"
        }
       }
      },
      "text/html": [
       "<div>                            <div id=\"9235ffe5-5cb5-4aa7-9213-2851b1482509\" class=\"plotly-graph-div\" style=\"height:525px; width:100%;\"></div>            <script type=\"text/javascript\">                require([\"plotly\"], function(Plotly) {                    window.PLOTLYENV=window.PLOTLYENV || {};                                    if (document.getElementById(\"9235ffe5-5cb5-4aa7-9213-2851b1482509\")) {                    Plotly.newPlot(                        \"9235ffe5-5cb5-4aa7-9213-2851b1482509\",                        [{\"hovertemplate\": \"housing_units=%{marker.size}<br>Lat=%{lat}<br>Lon=%{lon}<br>gross_rent=%{marker.color}<extra></extra>\", \"lat\": [37.791012, 37.779598, 37.73467, 37.72874, 37.768159999999995, 37.77789, 37.74961, 37.75331, 37.78553, 37.79298, 37.7228, 37.728629999999995, 37.76964, 37.75554, 37.72874, 37.79101, 37.79101, 37.757059999999996, 37.728629999999995, 37.757912, 37.76525, 37.76525, 37.72551, 37.72116, 37.75416, 37.74961, 37.769112, 37.74961, 37.78553, 37.801520000000004, 37.7789, 37.79298, 37.79972, 37.71993, 37.75331, 37.73415, 37.783229999999996, 37.75184, 37.728629999999995, 37.79298, 37.75331, 37.80055, 37.80055, 37.71993, 37.7228, 37.7517, 37.74961, 37.79298, 37.72838, 37.74961, 37.76355, 37.73467, 37.73196, 37.78553, 37.79298, 37.73467, 37.783229999999996, 37.79101, 37.73415, 37.80055, 37.753311, 37.79101, 37.779509999999995, 37.72874, 37.74026, 37.79298, 37.7347, 37.73415, 37.79298], \"legendgroup\": \"\", \"lon\": [-122.4021, -122.443451, -122.40106000000002, -122.41098000000001, -122.43933, -122.44516999999999, -122.48998999999999, -122.44703, -122.456, -122.43579, -122.43869, -122.44305, -122.42611000000001, -122.43778999999999, -122.41098000000001, -122.4021, -122.4021, -122.45508999999998, -122.44305, -122.46401999999999, -122.43596000000001, -122.43596000000001, -122.37178, -122.48706999999999, -122.41946999999999, -122.48998999999999, -122.483566, -122.48997, -122.456, -122.45456999999999, -122.45496000000001, -122.43579, -122.46688999999999, -122.46595, -122.44703, -122.45700000000001, -122.40065, -122.42522, -122.44305, -122.43579, -122.44703, -122.40433, -122.40433, -122.46595, -122.43869, -122.446, -122.48998999999999, -122.43579, -122.47851000000001, -122.48998999999999, -122.45765, -122.40106000000002, -122.38323999999999, -122.456, -122.43579, -122.40106000000002, -122.40065, -122.4021, -122.45700000000001, -122.40433, -122.447029, -122.4021, -122.42022, -122.41098000000001, -122.46388, -122.43579, -122.456854, -122.45700000000001, -122.39636000000002], \"marker\": {\"color\": [2817.285714285714, 3031.8333333333335, 2318.4, 3739.0, 2698.8333333333335, 2817.285714285714, 2817.285714285714, 2250.5, 2472.0, 2817.285714285714, 2698.8333333333335, 2016.0, 2780.25, 2817.285714285714, 3031.8333333333335, 2817.285714285714, 2472.0, 1781.5, 2899.5, 2601.4, 2817.285714285714, 2817.285714285714, 2489.0, 2960.0, 2817.285714285714, 3224.0, 2817.285714285714, 2817.285714285714, 2817.285714285714, 2555.1666666666665, 2555.1666666666665, 2817.285714285714, 2817.285714285714, 3414.0, 2647.5, 2155.25, 2663.6666666666665, 2555.1666666666665, 3173.4, 2817.285714285714, 2817.285714285714, 2990.8, 2818.4, 2434.0, 2995.75, 2817.285714285714, 2817.285714285714, 2817.285714285714, 2817.285714285714, 2555.1666666666665, 2817.285714285714, 2318.4, 2817.285714285714, 2817.285714285714, 2817.285714285714, 3528.0, 2099.0, 2817.285714285714, 2899.5, 2817.285714285714, 2817.285714285714, 2555.1666666666665, 2817.285714285714, 3657.0, 2515.5, 2555.1666666666665, 2250.5, 3959.0, 2555.1666666666665], \"coloraxis\": \"coloraxis\", \"size\": [378401.0, 379050.0, 376454.0, 382295.0, 378076.5, 378401.0, 378401.0, 376454.0, 377232.8, 378401.0, 378076.5, 375480.5, 378401.0, 378401.0, 379050.0, 378401.0, 377232.8, 374507.0, 378725.5, 377622.2, 378401.0, 378401.0, 377427.5, 379374.5, 378401.0, 379861.25, 378401.0, 378401.0, 378401.0, 377427.5, 377427.5, 378401.0, 378401.0, 380348.0, 377427.5, 375967.25, 377752.0, 377427.5, 379569.2, 378401.0, 378401.0, 379179.8, 378401.0, 377103.0, 379374.5, 378401.0, 378401.0, 378401.0, 378401.0, 377427.5, 378401.0, 376454.0, 378401.0, 378401.0, 378401.0, 380348.0, 375805.0, 378401.0, 378725.5, 378401.0, 378401.0, 377427.5, 378401.0, 381321.5, 376940.75, 377427.5, 376454.0, 382295.0, 377427.5], \"sizemode\": \"area\", \"sizeref\": 1699.088888888889}, \"mode\": \"markers\", \"name\": \"\", \"showlegend\": false, \"subplot\": \"mapbox\", \"type\": \"scattermapbox\"}],                        {\"coloraxis\": {\"colorbar\": {\"title\": {\"text\": \"gross_rent\"}}, \"colorscale\": [[0.0, \"#000000\"], [0.0625, \"#001f4d\"], [0.125, \"#003786\"], [0.1875, \"#0e58a8\"], [0.25, \"#217eb8\"], [0.3125, \"#30a4ca\"], [0.375, \"#54c8df\"], [0.4375, \"#9be4ef\"], [0.5, \"#e1e9d1\"], [0.5625, \"#f3d573\"], [0.625, \"#e7b000\"], [0.6875, \"#da8200\"], [0.75, \"#c65400\"], [0.8125, \"#ac2301\"], [0.875, \"#820000\"], [0.9375, \"#4c0000\"], [1.0, \"#000000\"]]}, \"legend\": {\"itemsizing\": \"constant\", \"tracegroupgap\": 0}, \"mapbox\": {\"center\": {\"lat\": 37.76064079710145, \"lon\": -122.43826449275363}, \"domain\": {\"x\": [0.0, 1.0], \"y\": [0.0, 1.0]}, \"zoom\": 10}, \"template\": {\"data\": {\"bar\": [{\"error_x\": {\"color\": \"#2a3f5f\"}, \"error_y\": {\"color\": \"#2a3f5f\"}, \"marker\": {\"line\": {\"color\": \"#E5ECF6\", \"width\": 0.5}}, \"type\": \"bar\"}], \"barpolar\": [{\"marker\": {\"line\": {\"color\": \"#E5ECF6\", \"width\": 0.5}}, \"type\": \"barpolar\"}], \"carpet\": [{\"aaxis\": {\"endlinecolor\": \"#2a3f5f\", \"gridcolor\": \"white\", \"linecolor\": \"white\", \"minorgridcolor\": \"white\", \"startlinecolor\": \"#2a3f5f\"}, \"baxis\": {\"endlinecolor\": \"#2a3f5f\", \"gridcolor\": \"white\", \"linecolor\": \"white\", \"minorgridcolor\": \"white\", \"startlinecolor\": \"#2a3f5f\"}, \"type\": \"carpet\"}], \"choropleth\": [{\"colorbar\": {\"outlinewidth\": 0, \"ticks\": \"\"}, \"type\": \"choropleth\"}], \"contour\": [{\"colorbar\": {\"outlinewidth\": 0, \"ticks\": \"\"}, \"colorscale\": [[0.0, \"#0d0887\"], [0.1111111111111111, \"#46039f\"], [0.2222222222222222, \"#7201a8\"], [0.3333333333333333, \"#9c179e\"], [0.4444444444444444, \"#bd3786\"], [0.5555555555555556, \"#d8576b\"], [0.6666666666666666, \"#ed7953\"], [0.7777777777777778, \"#fb9f3a\"], [0.8888888888888888, \"#fdca26\"], [1.0, \"#f0f921\"]], \"type\": \"contour\"}], \"contourcarpet\": [{\"colorbar\": {\"outlinewidth\": 0, \"ticks\": \"\"}, \"type\": \"contourcarpet\"}], \"heatmap\": [{\"colorbar\": {\"outlinewidth\": 0, \"ticks\": \"\"}, \"colorscale\": [[0.0, \"#0d0887\"], [0.1111111111111111, \"#46039f\"], [0.2222222222222222, \"#7201a8\"], [0.3333333333333333, \"#9c179e\"], [0.4444444444444444, \"#bd3786\"], [0.5555555555555556, \"#d8576b\"], [0.6666666666666666, \"#ed7953\"], [0.7777777777777778, \"#fb9f3a\"], [0.8888888888888888, \"#fdca26\"], [1.0, \"#f0f921\"]], \"type\": \"heatmap\"}], \"heatmapgl\": [{\"colorbar\": {\"outlinewidth\": 0, \"ticks\": \"\"}, \"colorscale\": [[0.0, \"#0d0887\"], [0.1111111111111111, \"#46039f\"], [0.2222222222222222, \"#7201a8\"], [0.3333333333333333, \"#9c179e\"], [0.4444444444444444, \"#bd3786\"], [0.5555555555555556, \"#d8576b\"], [0.6666666666666666, \"#ed7953\"], [0.7777777777777778, \"#fb9f3a\"], [0.8888888888888888, \"#fdca26\"], [1.0, \"#f0f921\"]], \"type\": \"heatmapgl\"}], \"histogram\": [{\"marker\": {\"colorbar\": {\"outlinewidth\": 0, \"ticks\": \"\"}}, \"type\": \"histogram\"}], \"histogram2d\": [{\"colorbar\": {\"outlinewidth\": 0, \"ticks\": \"\"}, \"colorscale\": [[0.0, \"#0d0887\"], [0.1111111111111111, \"#46039f\"], [0.2222222222222222, \"#7201a8\"], [0.3333333333333333, \"#9c179e\"], [0.4444444444444444, \"#bd3786\"], [0.5555555555555556, \"#d8576b\"], [0.6666666666666666, \"#ed7953\"], [0.7777777777777778, \"#fb9f3a\"], [0.8888888888888888, \"#fdca26\"], [1.0, \"#f0f921\"]], \"type\": \"histogram2d\"}], \"histogram2dcontour\": [{\"colorbar\": {\"outlinewidth\": 0, \"ticks\": \"\"}, \"colorscale\": [[0.0, \"#0d0887\"], [0.1111111111111111, \"#46039f\"], [0.2222222222222222, \"#7201a8\"], [0.3333333333333333, \"#9c179e\"], [0.4444444444444444, \"#bd3786\"], [0.5555555555555556, \"#d8576b\"], [0.6666666666666666, \"#ed7953\"], [0.7777777777777778, \"#fb9f3a\"], [0.8888888888888888, \"#fdca26\"], [1.0, \"#f0f921\"]], \"type\": \"histogram2dcontour\"}], \"mesh3d\": [{\"colorbar\": {\"outlinewidth\": 0, \"ticks\": \"\"}, \"type\": \"mesh3d\"}], \"parcoords\": [{\"line\": {\"colorbar\": {\"outlinewidth\": 0, \"ticks\": \"\"}}, \"type\": \"parcoords\"}], \"pie\": [{\"automargin\": true, \"type\": \"pie\"}], \"scatter\": [{\"marker\": {\"colorbar\": {\"outlinewidth\": 0, \"ticks\": \"\"}}, \"type\": \"scatter\"}], \"scatter3d\": [{\"line\": {\"colorbar\": {\"outlinewidth\": 0, \"ticks\": \"\"}}, \"marker\": {\"colorbar\": {\"outlinewidth\": 0, \"ticks\": \"\"}}, \"type\": \"scatter3d\"}], \"scattercarpet\": [{\"marker\": {\"colorbar\": {\"outlinewidth\": 0, \"ticks\": \"\"}}, \"type\": \"scattercarpet\"}], \"scattergeo\": [{\"marker\": {\"colorbar\": {\"outlinewidth\": 0, \"ticks\": \"\"}}, \"type\": \"scattergeo\"}], \"scattergl\": [{\"marker\": {\"colorbar\": {\"outlinewidth\": 0, \"ticks\": \"\"}}, \"type\": \"scattergl\"}], \"scattermapbox\": [{\"marker\": {\"colorbar\": {\"outlinewidth\": 0, \"ticks\": \"\"}}, \"type\": \"scattermapbox\"}], \"scatterpolar\": [{\"marker\": {\"colorbar\": {\"outlinewidth\": 0, \"ticks\": \"\"}}, \"type\": \"scatterpolar\"}], \"scatterpolargl\": [{\"marker\": {\"colorbar\": {\"outlinewidth\": 0, \"ticks\": \"\"}}, \"type\": \"scatterpolargl\"}], \"scatterternary\": [{\"marker\": {\"colorbar\": {\"outlinewidth\": 0, \"ticks\": \"\"}}, \"type\": \"scatterternary\"}], \"surface\": [{\"colorbar\": {\"outlinewidth\": 0, \"ticks\": \"\"}, \"colorscale\": [[0.0, \"#0d0887\"], [0.1111111111111111, \"#46039f\"], [0.2222222222222222, \"#7201a8\"], [0.3333333333333333, \"#9c179e\"], [0.4444444444444444, \"#bd3786\"], [0.5555555555555556, \"#d8576b\"], [0.6666666666666666, \"#ed7953\"], [0.7777777777777778, \"#fb9f3a\"], [0.8888888888888888, \"#fdca26\"], [1.0, \"#f0f921\"]], \"type\": \"surface\"}], \"table\": [{\"cells\": {\"fill\": {\"color\": \"#EBF0F8\"}, \"line\": {\"color\": \"white\"}}, \"header\": {\"fill\": {\"color\": \"#C8D4E3\"}, \"line\": {\"color\": \"white\"}}, \"type\": \"table\"}]}, \"layout\": {\"annotationdefaults\": {\"arrowcolor\": \"#2a3f5f\", \"arrowhead\": 0, \"arrowwidth\": 1}, \"coloraxis\": {\"colorbar\": {\"outlinewidth\": 0, \"ticks\": \"\"}}, \"colorscale\": {\"diverging\": [[0, \"#8e0152\"], [0.1, \"#c51b7d\"], [0.2, \"#de77ae\"], [0.3, \"#f1b6da\"], [0.4, \"#fde0ef\"], [0.5, \"#f7f7f7\"], [0.6, \"#e6f5d0\"], [0.7, \"#b8e186\"], [0.8, \"#7fbc41\"], [0.9, \"#4d9221\"], [1, \"#276419\"]], \"sequential\": [[0.0, \"#0d0887\"], [0.1111111111111111, \"#46039f\"], [0.2222222222222222, \"#7201a8\"], [0.3333333333333333, \"#9c179e\"], [0.4444444444444444, \"#bd3786\"], [0.5555555555555556, \"#d8576b\"], [0.6666666666666666, \"#ed7953\"], [0.7777777777777778, \"#fb9f3a\"], [0.8888888888888888, \"#fdca26\"], [1.0, \"#f0f921\"]], \"sequentialminus\": [[0.0, \"#0d0887\"], [0.1111111111111111, \"#46039f\"], [0.2222222222222222, \"#7201a8\"], [0.3333333333333333, \"#9c179e\"], [0.4444444444444444, \"#bd3786\"], [0.5555555555555556, \"#d8576b\"], [0.6666666666666666, \"#ed7953\"], [0.7777777777777778, \"#fb9f3a\"], [0.8888888888888888, \"#fdca26\"], [1.0, \"#f0f921\"]]}, \"colorway\": [\"#636efa\", \"#EF553B\", \"#00cc96\", \"#ab63fa\", \"#FFA15A\", \"#19d3f3\", \"#FF6692\", \"#B6E880\", \"#FF97FF\", \"#FECB52\"], \"font\": {\"color\": \"#2a3f5f\"}, \"geo\": {\"bgcolor\": \"white\", \"lakecolor\": \"white\", \"landcolor\": \"#E5ECF6\", \"showlakes\": true, \"showland\": true, \"subunitcolor\": \"white\"}, \"hoverlabel\": {\"align\": \"left\"}, \"hovermode\": \"closest\", \"mapbox\": {\"style\": \"light\"}, \"paper_bgcolor\": \"white\", \"plot_bgcolor\": \"#E5ECF6\", \"polar\": {\"angularaxis\": {\"gridcolor\": \"white\", \"linecolor\": \"white\", \"ticks\": \"\"}, \"bgcolor\": \"#E5ECF6\", \"radialaxis\": {\"gridcolor\": \"white\", \"linecolor\": \"white\", \"ticks\": \"\"}}, \"scene\": {\"xaxis\": {\"backgroundcolor\": \"#E5ECF6\", \"gridcolor\": \"white\", \"gridwidth\": 2, \"linecolor\": \"white\", \"showbackground\": true, \"ticks\": \"\", \"zerolinecolor\": \"white\"}, \"yaxis\": {\"backgroundcolor\": \"#E5ECF6\", \"gridcolor\": \"white\", \"gridwidth\": 2, \"linecolor\": \"white\", \"showbackground\": true, \"ticks\": \"\", \"zerolinecolor\": \"white\"}, \"zaxis\": {\"backgroundcolor\": \"#E5ECF6\", \"gridcolor\": \"white\", \"gridwidth\": 2, \"linecolor\": \"white\", \"showbackground\": true, \"ticks\": \"\", \"zerolinecolor\": \"white\"}}, \"shapedefaults\": {\"line\": {\"color\": \"#2a3f5f\"}}, \"ternary\": {\"aaxis\": {\"gridcolor\": \"white\", \"linecolor\": \"white\", \"ticks\": \"\"}, \"baxis\": {\"gridcolor\": \"white\", \"linecolor\": \"white\", \"ticks\": \"\"}, \"bgcolor\": \"#E5ECF6\", \"caxis\": {\"gridcolor\": \"white\", \"linecolor\": \"white\", \"ticks\": \"\"}}, \"title\": {\"x\": 0.05}, \"xaxis\": {\"automargin\": true, \"gridcolor\": \"white\", \"linecolor\": \"white\", \"ticks\": \"\", \"title\": {\"standoff\": 15}, \"zerolinecolor\": \"white\", \"zerolinewidth\": 2}, \"yaxis\": {\"automargin\": true, \"gridcolor\": \"white\", \"linecolor\": \"white\", \"ticks\": \"\", \"title\": {\"standoff\": 15}, \"zerolinecolor\": \"white\", \"zerolinewidth\": 2}}}, \"title\": {\"text\": \"San Franciscos Gross Rent And Average Sales Price Per Square Foot\"}},                        {\"responsive\": true}                    ).then(function(){\n",
       "                            \n",
       "var gd = document.getElementById('9235ffe5-5cb5-4aa7-9213-2851b1482509');\n",
       "var x = new MutationObserver(function (mutations, observer) {{\n",
       "        var display = window.getComputedStyle(gd).display;\n",
       "        if (!display || display === 'none') {{\n",
       "            console.log([gd, 'removed!']);\n",
       "            Plotly.purge(gd);\n",
       "            observer.disconnect();\n",
       "        }}\n",
       "}});\n",
       "\n",
       "// Listen for the removal of the full notebook cells\n",
       "var notebookContainer = gd.closest('#notebook-container');\n",
       "if (notebookContainer) {{\n",
       "    x.observe(notebookContainer, {childList: true});\n",
       "}}\n",
       "\n",
       "// Listen for the clearing of the current output cell\n",
       "var outputEl = gd.closest('.output');\n",
       "if (outputEl) {{\n",
       "    x.observe(outputEl, {childList: true});\n",
       "}}\n",
       "\n",
       "                        })                };                });            </script>        </div>"
      ]
     },
     "metadata": {},
     "output_type": "display_data"
    }
   ],
   "source": [
    "neighborhood_map()"
   ]
  },
  {
   "cell_type": "markdown",
   "metadata": {},
   "source": [
    "## Panel Dashboard\n",
    "\n",
    "In this section, you will combine all of the plots into a single dashboard view using Panel. Be creative with your dashboard design!"
   ]
  },
  {
   "cell_type": "code",
   "execution_count": 54,
   "metadata": {},
   "outputs": [],
   "source": [
    "plot_averages = pn.Column(\n",
    "    'Price By Neighborhood and Average Gross Rent and Sales Price',\n",
    "    average_price_by_neighborhood(),\n",
    "    average_gross_rent(),\n",
    "    average_sales_price()\n",
    ")\n",
    "\n",
    "\n",
    "map_plot = pn.Column(\n",
    "    'Neighborhood Average Value',\n",
    "    neighborhood_map()\n",
    ")\n",
    "\n",
    "parallel_plot = pn.Column(\n",
    "    'Parallel Coordinates and Categories',\n",
    "    parallel_categories(),\n",
    "    parallel_coordinates(),\n",
    ")\n",
    "\n",
    "\n",
    "sf_housing_units = pn.Column(\n",
    "    'Housing Units Sold per Year',\n",
    "    housing_units_per_year()\n",
    ")\n",
    "\n",
    "\n",
    "most_expensive_plot = pn.Column(\n",
    "    'Top Ten Most Expensive Neighborhoods',\n",
    "    top_most_expensive_neighborhoods(),\n",
    ")\n",
    "\n",
    "sf_df = pn.Tabs(\n",
    "    ('San Franciscos Housing Units Sold', sf_housing_units),\n",
    "    ('Averages Neighborhood Costs', plot_averages),\n",
    "    ('Most Expensive', most_expensive_plot),\n",
    "    ('San Francisco Parallel Graphs', parallel_plot),\n",
    "    ('Map', map_plot)\n",
    ")\n",
    "dashboard = pn.Column(\n",
    "    pn.Row(\"Test Title\"),\n",
    "    sf_df, \n",
    "    width=900\n",
    ")\n",
    "\n"
   ]
  },
  {
   "cell_type": "markdown",
   "metadata": {},
   "source": [
    "## Serve the Panel Dashboard"
   ]
  },
  {
   "cell_type": "code",
   "execution_count": 55,
   "metadata": {},
   "outputs": [
    {
     "data": {
      "application/vnd.holoviews_exec.v0+json": "",
      "text/html": [
       "<div id='2949'>\n",
       "\n",
       "\n",
       "\n",
       "\n",
       "\n",
       "  <div class=\"bk-root\" id=\"a30f55a6-ca56-4b23-a81e-b23e41dd5f8c\" data-root-id=\"2949\"></div>\n",
       "</div>\n",
       "<script type=\"application/javascript\">(function(root) {\n",
       "  function embed_document(root) {\n",
       "  var docs_json = {\"b0eab3a3-79b4-4916-88bf-350804558b9d\":{\"roots\":{\"references\":[{\"attributes\":{\"css_classes\":[\"markdown\"],\"margin\":[5,5,5,5],\"name\":\"Markdown04932\",\"text\":\"&lt;p&gt;Top Ten Most Expensive Neighborhoods&lt;/p&gt;\"},\"id\":\"3091\",\"type\":\"panel.models.markup.HTML\"},{\"attributes\":{\"overlay\":{\"id\":\"3116\"}},\"id\":\"3114\",\"type\":\"BoxZoomTool\"},{\"attributes\":{},\"id\":\"3113\",\"type\":\"WheelZoomTool\"},{\"attributes\":{\"callback\":null,\"renderers\":[{\"id\":\"2996\"}],\"tags\":[\"hv_created\"],\"tooltips\":[[\"year\",\"@{year}\"],[\"sale_price_sqr_foot\",\"@{sale_price_sqr_foot}\"]]},\"id\":\"2959\",\"type\":\"HoverTool\"},{\"attributes\":{\"active_drag\":\"auto\",\"active_inspect\":\"auto\",\"active_multi\":null,\"active_scroll\":\"auto\",\"active_tap\":\"auto\",\"tools\":[{\"id\":\"3030\"},{\"id\":\"3048\"},{\"id\":\"3049\"},{\"id\":\"3050\"},{\"id\":\"3051\"},{\"id\":\"3052\"}]},\"id\":\"3054\",\"type\":\"Toolbar\"},{\"attributes\":{\"end\":644.0175329447045,\"reset_end\":644.0175329447045,\"reset_start\":141.1976609302527,\"start\":141.1976609302527,\"tags\":[[[\"sale_price_sqr_foot\",\"sale_price_sqr_foot\",null]]]},\"id\":\"2958\",\"type\":\"Range1d\"},{\"attributes\":{\"callback\":null,\"renderers\":[{\"id\":\"3067\"}],\"tags\":[\"hv_created\"],\"tooltips\":[[\"year\",\"@{year}\"],[\"sale_price_sqr_foot\",\"@{sale_price_sqr_foot}\"]]},\"id\":\"3030\",\"type\":\"HoverTool\"},{\"attributes\":{\"text\":\"neighborhood: Alamo Square\",\"text_color\":{\"value\":\"black\"},\"text_font_size\":{\"value\":\"12pt\"}},\"id\":\"2961\",\"type\":\"Title\"},{\"attributes\":{\"data\":{\"sale_price_sqr_foot\":{\"__ndarray__\":\"tQKjeIIVd0Do7CdydF51QGdijk899nhAaBKk2Jo5fkDGKCTbN2KBQPETFqRSxINAUB33UCbNhUA=\",\"dtype\":\"float64\",\"order\":\"little\",\"shape\":[7]},\"year\":[2010,2011,2012,2013,2014,2015,2016]},\"selected\":{\"id\":\"3062\"},\"selection_policy\":{\"id\":\"3079\"}},\"id\":\"3061\",\"type\":\"ColumnDataSource\"},{\"attributes\":{},\"id\":\"3115\",\"type\":\"ResetTool\"},{\"attributes\":{},\"id\":\"2967\",\"type\":\"LinearScale\"},{\"attributes\":{},\"id\":\"3072\",\"type\":\"BasicTickFormatter\"},{\"attributes\":{\"bottom_units\":\"screen\",\"fill_alpha\":0.5,\"fill_color\":\"lightgrey\",\"left_units\":\"screen\",\"level\":\"overlay\",\"line_alpha\":1.0,\"line_color\":\"black\",\"line_dash\":[4,4],\"line_width\":2,\"right_units\":\"screen\",\"top_units\":\"screen\"},\"id\":\"3053\",\"type\":\"BoxAnnotation\"},{\"attributes\":{},\"id\":\"2974\",\"type\":\"BasicTicker\"},{\"attributes\":{\"axis_label\":\"sale_price_sqr_foot\",\"bounds\":\"auto\",\"formatter\":{\"id\":\"3072\"},\"major_label_orientation\":\"horizontal\",\"ticker\":{\"id\":\"3045\"}},\"id\":\"3044\",\"type\":\"LinearAxis\"},{\"attributes\":{\"below\":[{\"id\":\"3040\"}],\"center\":[{\"id\":\"3043\"},{\"id\":\"3047\"}],\"left\":[{\"id\":\"3044\"}],\"margin\":null,\"min_border_bottom\":10,\"min_border_left\":10,\"min_border_right\":10,\"min_border_top\":10,\"plot_height\":300,\"plot_width\":700,\"renderers\":[{\"id\":\"3067\"}],\"sizing_mode\":\"fixed\",\"title\":{\"id\":\"3032\"},\"toolbar\":{\"id\":\"3054\"},\"x_range\":{\"id\":\"2957\"},\"x_scale\":{\"id\":\"3036\"},\"y_range\":{\"id\":\"2958\"},\"y_scale\":{\"id\":\"3038\"}},\"id\":\"3031\",\"subtype\":\"Figure\",\"type\":\"Plot\"},{\"attributes\":{\"_render_count\":0,\"config\":null,\"data\":[{\"dimensions\":[{\"label\":\"sale_price_sqr_foot\"},{\"label\":\"housing_units\"},{\"label\":\"gross_rent\"}],\"domain\":{\"x\":[0.0,1.0],\"y\":[0.0,1.0]},\"line\":{\"coloraxis\":\"coloraxis\"},\"name\":\"\",\"type\":\"parcoords\"}],\"data_sources\":[{\"id\":\"3157\"}],\"layout\":{\"coloraxis\":{\"colorbar\":{\"title\":{\"text\":\"sale_price_sqr_foot\"}},\"colorscale\":[[0.0,\"#0d0887\"],[0.1111111111111111,\"#46039f\"],[0.2222222222222222,\"#7201a8\"],[0.3333333333333333,\"#9c179e\"],[0.4444444444444444,\"#bd3786\"],[0.5555555555555556,\"#d8576b\"],[0.6666666666666666,\"#ed7953\"],[0.7777777777777778,\"#fb9f3a\"],[0.8888888888888888,\"#fdca26\"],[1.0,\"#f0f921\"]]},\"legend\":{\"tracegroupgap\":0},\"margin\":{\"t\":60},\"template\":{\"data\":{\"bar\":[{\"error_x\":{\"color\":\"#2a3f5f\"},\"error_y\":{\"color\":\"#2a3f5f\"},\"marker\":{\"line\":{\"color\":\"#E5ECF6\",\"width\":0.5}},\"type\":\"bar\"}],\"barpolar\":[{\"marker\":{\"line\":{\"color\":\"#E5ECF6\",\"width\":0.5}},\"type\":\"barpolar\"}],\"carpet\":[{\"aaxis\":{\"endlinecolor\":\"#2a3f5f\",\"gridcolor\":\"white\",\"linecolor\":\"white\",\"minorgridcolor\":\"white\",\"startlinecolor\":\"#2a3f5f\"},\"baxis\":{\"endlinecolor\":\"#2a3f5f\",\"gridcolor\":\"white\",\"linecolor\":\"white\",\"minorgridcolor\":\"white\",\"startlinecolor\":\"#2a3f5f\"},\"type\":\"carpet\"}],\"choropleth\":[{\"colorbar\":{\"outlinewidth\":0,\"ticks\":\"\"},\"type\":\"choropleth\"}],\"contour\":[{\"colorbar\":{\"outlinewidth\":0,\"ticks\":\"\"},\"colorscale\":[[0.0,\"#0d0887\"],[0.1111111111111111,\"#46039f\"],[0.2222222222222222,\"#7201a8\"],[0.3333333333333333,\"#9c179e\"],[0.4444444444444444,\"#bd3786\"],[0.5555555555555556,\"#d8576b\"],[0.6666666666666666,\"#ed7953\"],[0.7777777777777778,\"#fb9f3a\"],[0.8888888888888888,\"#fdca26\"],[1.0,\"#f0f921\"]],\"type\":\"contour\"}],\"contourcarpet\":[{\"colorbar\":{\"outlinewidth\":0,\"ticks\":\"\"},\"type\":\"contourcarpet\"}],\"heatmap\":[{\"colorbar\":{\"outlinewidth\":0,\"ticks\":\"\"},\"colorscale\":[[0.0,\"#0d0887\"],[0.1111111111111111,\"#46039f\"],[0.2222222222222222,\"#7201a8\"],[0.3333333333333333,\"#9c179e\"],[0.4444444444444444,\"#bd3786\"],[0.5555555555555556,\"#d8576b\"],[0.6666666666666666,\"#ed7953\"],[0.7777777777777778,\"#fb9f3a\"],[0.8888888888888888,\"#fdca26\"],[1.0,\"#f0f921\"]],\"type\":\"heatmap\"}],\"heatmapgl\":[{\"colorbar\":{\"outlinewidth\":0,\"ticks\":\"\"},\"colorscale\":[[0.0,\"#0d0887\"],[0.1111111111111111,\"#46039f\"],[0.2222222222222222,\"#7201a8\"],[0.3333333333333333,\"#9c179e\"],[0.4444444444444444,\"#bd3786\"],[0.5555555555555556,\"#d8576b\"],[0.6666666666666666,\"#ed7953\"],[0.7777777777777778,\"#fb9f3a\"],[0.8888888888888888,\"#fdca26\"],[1.0,\"#f0f921\"]],\"type\":\"heatmapgl\"}],\"histogram\":[{\"marker\":{\"colorbar\":{\"outlinewidth\":0,\"ticks\":\"\"}},\"type\":\"histogram\"}],\"histogram2d\":[{\"colorbar\":{\"outlinewidth\":0,\"ticks\":\"\"},\"colorscale\":[[0.0,\"#0d0887\"],[0.1111111111111111,\"#46039f\"],[0.2222222222222222,\"#7201a8\"],[0.3333333333333333,\"#9c179e\"],[0.4444444444444444,\"#bd3786\"],[0.5555555555555556,\"#d8576b\"],[0.6666666666666666,\"#ed7953\"],[0.7777777777777778,\"#fb9f3a\"],[0.8888888888888888,\"#fdca26\"],[1.0,\"#f0f921\"]],\"type\":\"histogram2d\"}],\"histogram2dcontour\":[{\"colorbar\":{\"outlinewidth\":0,\"ticks\":\"\"},\"colorscale\":[[0.0,\"#0d0887\"],[0.1111111111111111,\"#46039f\"],[0.2222222222222222,\"#7201a8\"],[0.3333333333333333,\"#9c179e\"],[0.4444444444444444,\"#bd3786\"],[0.5555555555555556,\"#d8576b\"],[0.6666666666666666,\"#ed7953\"],[0.7777777777777778,\"#fb9f3a\"],[0.8888888888888888,\"#fdca26\"],[1.0,\"#f0f921\"]],\"type\":\"histogram2dcontour\"}],\"mesh3d\":[{\"colorbar\":{\"outlinewidth\":0,\"ticks\":\"\"},\"type\":\"mesh3d\"}],\"parcoords\":[{\"line\":{\"colorbar\":{\"outlinewidth\":0,\"ticks\":\"\"}},\"type\":\"parcoords\"}],\"pie\":[{\"automargin\":true,\"type\":\"pie\"}],\"scatter\":[{\"marker\":{\"colorbar\":{\"outlinewidth\":0,\"ticks\":\"\"}},\"type\":\"scatter\"}],\"scatter3d\":[{\"line\":{\"colorbar\":{\"outlinewidth\":0,\"ticks\":\"\"}},\"marker\":{\"colorbar\":{\"outlinewidth\":0,\"ticks\":\"\"}},\"type\":\"scatter3d\"}],\"scattercarpet\":[{\"marker\":{\"colorbar\":{\"outlinewidth\":0,\"ticks\":\"\"}},\"type\":\"scattercarpet\"}],\"scattergeo\":[{\"marker\":{\"colorbar\":{\"outlinewidth\":0,\"ticks\":\"\"}},\"type\":\"scattergeo\"}],\"scattergl\":[{\"marker\":{\"colorbar\":{\"outlinewidth\":0,\"ticks\":\"\"}},\"type\":\"scattergl\"}],\"scattermapbox\":[{\"marker\":{\"colorbar\":{\"outlinewidth\":0,\"ticks\":\"\"}},\"type\":\"scattermapbox\"}],\"scatterpolar\":[{\"marker\":{\"colorbar\":{\"outlinewidth\":0,\"ticks\":\"\"}},\"type\":\"scatterpolar\"}],\"scatterpolargl\":[{\"marker\":{\"colorbar\":{\"outlinewidth\":0,\"ticks\":\"\"}},\"type\":\"scatterpolargl\"}],\"scatterternary\":[{\"marker\":{\"colorbar\":{\"outlinewidth\":0,\"ticks\":\"\"}},\"type\":\"scatterternary\"}],\"surface\":[{\"colorbar\":{\"outlinewidth\":0,\"ticks\":\"\"},\"colorscale\":[[0.0,\"#0d0887\"],[0.1111111111111111,\"#46039f\"],[0.2222222222222222,\"#7201a8\"],[0.3333333333333333,\"#9c179e\"],[0.4444444444444444,\"#bd3786\"],[0.5555555555555556,\"#d8576b\"],[0.6666666666666666,\"#ed7953\"],[0.7777777777777778,\"#fb9f3a\"],[0.8888888888888888,\"#fdca26\"],[1.0,\"#f0f921\"]],\"type\":\"surface\"}],\"table\":[{\"cells\":{\"fill\":{\"color\":\"#EBF0F8\"},\"line\":{\"color\":\"white\"}},\"header\":{\"fill\":{\"color\":\"#C8D4E3\"},\"line\":{\"color\":\"white\"}},\"type\":\"table\"}]},\"layout\":{\"annotationdefaults\":{\"arrowcolor\":\"#2a3f5f\",\"arrowhead\":0,\"arrowwidth\":1},\"coloraxis\":{\"colorbar\":{\"outlinewidth\":0,\"ticks\":\"\"}},\"colorscale\":{\"diverging\":[[0,\"#8e0152\"],[0.1,\"#c51b7d\"],[0.2,\"#de77ae\"],[0.3,\"#f1b6da\"],[0.4,\"#fde0ef\"],[0.5,\"#f7f7f7\"],[0.6,\"#e6f5d0\"],[0.7,\"#b8e186\"],[0.8,\"#7fbc41\"],[0.9,\"#4d9221\"],[1,\"#276419\"]],\"sequential\":[[0.0,\"#0d0887\"],[0.1111111111111111,\"#46039f\"],[0.2222222222222222,\"#7201a8\"],[0.3333333333333333,\"#9c179e\"],[0.4444444444444444,\"#bd3786\"],[0.5555555555555556,\"#d8576b\"],[0.6666666666666666,\"#ed7953\"],[0.7777777777777778,\"#fb9f3a\"],[0.8888888888888888,\"#fdca26\"],[1.0,\"#f0f921\"]],\"sequentialminus\":[[0.0,\"#0d0887\"],[0.1111111111111111,\"#46039f\"],[0.2222222222222222,\"#7201a8\"],[0.3333333333333333,\"#9c179e\"],[0.4444444444444444,\"#bd3786\"],[0.5555555555555556,\"#d8576b\"],[0.6666666666666666,\"#ed7953\"],[0.7777777777777778,\"#fb9f3a\"],[0.8888888888888888,\"#fdca26\"],[1.0,\"#f0f921\"]]},\"colorway\":[\"#636efa\",\"#EF553B\",\"#00cc96\",\"#ab63fa\",\"#FFA15A\",\"#19d3f3\",\"#FF6692\",\"#B6E880\",\"#FF97FF\",\"#FECB52\"],\"font\":{\"color\":\"#2a3f5f\"},\"geo\":{\"bgcolor\":\"white\",\"lakecolor\":\"white\",\"landcolor\":\"#E5ECF6\",\"showlakes\":true,\"showland\":true,\"subunitcolor\":\"white\"},\"hoverlabel\":{\"align\":\"left\"},\"hovermode\":\"closest\",\"mapbox\":{\"style\":\"light\"},\"paper_bgcolor\":\"white\",\"plot_bgcolor\":\"#E5ECF6\",\"polar\":{\"angularaxis\":{\"gridcolor\":\"white\",\"linecolor\":\"white\",\"ticks\":\"\"},\"bgcolor\":\"#E5ECF6\",\"radialaxis\":{\"gridcolor\":\"white\",\"linecolor\":\"white\",\"ticks\":\"\"}},\"scene\":{\"xaxis\":{\"backgroundcolor\":\"#E5ECF6\",\"gridcolor\":\"white\",\"gridwidth\":2,\"linecolor\":\"white\",\"showbackground\":true,\"ticks\":\"\",\"zerolinecolor\":\"white\"},\"yaxis\":{\"backgroundcolor\":\"#E5ECF6\",\"gridcolor\":\"white\",\"gridwidth\":2,\"linecolor\":\"white\",\"showbackground\":true,\"ticks\":\"\",\"zerolinecolor\":\"white\"},\"zaxis\":{\"backgroundcolor\":\"#E5ECF6\",\"gridcolor\":\"white\",\"gridwidth\":2,\"linecolor\":\"white\",\"showbackground\":true,\"ticks\":\"\",\"zerolinecolor\":\"white\"}},\"shapedefaults\":{\"line\":{\"color\":\"#2a3f5f\"}},\"ternary\":{\"aaxis\":{\"gridcolor\":\"white\",\"linecolor\":\"white\",\"ticks\":\"\"},\"baxis\":{\"gridcolor\":\"white\",\"linecolor\":\"white\",\"ticks\":\"\"},\"bgcolor\":\"#E5ECF6\",\"caxis\":{\"gridcolor\":\"white\",\"linecolor\":\"white\",\"ticks\":\"\"}},\"title\":{\"x\":0.05},\"xaxis\":{\"automargin\":true,\"gridcolor\":\"white\",\"linecolor\":\"white\",\"ticks\":\"\",\"title\":{\"standoff\":15},\"zerolinecolor\":\"white\",\"zerolinewidth\":2},\"yaxis\":{\"automargin\":true,\"gridcolor\":\"white\",\"linecolor\":\"white\",\"ticks\":\"\",\"title\":{\"standoff\":15},\"zerolinecolor\":\"white\",\"zerolinewidth\":2}}}},\"margin\":[5,5,5,5],\"name\":\"Plotly04848\",\"viewport_update_throttle\":200},\"id\":\"3158\",\"type\":\"panel.models.plotly.PlotlyPlot\"},{\"attributes\":{},\"id\":\"3062\",\"type\":\"Selection\"},{\"attributes\":{\"children\":[{\"id\":\"3023\"},{\"id\":\"3025\"}],\"margin\":[0,0,0,0],\"name\":\"Column04830\"},\"id\":\"3022\",\"type\":\"Column\"},{\"attributes\":{},\"id\":\"2965\",\"type\":\"LinearScale\"},{\"attributes\":{\"below\":[{\"id\":\"3104\"}],\"center\":[{\"id\":\"3106\"},{\"id\":\"3110\"}],\"left\":[{\"id\":\"3107\"}],\"margin\":null,\"min_border_bottom\":10,\"min_border_left\":10,\"min_border_right\":10,\"min_border_top\":10,\"plot_height\":400,\"plot_width\":700,\"renderers\":[{\"id\":\"3130\"}],\"sizing_mode\":\"fixed\",\"title\":{\"id\":\"3096\"},\"toolbar\":{\"id\":\"3117\"},\"x_range\":{\"id\":\"3092\"},\"x_scale\":{\"id\":\"3100\"},\"y_range\":{\"id\":\"2958\"},\"y_scale\":{\"id\":\"3102\"}},\"id\":\"3095\",\"subtype\":\"Figure\",\"type\":\"Plot\"},{\"attributes\":{\"axis\":{\"id\":\"2969\"},\"grid_line_color\":null,\"ticker\":null},\"id\":\"2972\",\"type\":\"Grid\"},{\"attributes\":{},\"id\":\"3183\",\"type\":\"UnionRenderers\"},{\"attributes\":{\"axis_label\":\"year\",\"bounds\":\"auto\",\"formatter\":{\"id\":\"2999\"},\"major_label_orientation\":\"horizontal\",\"ticker\":{\"id\":\"2970\"}},\"id\":\"2969\",\"type\":\"LinearAxis\"},{\"attributes\":{},\"id\":\"3182\",\"type\":\"Selection\"},{\"attributes\":{\"height\":288,\"margin\":[5,5,5,5],\"name\":\"Matplotlib04851\",\"text\":\"&lt;img src=&quot;data:image/png;base64,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&quot; width=&quot;432px&quot; height=&quot;288px&quot; alt=&quot;&quot;&gt;&lt;/img&gt;\",\"width\":432},\"id\":\"2952\",\"type\":\"panel.models.markup.HTML\"},{\"attributes\":{\"data_source\":{\"id\":\"2990\"},\"glyph\":{\"id\":\"2993\"},\"hover_glyph\":null,\"muted_glyph\":{\"id\":\"2995\"},\"nonselection_glyph\":{\"id\":\"2994\"},\"selection_glyph\":null,\"view\":{\"id\":\"2997\"}},\"id\":\"2996\",\"type\":\"GlyphRenderer\"},{\"attributes\":{},\"id\":\"2970\",\"type\":\"BasicTicker\"},{\"attributes\":{\"text\":\"Average Sales Price per Year In San Francisco\",\"text_color\":{\"value\":\"black\"},\"text_font_size\":{\"value\":\"12pt\"}},\"id\":\"3032\",\"type\":\"Title\"},{\"attributes\":{\"data\":{\"dimensions.0.values\":[{\"__ndarray__\":\"JRAUMfI/jEB9IrkvwqaIQFx/3pp8XohAFpsVUHKMhUBs0ERas3iFQL0KhXgNJIVAy835O80ahUANV25bts+EQJrMCuEbsIRAya3y7v5QhEA=\",\"dtype\":\"float64\",\"order\":\"little\",\"shape\":[10]}],\"dimensions.1.values\":[{\"__ndarray__\":\"AAAAAE4JF0EAAAAA8DYXQQAAAAB98hZBAAAAAIQYF0EAAAAAXFUXQQAAAACEGBdBAAAAAIQYF0EAAAAAhBgXQQAAAACEGBdBAAAAAPTvFkE=\",\"dtype\":\"float64\",\"order\":\"little\",\"shape\":[10]}],\"dimensions.2.values\":[{\"__ndarray__\":\"VVVVVVX2o0AAAAAAAKyqQAAAAACA1qBASZIkSZICpkAAAAAAAO6uQEmSJEmSAqZASZIkSZICpkBJkiRJkgKmQEmSJEmSAqZAAAAAAABmoEA=\",\"dtype\":\"float64\",\"order\":\"little\",\"shape\":[10]}],\"line.color\":[{\"__ndarray__\":\"JRAUMfI/jEB9IrkvwqaIQFx/3pp8XohAFpsVUHKMhUBs0ERas3iFQL0KhXgNJIVAy835O80ahUANV25bts+EQJrMCuEbsIRAya3y7v5QhEA=\",\"dtype\":\"float64\",\"order\":\"little\",\"shape\":[10]}]},\"selected\":{\"id\":\"3180\"},\"selection_policy\":{\"id\":\"3181\"}},\"id\":\"3157\",\"type\":\"ColumnDataSource\"},{\"attributes\":{},\"id\":\"3181\",\"type\":\"UnionRenderers\"},{\"attributes\":{\"active_drag\":\"auto\",\"active_inspect\":\"auto\",\"active_multi\":null,\"active_scroll\":\"auto\",\"active_tap\":\"auto\",\"tools\":[{\"id\":\"3094\"},{\"id\":\"3111\"},{\"id\":\"3112\"},{\"id\":\"3113\"},{\"id\":\"3114\"},{\"id\":\"3115\"}]},\"id\":\"3117\",\"type\":\"Toolbar\"},{\"attributes\":{\"line_alpha\":0.2,\"line_color\":\"#1f77b3\",\"line_width\":2,\"x\":{\"field\":\"year\"},\"y\":{\"field\":\"sale_price_sqr_foot\"}},\"id\":\"3066\",\"type\":\"Line\"},{\"attributes\":{},\"id\":\"3038\",\"type\":\"LinearScale\"},{\"attributes\":{},\"id\":\"3179\",\"type\":\"UnionRenderers\"},{\"attributes\":{},\"id\":\"3168\",\"type\":\"Selection\"},{\"attributes\":{\"data_source\":{\"id\":\"3061\"},\"glyph\":{\"id\":\"3064\"},\"hover_glyph\":null,\"muted_glyph\":{\"id\":\"3066\"},\"nonselection_glyph\":{\"id\":\"3065\"},\"selection_glyph\":null,\"view\":{\"id\":\"3068\"}},\"id\":\"3067\",\"type\":\"GlyphRenderer\"},{\"attributes\":{\"child\":{\"id\":\"3153\"},\"name\":\"Column04850\",\"title\":\"San Francisco Parallel Graphs\"},\"id\":\"3159\",\"type\":\"Panel\"},{\"attributes\":{\"axis_label\":\"sales price per square foot on average\",\"bounds\":\"auto\",\"formatter\":{\"id\":\"3001\"},\"major_label_orientation\":\"horizontal\",\"ticker\":{\"id\":\"2974\"}},\"id\":\"2973\",\"type\":\"LinearAxis\"},{\"attributes\":{\"css_classes\":[\"markdown\"],\"margin\":[5,5,5,5],\"name\":\"Markdown04853\",\"text\":\"&lt;p&gt;Housing Units Sold per Year&lt;/p&gt;\"},\"id\":\"2951\",\"type\":\"panel.models.markup.HTML\"},{\"attributes\":{},\"id\":\"3133\",\"type\":\"CategoricalTickFormatter\"},{\"attributes\":{\"_render_count\":0,\"config\":null,\"data\":[{\"hovertemplate\":\"Year=%{x}<br>Gross Rent=%{y}<extra></extra>\",\"legendgroup\":\"\",\"line\":{\"color\":\"#636efa\",\"dash\":\"solid\"},\"mode\":\"lines\",\"name\":\"\",\"orientation\":\"v\",\"showlegend\":false,\"type\":\"scatter\",\"xaxis\":\"x\",\"yaxis\":\"y\"}],\"data_sources\":[{\"id\":\"3026\"}],\"layout\":{\"height\":600,\"legend\":{\"tracegroupgap\":0},\"template\":{\"data\":{\"bar\":[{\"error_x\":{\"color\":\"#2a3f5f\"},\"error_y\":{\"color\":\"#2a3f5f\"},\"marker\":{\"line\":{\"color\":\"#E5ECF6\",\"width\":0.5}},\"type\":\"bar\"}],\"barpolar\":[{\"marker\":{\"line\":{\"color\":\"#E5ECF6\",\"width\":0.5}},\"type\":\"barpolar\"}],\"carpet\":[{\"aaxis\":{\"endlinecolor\":\"#2a3f5f\",\"gridcolor\":\"white\",\"linecolor\":\"white\",\"minorgridcolor\":\"white\",\"startlinecolor\":\"#2a3f5f\"},\"baxis\":{\"endlinecolor\":\"#2a3f5f\",\"gridcolor\":\"white\",\"linecolor\":\"white\",\"minorgridcolor\":\"white\",\"startlinecolor\":\"#2a3f5f\"},\"type\":\"carpet\"}],\"choropleth\":[{\"colorbar\":{\"outlinewidth\":0,\"ticks\":\"\"},\"type\":\"choropleth\"}],\"contour\":[{\"colorbar\":{\"outlinewidth\":0,\"ticks\":\"\"},\"colorscale\":[[0.0,\"#0d0887\"],[0.1111111111111111,\"#46039f\"],[0.2222222222222222,\"#7201a8\"],[0.3333333333333333,\"#9c179e\"],[0.4444444444444444,\"#bd3786\"],[0.5555555555555556,\"#d8576b\"],[0.6666666666666666,\"#ed7953\"],[0.7777777777777778,\"#fb9f3a\"],[0.8888888888888888,\"#fdca26\"],[1.0,\"#f0f921\"]],\"type\":\"contour\"}],\"contourcarpet\":[{\"colorbar\":{\"outlinewidth\":0,\"ticks\":\"\"},\"type\":\"contourcarpet\"}],\"heatmap\":[{\"colorbar\":{\"outlinewidth\":0,\"ticks\":\"\"},\"colorscale\":[[0.0,\"#0d0887\"],[0.1111111111111111,\"#46039f\"],[0.2222222222222222,\"#7201a8\"],[0.3333333333333333,\"#9c179e\"],[0.4444444444444444,\"#bd3786\"],[0.5555555555555556,\"#d8576b\"],[0.6666666666666666,\"#ed7953\"],[0.7777777777777778,\"#fb9f3a\"],[0.8888888888888888,\"#fdca26\"],[1.0,\"#f0f921\"]],\"type\":\"heatmap\"}],\"heatmapgl\":[{\"colorbar\":{\"outlinewidth\":0,\"ticks\":\"\"},\"colorscale\":[[0.0,\"#0d0887\"],[0.1111111111111111,\"#46039f\"],[0.2222222222222222,\"#7201a8\"],[0.3333333333333333,\"#9c179e\"],[0.4444444444444444,\"#bd3786\"],[0.5555555555555556,\"#d8576b\"],[0.6666666666666666,\"#ed7953\"],[0.7777777777777778,\"#fb9f3a\"],[0.8888888888888888,\"#fdca26\"],[1.0,\"#f0f921\"]],\"type\":\"heatmapgl\"}],\"histogram\":[{\"marker\":{\"colorbar\":{\"outlinewidth\":0,\"ticks\":\"\"}},\"type\":\"histogram\"}],\"histogram2d\":[{\"colorbar\":{\"outlinewidth\":0,\"ticks\":\"\"},\"colorscale\":[[0.0,\"#0d0887\"],[0.1111111111111111,\"#46039f\"],[0.2222222222222222,\"#7201a8\"],[0.3333333333333333,\"#9c179e\"],[0.4444444444444444,\"#bd3786\"],[0.5555555555555556,\"#d8576b\"],[0.6666666666666666,\"#ed7953\"],[0.7777777777777778,\"#fb9f3a\"],[0.8888888888888888,\"#fdca26\"],[1.0,\"#f0f921\"]],\"type\":\"histogram2d\"}],\"histogram2dcontour\":[{\"colorbar\":{\"outlinewidth\":0,\"ticks\":\"\"},\"colorscale\":[[0.0,\"#0d0887\"],[0.1111111111111111,\"#46039f\"],[0.2222222222222222,\"#7201a8\"],[0.3333333333333333,\"#9c179e\"],[0.4444444444444444,\"#bd3786\"],[0.5555555555555556,\"#d8576b\"],[0.6666666666666666,\"#ed7953\"],[0.7777777777777778,\"#fb9f3a\"],[0.8888888888888888,\"#fdca26\"],[1.0,\"#f0f921\"]],\"type\":\"histogram2dcontour\"}],\"mesh3d\":[{\"colorbar\":{\"outlinewidth\":0,\"ticks\":\"\"},\"type\":\"mesh3d\"}],\"parcoords\":[{\"line\":{\"colorbar\":{\"outlinewidth\":0,\"ticks\":\"\"}},\"type\":\"parcoords\"}],\"pie\":[{\"automargin\":true,\"type\":\"pie\"}],\"scatter\":[{\"marker\":{\"colorbar\":{\"outlinewidth\":0,\"ticks\":\"\"}},\"type\":\"scatter\"}],\"scatter3d\":[{\"line\":{\"colorbar\":{\"outlinewidth\":0,\"ticks\":\"\"}},\"marker\":{\"colorbar\":{\"outlinewidth\":0,\"ticks\":\"\"}},\"type\":\"scatter3d\"}],\"scattercarpet\":[{\"marker\":{\"colorbar\":{\"outlinewidth\":0,\"ticks\":\"\"}},\"type\":\"scattercarpet\"}],\"scattergeo\":[{\"marker\":{\"colorbar\":{\"outlinewidth\":0,\"ticks\":\"\"}},\"type\":\"scattergeo\"}],\"scattergl\":[{\"marker\":{\"colorbar\":{\"outlinewidth\":0,\"ticks\":\"\"}},\"type\":\"scattergl\"}],\"scattermapbox\":[{\"marker\":{\"colorbar\":{\"outlinewidth\":0,\"ticks\":\"\"}},\"type\":\"scattermapbox\"}],\"scatterpolar\":[{\"marker\":{\"colorbar\":{\"outlinewidth\":0,\"ticks\":\"\"}},\"type\":\"scatterpolar\"}],\"scatterpolargl\":[{\"marker\":{\"colorbar\":{\"outlinewidth\":0,\"ticks\":\"\"}},\"type\":\"scatterpolargl\"}],\"scatterternary\":[{\"marker\":{\"colorbar\":{\"outlinewidth\":0,\"ticks\":\"\"}},\"type\":\"scatterternary\"}],\"surface\":[{\"colorbar\":{\"outlinewidth\":0,\"ticks\":\"\"},\"colorscale\":[[0.0,\"#0d0887\"],[0.1111111111111111,\"#46039f\"],[0.2222222222222222,\"#7201a8\"],[0.3333333333333333,\"#9c179e\"],[0.4444444444444444,\"#bd3786\"],[0.5555555555555556,\"#d8576b\"],[0.6666666666666666,\"#ed7953\"],[0.7777777777777778,\"#fb9f3a\"],[0.8888888888888888,\"#fdca26\"],[1.0,\"#f0f921\"]],\"type\":\"surface\"}],\"table\":[{\"cells\":{\"fill\":{\"color\":\"#EBF0F8\"},\"line\":{\"color\":\"white\"}},\"header\":{\"fill\":{\"color\":\"#C8D4E3\"},\"line\":{\"color\":\"white\"}},\"type\":\"table\"}]},\"layout\":{\"annotationdefaults\":{\"arrowcolor\":\"#2a3f5f\",\"arrowhead\":0,\"arrowwidth\":1},\"coloraxis\":{\"colorbar\":{\"outlinewidth\":0,\"ticks\":\"\"}},\"colorscale\":{\"diverging\":[[0,\"#8e0152\"],[0.1,\"#c51b7d\"],[0.2,\"#de77ae\"],[0.3,\"#f1b6da\"],[0.4,\"#fde0ef\"],[0.5,\"#f7f7f7\"],[0.6,\"#e6f5d0\"],[0.7,\"#b8e186\"],[0.8,\"#7fbc41\"],[0.9,\"#4d9221\"],[1,\"#276419\"]],\"sequential\":[[0.0,\"#0d0887\"],[0.1111111111111111,\"#46039f\"],[0.2222222222222222,\"#7201a8\"],[0.3333333333333333,\"#9c179e\"],[0.4444444444444444,\"#bd3786\"],[0.5555555555555556,\"#d8576b\"],[0.6666666666666666,\"#ed7953\"],[0.7777777777777778,\"#fb9f3a\"],[0.8888888888888888,\"#fdca26\"],[1.0,\"#f0f921\"]],\"sequentialminus\":[[0.0,\"#0d0887\"],[0.1111111111111111,\"#46039f\"],[0.2222222222222222,\"#7201a8\"],[0.3333333333333333,\"#9c179e\"],[0.4444444444444444,\"#bd3786\"],[0.5555555555555556,\"#d8576b\"],[0.6666666666666666,\"#ed7953\"],[0.7777777777777778,\"#fb9f3a\"],[0.8888888888888888,\"#fdca26\"],[1.0,\"#f0f921\"]]},\"colorway\":[\"#636efa\",\"#EF553B\",\"#00cc96\",\"#ab63fa\",\"#FFA15A\",\"#19d3f3\",\"#FF6692\",\"#B6E880\",\"#FF97FF\",\"#FECB52\"],\"font\":{\"color\":\"#2a3f5f\"},\"geo\":{\"bgcolor\":\"white\",\"lakecolor\":\"white\",\"landcolor\":\"#E5ECF6\",\"showlakes\":true,\"showland\":true,\"subunitcolor\":\"white\"},\"hoverlabel\":{\"align\":\"left\"},\"hovermode\":\"closest\",\"mapbox\":{\"style\":\"light\"},\"paper_bgcolor\":\"white\",\"plot_bgcolor\":\"#E5ECF6\",\"polar\":{\"angularaxis\":{\"gridcolor\":\"white\",\"linecolor\":\"white\",\"ticks\":\"\"},\"bgcolor\":\"#E5ECF6\",\"radialaxis\":{\"gridcolor\":\"white\",\"linecolor\":\"white\",\"ticks\":\"\"}},\"scene\":{\"xaxis\":{\"backgroundcolor\":\"#E5ECF6\",\"gridcolor\":\"white\",\"gridwidth\":2,\"linecolor\":\"white\",\"showbackground\":true,\"ticks\":\"\",\"zerolinecolor\":\"white\"},\"yaxis\":{\"backgroundcolor\":\"#E5ECF6\",\"gridcolor\":\"white\",\"gridwidth\":2,\"linecolor\":\"white\",\"showbackground\":true,\"ticks\":\"\",\"zerolinecolor\":\"white\"},\"zaxis\":{\"backgroundcolor\":\"#E5ECF6\",\"gridcolor\":\"white\",\"gridwidth\":2,\"linecolor\":\"white\",\"showbackground\":true,\"ticks\":\"\",\"zerolinecolor\":\"white\"}},\"shapedefaults\":{\"line\":{\"color\":\"#2a3f5f\"}},\"ternary\":{\"aaxis\":{\"gridcolor\":\"white\",\"linecolor\":\"white\",\"ticks\":\"\"},\"baxis\":{\"gridcolor\":\"white\",\"linecolor\":\"white\",\"ticks\":\"\"},\"bgcolor\":\"#E5ECF6\",\"caxis\":{\"gridcolor\":\"white\",\"linecolor\":\"white\",\"ticks\":\"\"}},\"title\":{\"x\":0.05},\"xaxis\":{\"automargin\":true,\"gridcolor\":\"white\",\"linecolor\":\"white\",\"ticks\":\"\",\"title\":{\"standoff\":15},\"zerolinecolor\":\"white\",\"zerolinewidth\":2},\"yaxis\":{\"automargin\":true,\"gridcolor\":\"white\",\"linecolor\":\"white\",\"ticks\":\"\",\"title\":{\"standoff\":15},\"zerolinecolor\":\"white\",\"zerolinewidth\":2}}},\"title\":{\"text\":\"San Francisco's Avereage Gross Rent\"},\"width\":700,\"xaxis\":{\"anchor\":\"y\",\"domain\":[0.0,1.0],\"title\":{\"text\":\"Year\"}},\"yaxis\":{\"anchor\":\"x\",\"domain\":[0.0,1.0],\"title\":{\"text\":\"Gross Rent\"}}},\"margin\":[5,5,5,5],\"name\":\"Plotly04831\",\"viewport_update_throttle\":200},\"id\":\"3027\",\"type\":\"panel.models.plotly.PlotlyPlot\"},{\"attributes\":{\"axis\":{\"id\":\"2973\"},\"dimension\":1,\"grid_line_color\":null,\"ticker\":null},\"id\":\"2976\",\"type\":\"Grid\"},{\"attributes\":{\"bottom_units\":\"screen\",\"fill_alpha\":0.5,\"fill_color\":\"lightgrey\",\"left_units\":\"screen\",\"level\":\"overlay\",\"line_alpha\":1.0,\"line_color\":\"black\",\"line_dash\":[4,4],\"line_width\":2,\"right_units\":\"screen\",\"top_units\":\"screen\"},\"id\":\"3116\",\"type\":\"BoxAnnotation\"},{\"attributes\":{},\"id\":\"3180\",\"type\":\"Selection\"},{\"attributes\":{\"children\":[{\"id\":\"3161\"},{\"id\":\"3163\"}],\"margin\":[0,0,0,0],\"name\":\"Column04843\"},\"id\":\"3160\",\"type\":\"Column\"},{\"attributes\":{},\"id\":\"3036\",\"type\":\"LinearScale\"},{\"attributes\":{\"source\":{\"id\":\"3061\"}},\"id\":\"3068\",\"type\":\"CDSView\"},{\"attributes\":{\"data\":{\"x\":[[2010,2011,2012,2013,2014,2015,2016]],\"y\":[[1239,1530,2324,2971,3528,3739,4390]]},\"selected\":{\"id\":\"3168\"},\"selection_policy\":{\"id\":\"3169\"}},\"id\":\"3026\",\"type\":\"ColumnDataSource\"},{\"attributes\":{\"axis\":{\"id\":\"3040\"},\"grid_line_color\":null,\"ticker\":null},\"id\":\"3043\",\"type\":\"Grid\"},{\"attributes\":{\"children\":[{\"id\":\"2951\"},{\"id\":\"2952\"}],\"margin\":[0,0,0,0],\"name\":\"Column04855\"},\"id\":\"2950\",\"type\":\"Column\"},{\"attributes\":{\"axis_label\":\"year\",\"bounds\":\"auto\",\"formatter\":{\"id\":\"3070\"},\"major_label_orientation\":\"horizontal\",\"ticker\":{\"id\":\"3041\"}},\"id\":\"3040\",\"type\":\"LinearAxis\"},{\"attributes\":{\"axis_label\":\"neighborhood\",\"bounds\":\"auto\",\"formatter\":{\"id\":\"3133\"},\"major_label_orientation\":1.5707963267948966,\"ticker\":{\"id\":\"3105\"}},\"id\":\"3104\",\"type\":\"CategoricalAxis\"},{\"attributes\":{\"line_alpha\":0.2,\"line_color\":\"#1f77b3\",\"line_width\":2,\"x\":{\"field\":\"year\"},\"y\":{\"field\":\"sale_price_sqr_foot\"}},\"id\":\"2995\",\"type\":\"Line\"},{\"attributes\":{\"children\":[{\"id\":\"2955\"},{\"id\":\"2956\"},{\"id\":\"3027\"},{\"id\":\"3031\"}],\"margin\":[0,0,0,0],\"name\":\"Column04838\"},\"id\":\"2954\",\"type\":\"Column\"},{\"attributes\":{},\"id\":\"3041\",\"type\":\"BasicTicker\"},{\"attributes\":{\"child\":{\"id\":\"2950\"},\"name\":\"Column04855\",\"title\":\"San Franciscos Housing Units Sold\"},\"id\":\"2953\",\"type\":\"Panel\"},{\"attributes\":{\"_render_count\":0,\"config\":null,\"data\":[{\"dimensions\":[{\"label\":\"neighborhood\"},{\"label\":\"sale_price_sqr_foot\"},{\"label\":\"housing_units\"},{\"label\":\"gross_rent\"}],\"domain\":{\"x\":[0.0,1.0],\"y\":[0.0,1.0]},\"line\":{\"coloraxis\":\"coloraxis\"},\"name\":\"\",\"type\":\"parcats\"}],\"data_sources\":[{\"id\":\"3155\"}],\"layout\":{\"coloraxis\":{\"colorbar\":{\"title\":{\"text\":\"sale_price_sqr_foot\"}},\"colorscale\":[[0.0,\"#000004\"],[0.1111111111111111,\"#1b0c41\"],[0.2222222222222222,\"#4a0c6b\"],[0.3333333333333333,\"#781c6d\"],[0.4444444444444444,\"#a52c60\"],[0.5555555555555556,\"#cf4446\"],[0.6666666666666666,\"#ed6925\"],[0.7777777777777778,\"#fb9b06\"],[0.8888888888888888,\"#f7d13d\"],[1.0,\"#fcffa4\"]]},\"legend\":{\"tracegroupgap\":0},\"margin\":{\"t\":60},\"template\":{\"data\":{\"bar\":[{\"error_x\":{\"color\":\"#2a3f5f\"},\"error_y\":{\"color\":\"#2a3f5f\"},\"marker\":{\"line\":{\"color\":\"#E5ECF6\",\"width\":0.5}},\"type\":\"bar\"}],\"barpolar\":[{\"marker\":{\"line\":{\"color\":\"#E5ECF6\",\"width\":0.5}},\"type\":\"barpolar\"}],\"carpet\":[{\"aaxis\":{\"endlinecolor\":\"#2a3f5f\",\"gridcolor\":\"white\",\"linecolor\":\"white\",\"minorgridcolor\":\"white\",\"startlinecolor\":\"#2a3f5f\"},\"baxis\":{\"endlinecolor\":\"#2a3f5f\",\"gridcolor\":\"white\",\"linecolor\":\"white\",\"minorgridcolor\":\"white\",\"startlinecolor\":\"#2a3f5f\"},\"type\":\"carpet\"}],\"choropleth\":[{\"colorbar\":{\"outlinewidth\":0,\"ticks\":\"\"},\"type\":\"choropleth\"}],\"contour\":[{\"colorbar\":{\"outlinewidth\":0,\"ticks\":\"\"},\"colorscale\":[[0.0,\"#0d0887\"],[0.1111111111111111,\"#46039f\"],[0.2222222222222222,\"#7201a8\"],[0.3333333333333333,\"#9c179e\"],[0.4444444444444444,\"#bd3786\"],[0.5555555555555556,\"#d8576b\"],[0.6666666666666666,\"#ed7953\"],[0.7777777777777778,\"#fb9f3a\"],[0.8888888888888888,\"#fdca26\"],[1.0,\"#f0f921\"]],\"type\":\"contour\"}],\"contourcarpet\":[{\"colorbar\":{\"outlinewidth\":0,\"ticks\":\"\"},\"type\":\"contourcarpet\"}],\"heatmap\":[{\"colorbar\":{\"outlinewidth\":0,\"ticks\":\"\"},\"colorscale\":[[0.0,\"#0d0887\"],[0.1111111111111111,\"#46039f\"],[0.2222222222222222,\"#7201a8\"],[0.3333333333333333,\"#9c179e\"],[0.4444444444444444,\"#bd3786\"],[0.5555555555555556,\"#d8576b\"],[0.6666666666666666,\"#ed7953\"],[0.7777777777777778,\"#fb9f3a\"],[0.8888888888888888,\"#fdca26\"],[1.0,\"#f0f921\"]],\"type\":\"heatmap\"}],\"heatmapgl\":[{\"colorbar\":{\"outlinewidth\":0,\"ticks\":\"\"},\"colorscale\":[[0.0,\"#0d0887\"],[0.1111111111111111,\"#46039f\"],[0.2222222222222222,\"#7201a8\"],[0.3333333333333333,\"#9c179e\"],[0.4444444444444444,\"#bd3786\"],[0.5555555555555556,\"#d8576b\"],[0.6666666666666666,\"#ed7953\"],[0.7777777777777778,\"#fb9f3a\"],[0.8888888888888888,\"#fdca26\"],[1.0,\"#f0f921\"]],\"type\":\"heatmapgl\"}],\"histogram\":[{\"marker\":{\"colorbar\":{\"outlinewidth\":0,\"ticks\":\"\"}},\"type\":\"histogram\"}],\"histogram2d\":[{\"colorbar\":{\"outlinewidth\":0,\"ticks\":\"\"},\"colorscale\":[[0.0,\"#0d0887\"],[0.1111111111111111,\"#46039f\"],[0.2222222222222222,\"#7201a8\"],[0.3333333333333333,\"#9c179e\"],[0.4444444444444444,\"#bd3786\"],[0.5555555555555556,\"#d8576b\"],[0.6666666666666666,\"#ed7953\"],[0.7777777777777778,\"#fb9f3a\"],[0.8888888888888888,\"#fdca26\"],[1.0,\"#f0f921\"]],\"type\":\"histogram2d\"}],\"histogram2dcontour\":[{\"colorbar\":{\"outlinewidth\":0,\"ticks\":\"\"},\"colorscale\":[[0.0,\"#0d0887\"],[0.1111111111111111,\"#46039f\"],[0.2222222222222222,\"#7201a8\"],[0.3333333333333333,\"#9c179e\"],[0.4444444444444444,\"#bd3786\"],[0.5555555555555556,\"#d8576b\"],[0.6666666666666666,\"#ed7953\"],[0.7777777777777778,\"#fb9f3a\"],[0.8888888888888888,\"#fdca26\"],[1.0,\"#f0f921\"]],\"type\":\"histogram2dcontour\"}],\"mesh3d\":[{\"colorbar\":{\"outlinewidth\":0,\"ticks\":\"\"},\"type\":\"mesh3d\"}],\"parcoords\":[{\"line\":{\"colorbar\":{\"outlinewidth\":0,\"ticks\":\"\"}},\"type\":\"parcoords\"}],\"pie\":[{\"automargin\":true,\"type\":\"pie\"}],\"scatter\":[{\"marker\":{\"colorbar\":{\"outlinewidth\":0,\"ticks\":\"\"}},\"type\":\"scatter\"}],\"scatter3d\":[{\"line\":{\"colorbar\":{\"outlinewidth\":0,\"ticks\":\"\"}},\"marker\":{\"colorbar\":{\"outlinewidth\":0,\"ticks\":\"\"}},\"type\":\"scatter3d\"}],\"scattercarpet\":[{\"marker\":{\"colorbar\":{\"outlinewidth\":0,\"ticks\":\"\"}},\"type\":\"scattercarpet\"}],\"scattergeo\":[{\"marker\":{\"colorbar\":{\"outlinewidth\":0,\"ticks\":\"\"}},\"type\":\"scattergeo\"}],\"scattergl\":[{\"marker\":{\"colorbar\":{\"outlinewidth\":0,\"ticks\":\"\"}},\"type\":\"scattergl\"}],\"scattermapbox\":[{\"marker\":{\"colorbar\":{\"outlinewidth\":0,\"ticks\":\"\"}},\"type\":\"scattermapbox\"}],\"scatterpolar\":[{\"marker\":{\"colorbar\":{\"outlinewidth\":0,\"ticks\":\"\"}},\"type\":\"scatterpolar\"}],\"scatterpolargl\":[{\"marker\":{\"colorbar\":{\"outlinewidth\":0,\"ticks\":\"\"}},\"type\":\"scatterpolargl\"}],\"scatterternary\":[{\"marker\":{\"colorbar\":{\"outlinewidth\":0,\"ticks\":\"\"}},\"type\":\"scatterternary\"}],\"surface\":[{\"colorbar\":{\"outlinewidth\":0,\"ticks\":\"\"},\"colorscale\":[[0.0,\"#0d0887\"],[0.1111111111111111,\"#46039f\"],[0.2222222222222222,\"#7201a8\"],[0.3333333333333333,\"#9c179e\"],[0.4444444444444444,\"#bd3786\"],[0.5555555555555556,\"#d8576b\"],[0.6666666666666666,\"#ed7953\"],[0.7777777777777778,\"#fb9f3a\"],[0.8888888888888888,\"#fdca26\"],[1.0,\"#f0f921\"]],\"type\":\"surface\"}],\"table\":[{\"cells\":{\"fill\":{\"color\":\"#EBF0F8\"},\"line\":{\"color\":\"white\"}},\"header\":{\"fill\":{\"color\":\"#C8D4E3\"},\"line\":{\"color\":\"white\"}},\"type\":\"table\"}]},\"layout\":{\"annotationdefaults\":{\"arrowcolor\":\"#2a3f5f\",\"arrowhead\":0,\"arrowwidth\":1},\"coloraxis\":{\"colorbar\":{\"outlinewidth\":0,\"ticks\":\"\"}},\"colorscale\":{\"diverging\":[[0,\"#8e0152\"],[0.1,\"#c51b7d\"],[0.2,\"#de77ae\"],[0.3,\"#f1b6da\"],[0.4,\"#fde0ef\"],[0.5,\"#f7f7f7\"],[0.6,\"#e6f5d0\"],[0.7,\"#b8e186\"],[0.8,\"#7fbc41\"],[0.9,\"#4d9221\"],[1,\"#276419\"]],\"sequential\":[[0.0,\"#0d0887\"],[0.1111111111111111,\"#46039f\"],[0.2222222222222222,\"#7201a8\"],[0.3333333333333333,\"#9c179e\"],[0.4444444444444444,\"#bd3786\"],[0.5555555555555556,\"#d8576b\"],[0.6666666666666666,\"#ed7953\"],[0.7777777777777778,\"#fb9f3a\"],[0.8888888888888888,\"#fdca26\"],[1.0,\"#f0f921\"]],\"sequentialminus\":[[0.0,\"#0d0887\"],[0.1111111111111111,\"#46039f\"],[0.2222222222222222,\"#7201a8\"],[0.3333333333333333,\"#9c179e\"],[0.4444444444444444,\"#bd3786\"],[0.5555555555555556,\"#d8576b\"],[0.6666666666666666,\"#ed7953\"],[0.7777777777777778,\"#fb9f3a\"],[0.8888888888888888,\"#fdca26\"],[1.0,\"#f0f921\"]]},\"colorway\":[\"#636efa\",\"#EF553B\",\"#00cc96\",\"#ab63fa\",\"#FFA15A\",\"#19d3f3\",\"#FF6692\",\"#B6E880\",\"#FF97FF\",\"#FECB52\"],\"font\":{\"color\":\"#2a3f5f\"},\"geo\":{\"bgcolor\":\"white\",\"lakecolor\":\"white\",\"landcolor\":\"#E5ECF6\",\"showlakes\":true,\"showland\":true,\"subunitcolor\":\"white\"},\"hoverlabel\":{\"align\":\"left\"},\"hovermode\":\"closest\",\"mapbox\":{\"style\":\"light\"},\"paper_bgcolor\":\"white\",\"plot_bgcolor\":\"#E5ECF6\",\"polar\":{\"angularaxis\":{\"gridcolor\":\"white\",\"linecolor\":\"white\",\"ticks\":\"\"},\"bgcolor\":\"#E5ECF6\",\"radialaxis\":{\"gridcolor\":\"white\",\"linecolor\":\"white\",\"ticks\":\"\"}},\"scene\":{\"xaxis\":{\"backgroundcolor\":\"#E5ECF6\",\"gridcolor\":\"white\",\"gridwidth\":2,\"linecolor\":\"white\",\"showbackground\":true,\"ticks\":\"\",\"zerolinecolor\":\"white\"},\"yaxis\":{\"backgroundcolor\":\"#E5ECF6\",\"gridcolor\":\"white\",\"gridwidth\":2,\"linecolor\":\"white\",\"showbackground\":true,\"ticks\":\"\",\"zerolinecolor\":\"white\"},\"zaxis\":{\"backgroundcolor\":\"#E5ECF6\",\"gridcolor\":\"white\",\"gridwidth\":2,\"linecolor\":\"white\",\"showbackground\":true,\"ticks\":\"\",\"zerolinecolor\":\"white\"}},\"shapedefaults\":{\"line\":{\"color\":\"#2a3f5f\"}},\"ternary\":{\"aaxis\":{\"gridcolor\":\"white\",\"linecolor\":\"white\",\"ticks\":\"\"},\"baxis\":{\"gridcolor\":\"white\",\"linecolor\":\"white\",\"ticks\":\"\"},\"bgcolor\":\"#E5ECF6\",\"caxis\":{\"gridcolor\":\"white\",\"linecolor\":\"white\",\"ticks\":\"\"}},\"title\":{\"x\":0.05},\"xaxis\":{\"automargin\":true,\"gridcolor\":\"white\",\"linecolor\":\"white\",\"ticks\":\"\",\"title\":{\"standoff\":15},\"zerolinecolor\":\"white\",\"zerolinewidth\":2},\"yaxis\":{\"automargin\":true,\"gridcolor\":\"white\",\"linecolor\":\"white\",\"ticks\":\"\",\"title\":{\"standoff\":15},\"zerolinecolor\":\"white\",\"zerolinewidth\":2}}}},\"margin\":[5,5,5,5],\"name\":\"Plotly04846\",\"viewport_update_throttle\":200},\"id\":\"3156\",\"type\":\"panel.models.plotly.PlotlyPlot\"},{\"attributes\":{\"line_color\":\"#1f77b3\",\"line_width\":2,\"x\":{\"field\":\"neighborhood\"},\"y\":{\"field\":\"sale_price_sqr_foot\"}},\"id\":\"3127\",\"type\":\"Line\"},{\"attributes\":{},\"id\":\"3012\",\"type\":\"UnionRenderers\"},{\"attributes\":{\"child\":{\"id\":\"2954\"},\"name\":\"Column04838\",\"title\":\"Averages Neighborhood Costs\"},\"id\":\"3089\",\"type\":\"Panel\"},{\"attributes\":{\"margin\":[20,20,20,20],\"min_width\":250,\"options\":[\"Alamo Square\",\"Anza Vista\",\"Bayview\",\"Buena Vista Park\",\"Central Richmond\",\"Central Sunset\",\"Corona Heights\",\"Cow Hollow\",\"Croker Amazon\",\"Diamond Heights\",\"Downtown \",\"Eureka Valley/Dolores Heights\",\"Excelsior\",\"Financial District North\",\"Financial District South\",\"Forest Knolls\",\"Glen Park\",\"Golden Gate Heights\",\"Haight Ashbury\",\"Hayes Valley\",\"Hunters Point\",\"Ingleside \",\"Inner Mission\",\"Inner Parkside\",\"Inner Richmond\",\"Inner Sunset\",\"Jordan Park/Laurel Heights\",\"Lake --The Presidio\",\"Lone Mountain\",\"Lower Pacific Heights\",\"Marina\",\"Miraloma Park\",\"Mission Bay\",\"Mission Dolores\",\"Mission Terrace\",\"Nob Hill\",\"Noe Valley\",\"Oceanview\",\"Outer Parkside\",\"Outer Richmond \",\"Outer Sunset\",\"Pacific Heights\",\"Park North\",\"Parkside\",\"Parnassus/Ashbury Heights\",\"Portola\",\"Potrero Hill\",\"Presidio Heights\",\"Russian Hill\",\"South Beach\",\"South of Market\",\"Sunnyside\",\"Telegraph Hill\",\"Twin Peaks\",\"Union Square District\",\"Van Ness/ Civic Center\",\"West Portal\",\"Western Addition\",\"Yerba Buena\",\"Bernal Heights \",\"Clarendon Heights\",\"Duboce Triangle\",\"Ingleside Heights\",\"North Beach\",\"North Waterfront\",\"Outer Mission\",\"Westwood Highlands\",\"Merced Heights\",\"Midtown Terrace\",\"Visitacion Valley\",\"Silver Terrace\",\"Westwood Park\",\"Bayview Heights\"],\"title\":\"neighborhood\",\"value\":\"Alamo Square\",\"width\":250},\"id\":\"3024\",\"type\":\"Select\"},{\"attributes\":{},\"id\":\"3125\",\"type\":\"Selection\"},{\"attributes\":{},\"id\":\"2977\",\"type\":\"SaveTool\"},{\"attributes\":{},\"id\":\"2979\",\"type\":\"WheelZoomTool\"},{\"attributes\":{\"text\":\"\",\"text_color\":{\"value\":\"black\"},\"text_font_size\":{\"value\":\"12pt\"}},\"id\":\"3096\",\"type\":\"Title\"},{\"attributes\":{\"margin\":[5,5,5,5],\"name\":\"VSpacer04829\",\"sizing_mode\":\"stretch_height\"},\"id\":\"3025\",\"type\":\"Spacer\"},{\"attributes\":{},\"id\":\"3070\",\"type\":\"BasicTickFormatter\"},{\"attributes\":{},\"id\":\"2978\",\"type\":\"PanTool\"},{\"attributes\":{},\"id\":\"3045\",\"type\":\"BasicTicker\"},{\"attributes\":{\"axis\":{\"id\":\"3044\"},\"dimension\":1,\"grid_line_color\":null,\"ticker\":null},\"id\":\"3047\",\"type\":\"Grid\"},{\"attributes\":{\"line_alpha\":0.1,\"line_color\":\"#1f77b3\",\"line_width\":2,\"x\":{\"field\":\"neighborhood\"},\"y\":{\"field\":\"sale_price_sqr_foot\"}},\"id\":\"3128\",\"type\":\"Line\"},{\"attributes\":{\"children\":[{\"id\":\"2960\"},{\"id\":\"3022\"}],\"margin\":[0,0,0,0],\"name\":\"Row04823\"},\"id\":\"2956\",\"type\":\"Row\"},{\"attributes\":{\"overlay\":{\"id\":\"2982\"}},\"id\":\"2980\",\"type\":\"BoxZoomTool\"},{\"attributes\":{\"css_classes\":[\"markdown\"],\"margin\":[5,5,5,5],\"name\":\"Markdown04839\",\"text\":\"&lt;p&gt;Neighborhood Average Value&lt;/p&gt;\"},\"id\":\"3161\",\"type\":\"panel.models.markup.HTML\"},{\"attributes\":{},\"id\":\"3102\",\"type\":\"LinearScale\"},{\"attributes\":{\"data\":{\"dimensions.0.values\":[[\"Union Square District\",\"Merced Heights\",\"Miraloma Park\",\"Pacific Heights\",\"Westwood Park\",\"Telegraph Hill\",\"Presidio Heights\",\"Cow Hollow\",\"Potrero Hill\",\"South Beach\"]],\"dimensions.1.values\":[{\"__ndarray__\":\"bef7qfE/jED2KFyPwqaIQHNoke18XohAnMQgsHKMhUBiEFg5tHiFQJMYBFYOJIVAzczMzMwahUDByqFFts+EQCcxCKwcsIRAokW28/1QhEA=\",\"dtype\":\"float64\",\"order\":\"little\",\"shape\":[10]}],\"dimensions.2.values\":[{\"__ndarray__\":\"AAAAAE4JF0EAAAAA8DYXQQAAAAB98hZBAAAAAIQYF0EAAAAAXFUXQQAAAACEGBdBAAAAAIQYF0EAAAAAhBgXQQAAAACEGBdBAAAAAPTvFkE=\",\"dtype\":\"float64\",\"order\":\"little\",\"shape\":[10]}],\"dimensions.3.values\":[{\"__ndarray__\":\"3SQGgVX2o0AAAAAAAKyqQAAAAACA1qBAUI2XbpICpkAAAAAAAO6uQFCNl26SAqZAUI2XbpICpkBQjZdukgKmQFCNl26SAqZAAAAAAABmoEA=\",\"dtype\":\"float64\",\"order\":\"little\",\"shape\":[10]}],\"line.color\":[{\"__ndarray__\":\"bef7qfE/jED2KFyPwqaIQHNoke18XohAnMQgsHKMhUBiEFg5tHiFQJMYBFYOJIVAzczMzMwahUDByqFFts+EQCcxCKwcsIRAokW28/1QhEA=\",\"dtype\":\"float64\",\"order\":\"little\",\"shape\":[10]}]},\"selected\":{\"id\":\"3178\"},\"selection_policy\":{\"id\":\"3179\"}},\"id\":\"3155\",\"type\":\"ColumnDataSource\"},{\"attributes\":{\"factors\":[\"Union Square District\",\"Merced Heights\",\"Miraloma Park\",\"Pacific Heights\",\"Westwood Park\",\"Telegraph Hill\",\"Presidio Heights\",\"Cow Hollow\",\"Potrero Hill\",\"South Beach\"],\"tags\":[[[\"neighborhood\",\"neighborhood\",null]]]},\"id\":\"3092\",\"type\":\"FactorRange\"},{\"attributes\":{},\"id\":\"2981\",\"type\":\"ResetTool\"},{\"attributes\":{\"css_classes\":[\"markdown\"],\"margin\":[5,5,5,5],\"name\":\"Markdown04820\",\"text\":\"&lt;p&gt;Price By Neighborhood and Average Gross Rent and Sales Price&lt;/p&gt;\"},\"id\":\"2955\",\"type\":\"panel.models.markup.HTML\"},{\"attributes\":{\"line_color\":\"#1f77b3\",\"line_width\":2,\"x\":{\"field\":\"year\"},\"y\":{\"field\":\"sale_price_sqr_foot\"}},\"id\":\"3064\",\"type\":\"Line\"},{\"attributes\":{\"below\":[{\"id\":\"2969\"}],\"center\":[{\"id\":\"2972\"},{\"id\":\"2976\"}],\"left\":[{\"id\":\"2973\"}],\"margin\":null,\"min_border_bottom\":10,\"min_border_left\":10,\"min_border_right\":10,\"min_border_top\":10,\"plot_height\":300,\"plot_width\":700,\"renderers\":[{\"id\":\"2996\"}],\"sizing_mode\":\"fixed\",\"title\":{\"id\":\"2961\"},\"toolbar\":{\"id\":\"2983\"},\"x_range\":{\"id\":\"2957\"},\"x_scale\":{\"id\":\"2965\"},\"y_range\":{\"id\":\"2958\"},\"y_scale\":{\"id\":\"2967\"}},\"id\":\"2960\",\"subtype\":\"Figure\",\"type\":\"Plot\"},{\"attributes\":{},\"id\":\"3100\",\"type\":\"CategoricalScale\"},{\"attributes\":{\"line_alpha\":0.1,\"line_color\":\"#1f77b3\",\"line_width\":2,\"x\":{\"field\":\"year\"},\"y\":{\"field\":\"sale_price_sqr_foot\"}},\"id\":\"3065\",\"type\":\"Line\"},{\"attributes\":{},\"id\":\"2999\",\"type\":\"BasicTickFormatter\"},{\"attributes\":{},\"id\":\"3135\",\"type\":\"BasicTickFormatter\"},{\"attributes\":{\"axis\":{\"id\":\"3104\"},\"grid_line_color\":null,\"ticker\":null},\"id\":\"3106\",\"type\":\"Grid\"},{\"attributes\":{\"line_alpha\":0.2,\"line_color\":\"#1f77b3\",\"line_width\":2,\"x\":{\"field\":\"neighborhood\"},\"y\":{\"field\":\"sale_price_sqr_foot\"}},\"id\":\"3129\",\"type\":\"Line\"},{\"attributes\":{},\"id\":\"3178\",\"type\":\"Selection\"},{\"attributes\":{\"margin\":[0,0,0,0],\"tabs\":[{\"id\":\"2953\"},{\"id\":\"3089\"},{\"id\":\"3152\"},{\"id\":\"3159\"},{\"id\":\"3164\"}]},\"id\":\"2949\",\"type\":\"Tabs\"},{\"attributes\":{\"child\":{\"id\":\"3090\"},\"name\":\"Column04939\",\"title\":\"Most Expensive\"},\"id\":\"3152\",\"type\":\"Panel\"},{\"attributes\":{},\"id\":\"3048\",\"type\":\"SaveTool\"},{\"attributes\":{},\"id\":\"3105\",\"type\":\"CategoricalTicker\"},{\"attributes\":{},\"id\":\"3050\",\"type\":\"WheelZoomTool\"},{\"attributes\":{\"child\":{\"id\":\"3160\"},\"name\":\"Column04843\",\"title\":\"Map\"},\"id\":\"3164\",\"type\":\"Panel\"},{\"attributes\":{},\"id\":\"3049\",\"type\":\"PanTool\"},{\"attributes\":{},\"id\":\"3108\",\"type\":\"BasicTicker\"},{\"attributes\":{\"overlay\":{\"id\":\"3053\"}},\"id\":\"3051\",\"type\":\"BoxZoomTool\"},{\"attributes\":{},\"id\":\"3079\",\"type\":\"UnionRenderers\"},{\"attributes\":{\"axis_label\":\"sale_price_sqr_foot\",\"bounds\":\"auto\",\"formatter\":{\"id\":\"3135\"},\"major_label_orientation\":\"horizontal\",\"ticker\":{\"id\":\"3108\"}},\"id\":\"3107\",\"type\":\"LinearAxis\"},{\"attributes\":{\"css_classes\":[\"markdown\"],\"margin\":[5,5,5,5],\"name\":\"Markdown04844\",\"text\":\"&lt;p&gt;Parallel Coordinates and Categories&lt;/p&gt;\"},\"id\":\"3154\",\"type\":\"panel.models.markup.HTML\"},{\"attributes\":{\"children\":[{\"id\":\"3091\"},{\"id\":\"3095\"}],\"margin\":[0,0,0,0],\"name\":\"Column04939\"},\"id\":\"3090\",\"type\":\"Column\"},{\"attributes\":{\"axis\":{\"id\":\"3107\"},\"dimension\":1,\"grid_line_color\":null,\"ticker\":null},\"id\":\"3110\",\"type\":\"Grid\"},{\"attributes\":{\"active_drag\":\"auto\",\"active_inspect\":\"auto\",\"active_multi\":null,\"active_scroll\":\"auto\",\"active_tap\":\"auto\",\"tools\":[{\"id\":\"2959\"},{\"id\":\"2977\"},{\"id\":\"2978\"},{\"id\":\"2979\"},{\"id\":\"2980\"},{\"id\":\"2981\"}]},\"id\":\"2983\",\"type\":\"Toolbar\"},{\"attributes\":{\"data\":{\"sale_price_sqr_foot\":{\"__ndarray__\":\"Dkc7WO0yckCafszcbwhxQIGRs5ot42ZAJzog0LQ8eEAWMinKGEd+QI0V5FDt0IJAVCHcmLVPdUA=\",\"dtype\":\"float64\",\"order\":\"little\",\"shape\":[7]},\"year\":[2010,2011,2012,2013,2014,2015,2016]},\"selected\":{\"id\":\"2991\"},\"selection_policy\":{\"id\":\"3012\"}},\"id\":\"2990\",\"type\":\"ColumnDataSource\"},{\"attributes\":{\"children\":[{\"id\":\"3154\"},{\"id\":\"3156\"},{\"id\":\"3158\"}],\"margin\":[0,0,0,0],\"name\":\"Column04850\"},\"id\":\"3153\",\"type\":\"Column\"},{\"attributes\":{\"data\":{\"lat\":[{\"__ndarray__\":\"LV+X4T/lQkB1AwXeyeNCQBmto6oJ3kJAvqQxWkfdQkA0DB8RU+JCQFbxRuaR40JAlWBxOPPfQkD430p2bOBCQHEDPj+M5EJA6DBfXoDlQkA/xty1hNxCQDZxcr9D3UJAw9hCkIPiQkDxaOOIteBCQL6kMVpH3UJAjGfQ0D/lQkCMZ9DQP+VCQAyOklfn4EJANnFyv0PdQkB7n6pCA+FCQMuhRbbz4UJAy6FFtvPhQkDidf2C3dxCQHiXi/hO3EJAxvmbUIjgQkCVYHE4899CQAd7E0Ny4kJAlWBxOPPfQkBxAz4/jORCQIOLFTWY5kJAXW3F/rLjQkDoMF9egOVCQIP6ljld5kJAY7SOqibcQkD430p2bOBCQOAtkKD43UJAf59x4UDkQkCO6QlLPOBCQDZxcr9D3UJA6DBfXoDlQkD430p2bOBCQApoImx45kJACmgibHjmQkBjtI6qJtxCQD/G3LWE3EJAnDOitDfgQkCVYHE4899CQOgwX16A5UJAvodLjjvdQkCVYHE4899CQC9uowG84UJAGa2jqgneQkB2/YLdsN1CQHEDPj+M5EJA6DBfXoDlQkAZraOqCd5CQH+fceFA5EJAjGfQ0D/lQkDgLZCg+N1CQApoImx45kJAyFuufmzgQkCMZ9DQP+VCQNVz0vvG40JAvqQxWkfdQkC7RPXWwN5CQOgwX16A5UJAgy9MpgreQkDgLZCg+N1CQOgwX16A5UJA\",\"dtype\":\"float64\",\"order\":\"little\",\"shape\":[69]}],\"lon\":[{\"__ndarray__\":\"L26jAbyZXsA5mE2AYZxewPfuj/eqmV7A2dMOf02aXsC1iZP7HZxewELKT6p9nF7AfVcE/1ufXsAtlbcjnJxewHe+nxovnV7AIHu9++ObXsBDxTh/E5xewIofY+5anF7A6Z/gYkWbXsADIVnABJxewNnTDn9Nml7AL26jAbyZXsAvbqMBvJlewCSvzjEgnV7Aih9j7lqcXsAnLPGAsp1ewE+XxcTmm17AT5fFxOabXsCkU1c+y5dewDY3picsn17AzOmymNiaXsB9VwT/W59ewEjdzr7ynl7AWoEhq1ufXsB3vp8aL51ewIjvxKwXnV7APz+MEB6dXsAge73745tewBU1mIbhnV7Aj+TyH9KdXsAtlbcjnJxewGmR7Xw/nV7AHcnlP6SZXsC6ZvLNNptewIofY+5anF7AIHu9++ObXsAtlbcjnJxewKuy74rgmV7Aq7LviuCZXsCP5PIf0p1ewEPFOH8TnF7ABoGVQ4ucXsB9VwT/W59ewCB7vfvjm17AxzNo6J+eXsB9VwT/W59ewOzAOSNKnV7A9+6P96qZXsA3oRABh5hewHe+nxovnV7AIHu9++ObXsD37o/3qplewB3J5T+kmV7AL26jAbyZXsBpke18P51ewKuy74rgmV7ARdeFH5ycXsAvbqMBvJlewAJIbeLkml7A2dMOf02aXsAvUb01sJ1ewCB7vfvjm17A/0KPGD2dXsBpke18P51ewFRcVfZdmV7A\",\"dtype\":\"float64\",\"order\":\"little\",\"shape\":[69]}],\"marker.color\":[{\"__ndarray__\":\"SZIkSZICpkCrqqqqqq+nQM3MzMzMHKJAAAAAAAA2rUCrqqqqqhWlQEmSJEmSAqZASZIkSZICpkAAAAAAAJWhQAAAAAAAUKNASZIkSZICpkCrqqqqqhWlQAAAAAAAgJ9AAAAAAIC4pUBJkiRJkgKmQKuqqqqqr6dASZIkSZICpkAAAAAAAFCjQAAAAAAA1ptAAAAAAACnpkDNzMzMzFKkQEmSJEmSAqZASZIkSZICpkAAAAAAAHKjQAAAAAAAIKdASZIkSZICpkAAAAAAADCpQEmSJEmSAqZASZIkSZICpkBJkiRJkgKmQFVVVVVV9qNAVVVVVVX2o0BJkiRJkgKmQEmSJEmSAqZAAAAAAACsqkAAAAAAAK+kQAAAAACA1qBAVVVVVVXPpEBVVVVVVfajQM3MzMzMyqhASZIkSZICpkBJkiRJkgKmQJqZmZmZXadAzczMzMwEpkAAAAAAAASjQAAAAACAZ6dASZIkSZICpkBJkiRJkgKmQEmSJEmSAqZASZIkSZICpkBVVVVVVfajQEmSJEmSAqZAzczMzMwcokBJkiRJkgKmQEmSJEmSAqZASZIkSZICpkAAAAAAAJCrQAAAAAAAZqBASZIkSZICpkAAAAAAAKemQEmSJEmSAqZASZIkSZICpkBVVVVVVfajQEmSJEmSAqZAAAAAAACSrEAAAAAAAKejQFVVVVVV9qNAAAAAAACVoUAAAAAAAO6uQFVVVVVV9qNA\",\"dtype\":\"float64\",\"order\":\"little\",\"shape\":[69]}],\"marker.size\":[{\"__ndarray__\":\"AAAAAIQYF0EAAAAAqCIXQQAAAAAY+hZBAAAAAFxVF0EAAAAAchMXQQAAAACEGBdBAAAAAIQYF0EAAAAAGPoWQTMzMzNDBhdBAAAAAIQYF0EAAAAAchMXQQAAAADi6hZBAAAAAIQYF0EAAAAAhBgXQQAAAACoIhdBAAAAAIQYF0EzMzMzQwYXQQAAAACs2xZBAAAAAJYdF0HNzMzMWAwXQQAAAACEGBdBAAAAAIQYF0EAAAAATgkXQQAAAAC6JxdBAAAAAIQYF0EAAAAAVS8XQQAAAACEGBdBAAAAAIQYF0EAAAAAhBgXQQAAAABOCRdBAAAAAE4JF0EAAAAAhBgXQQAAAACEGBdBAAAAAPA2F0EAAAAATgkXQQAAAAB98hZBAAAAAGAOF0EAAAAATgkXQc3MzMzEKhdBAAAAAIQYF0EAAAAAhBgXQTMzMzOvJBdBAAAAAIQYF0EAAAAAPAQXQQAAAAC6JxdBAAAAAIQYF0EAAAAAhBgXQQAAAACEGBdBAAAAAIQYF0EAAAAATgkXQQAAAACEGBdBAAAAABj6FkEAAAAAhBgXQQAAAACEGBdBAAAAAIQYF0EAAAAA8DYXQQAAAAD07xZBAAAAAIQYF0EAAAAAlh0XQQAAAACEGBdBAAAAAIQYF0EAAAAATgkXQQAAAACEGBdBAAAAACZGF0EAAAAAswEXQQAAAABOCRdBAAAAABj6FkEAAAAAXFUXQQAAAABOCRdB\",\"dtype\":\"float64\",\"order\":\"little\",\"shape\":[69]}]},\"selected\":{\"id\":\"3182\"},\"selection_policy\":{\"id\":\"3183\"}},\"id\":\"3162\",\"type\":\"ColumnDataSource\"},{\"attributes\":{\"children\":[{\"id\":\"3024\"}],\"css_classes\":[\"panel-widget-box\"],\"margin\":[5,5,5,5],\"name\":\"WidgetBox04824\"},\"id\":\"3023\",\"type\":\"Column\"},{\"attributes\":{\"_render_count\":0,\"config\":null,\"data\":[{\"hovertemplate\":\"housing_units=%{marker.size}<br>Lat=%{lat}<br>Lon=%{lon}<br>gross_rent=%{marker.color}<extra></extra>\",\"legendgroup\":\"\",\"marker\":{\"coloraxis\":\"coloraxis\",\"sizemode\":\"area\",\"sizeref\":1699.088888888889},\"mode\":\"markers\",\"name\":\"\",\"showlegend\":false,\"subplot\":\"mapbox\",\"type\":\"scattermapbox\"}],\"data_sources\":[{\"id\":\"3162\"}],\"layout\":{\"coloraxis\":{\"colorbar\":{\"title\":{\"text\":\"gross_rent\"}},\"colorscale\":[[0.0,\"#000000\"],[0.0625,\"#001f4d\"],[0.125,\"#003786\"],[0.1875,\"#0e58a8\"],[0.25,\"#217eb8\"],[0.3125,\"#30a4ca\"],[0.375,\"#54c8df\"],[0.4375,\"#9be4ef\"],[0.5,\"#e1e9d1\"],[0.5625,\"#f3d573\"],[0.625,\"#e7b000\"],[0.6875,\"#da8200\"],[0.75,\"#c65400\"],[0.8125,\"#ac2301\"],[0.875,\"#820000\"],[0.9375,\"#4c0000\"],[1.0,\"#000000\"]]},\"legend\":{\"itemsizing\":\"constant\",\"tracegroupgap\":0},\"mapbox\":{\"center\":{\"lat\":37.76064079710145,\"lon\":-122.43826449275363},\"domain\":{\"x\":[0.0,1.0],\"y\":[0.0,1.0]},\"zoom\":10},\"template\":{\"data\":{\"bar\":[{\"error_x\":{\"color\":\"#2a3f5f\"},\"error_y\":{\"color\":\"#2a3f5f\"},\"marker\":{\"line\":{\"color\":\"#E5ECF6\",\"width\":0.5}},\"type\":\"bar\"}],\"barpolar\":[{\"marker\":{\"line\":{\"color\":\"#E5ECF6\",\"width\":0.5}},\"type\":\"barpolar\"}],\"carpet\":[{\"aaxis\":{\"endlinecolor\":\"#2a3f5f\",\"gridcolor\":\"white\",\"linecolor\":\"white\",\"minorgridcolor\":\"white\",\"startlinecolor\":\"#2a3f5f\"},\"baxis\":{\"endlinecolor\":\"#2a3f5f\",\"gridcolor\":\"white\",\"linecolor\":\"white\",\"minorgridcolor\":\"white\",\"startlinecolor\":\"#2a3f5f\"},\"type\":\"carpet\"}],\"choropleth\":[{\"colorbar\":{\"outlinewidth\":0,\"ticks\":\"\"},\"type\":\"choropleth\"}],\"contour\":[{\"colorbar\":{\"outlinewidth\":0,\"ticks\":\"\"},\"colorscale\":[[0.0,\"#0d0887\"],[0.1111111111111111,\"#46039f\"],[0.2222222222222222,\"#7201a8\"],[0.3333333333333333,\"#9c179e\"],[0.4444444444444444,\"#bd3786\"],[0.5555555555555556,\"#d8576b\"],[0.6666666666666666,\"#ed7953\"],[0.7777777777777778,\"#fb9f3a\"],[0.8888888888888888,\"#fdca26\"],[1.0,\"#f0f921\"]],\"type\":\"contour\"}],\"contourcarpet\":[{\"colorbar\":{\"outlinewidth\":0,\"ticks\":\"\"},\"type\":\"contourcarpet\"}],\"heatmap\":[{\"colorbar\":{\"outlinewidth\":0,\"ticks\":\"\"},\"colorscale\":[[0.0,\"#0d0887\"],[0.1111111111111111,\"#46039f\"],[0.2222222222222222,\"#7201a8\"],[0.3333333333333333,\"#9c179e\"],[0.4444444444444444,\"#bd3786\"],[0.5555555555555556,\"#d8576b\"],[0.6666666666666666,\"#ed7953\"],[0.7777777777777778,\"#fb9f3a\"],[0.8888888888888888,\"#fdca26\"],[1.0,\"#f0f921\"]],\"type\":\"heatmap\"}],\"heatmapgl\":[{\"colorbar\":{\"outlinewidth\":0,\"ticks\":\"\"},\"colorscale\":[[0.0,\"#0d0887\"],[0.1111111111111111,\"#46039f\"],[0.2222222222222222,\"#7201a8\"],[0.3333333333333333,\"#9c179e\"],[0.4444444444444444,\"#bd3786\"],[0.5555555555555556,\"#d8576b\"],[0.6666666666666666,\"#ed7953\"],[0.7777777777777778,\"#fb9f3a\"],[0.8888888888888888,\"#fdca26\"],[1.0,\"#f0f921\"]],\"type\":\"heatmapgl\"}],\"histogram\":[{\"marker\":{\"colorbar\":{\"outlinewidth\":0,\"ticks\":\"\"}},\"type\":\"histogram\"}],\"histogram2d\":[{\"colorbar\":{\"outlinewidth\":0,\"ticks\":\"\"},\"colorscale\":[[0.0,\"#0d0887\"],[0.1111111111111111,\"#46039f\"],[0.2222222222222222,\"#7201a8\"],[0.3333333333333333,\"#9c179e\"],[0.4444444444444444,\"#bd3786\"],[0.5555555555555556,\"#d8576b\"],[0.6666666666666666,\"#ed7953\"],[0.7777777777777778,\"#fb9f3a\"],[0.8888888888888888,\"#fdca26\"],[1.0,\"#f0f921\"]],\"type\":\"histogram2d\"}],\"histogram2dcontour\":[{\"colorbar\":{\"outlinewidth\":0,\"ticks\":\"\"},\"colorscale\":[[0.0,\"#0d0887\"],[0.1111111111111111,\"#46039f\"],[0.2222222222222222,\"#7201a8\"],[0.3333333333333333,\"#9c179e\"],[0.4444444444444444,\"#bd3786\"],[0.5555555555555556,\"#d8576b\"],[0.6666666666666666,\"#ed7953\"],[0.7777777777777778,\"#fb9f3a\"],[0.8888888888888888,\"#fdca26\"],[1.0,\"#f0f921\"]],\"type\":\"histogram2dcontour\"}],\"mesh3d\":[{\"colorbar\":{\"outlinewidth\":0,\"ticks\":\"\"},\"type\":\"mesh3d\"}],\"parcoords\":[{\"line\":{\"colorbar\":{\"outlinewidth\":0,\"ticks\":\"\"}},\"type\":\"parcoords\"}],\"pie\":[{\"automargin\":true,\"type\":\"pie\"}],\"scatter\":[{\"marker\":{\"colorbar\":{\"outlinewidth\":0,\"ticks\":\"\"}},\"type\":\"scatter\"}],\"scatter3d\":[{\"line\":{\"colorbar\":{\"outlinewidth\":0,\"ticks\":\"\"}},\"marker\":{\"colorbar\":{\"outlinewidth\":0,\"ticks\":\"\"}},\"type\":\"scatter3d\"}],\"scattercarpet\":[{\"marker\":{\"colorbar\":{\"outlinewidth\":0,\"ticks\":\"\"}},\"type\":\"scattercarpet\"}],\"scattergeo\":[{\"marker\":{\"colorbar\":{\"outlinewidth\":0,\"ticks\":\"\"}},\"type\":\"scattergeo\"}],\"scattergl\":[{\"marker\":{\"colorbar\":{\"outlinewidth\":0,\"ticks\":\"\"}},\"type\":\"scattergl\"}],\"scattermapbox\":[{\"marker\":{\"colorbar\":{\"outlinewidth\":0,\"ticks\":\"\"}},\"type\":\"scattermapbox\"}],\"scatterpolar\":[{\"marker\":{\"colorbar\":{\"outlinewidth\":0,\"ticks\":\"\"}},\"type\":\"scatterpolar\"}],\"scatterpolargl\":[{\"marker\":{\"colorbar\":{\"outlinewidth\":0,\"ticks\":\"\"}},\"type\":\"scatterpolargl\"}],\"scatterternary\":[{\"marker\":{\"colorbar\":{\"outlinewidth\":0,\"ticks\":\"\"}},\"type\":\"scatterternary\"}],\"surface\":[{\"colorbar\":{\"outlinewidth\":0,\"ticks\":\"\"},\"colorscale\":[[0.0,\"#0d0887\"],[0.1111111111111111,\"#46039f\"],[0.2222222222222222,\"#7201a8\"],[0.3333333333333333,\"#9c179e\"],[0.4444444444444444,\"#bd3786\"],[0.5555555555555556,\"#d8576b\"],[0.6666666666666666,\"#ed7953\"],[0.7777777777777778,\"#fb9f3a\"],[0.8888888888888888,\"#fdca26\"],[1.0,\"#f0f921\"]],\"type\":\"surface\"}],\"table\":[{\"cells\":{\"fill\":{\"color\":\"#EBF0F8\"},\"line\":{\"color\":\"white\"}},\"header\":{\"fill\":{\"color\":\"#C8D4E3\"},\"line\":{\"color\":\"white\"}},\"type\":\"table\"}]},\"layout\":{\"annotationdefaults\":{\"arrowcolor\":\"#2a3f5f\",\"arrowhead\":0,\"arrowwidth\":1},\"coloraxis\":{\"colorbar\":{\"outlinewidth\":0,\"ticks\":\"\"}},\"colorscale\":{\"diverging\":[[0,\"#8e0152\"],[0.1,\"#c51b7d\"],[0.2,\"#de77ae\"],[0.3,\"#f1b6da\"],[0.4,\"#fde0ef\"],[0.5,\"#f7f7f7\"],[0.6,\"#e6f5d0\"],[0.7,\"#b8e186\"],[0.8,\"#7fbc41\"],[0.9,\"#4d9221\"],[1,\"#276419\"]],\"sequential\":[[0.0,\"#0d0887\"],[0.1111111111111111,\"#46039f\"],[0.2222222222222222,\"#7201a8\"],[0.3333333333333333,\"#9c179e\"],[0.4444444444444444,\"#bd3786\"],[0.5555555555555556,\"#d8576b\"],[0.6666666666666666,\"#ed7953\"],[0.7777777777777778,\"#fb9f3a\"],[0.8888888888888888,\"#fdca26\"],[1.0,\"#f0f921\"]],\"sequentialminus\":[[0.0,\"#0d0887\"],[0.1111111111111111,\"#46039f\"],[0.2222222222222222,\"#7201a8\"],[0.3333333333333333,\"#9c179e\"],[0.4444444444444444,\"#bd3786\"],[0.5555555555555556,\"#d8576b\"],[0.6666666666666666,\"#ed7953\"],[0.7777777777777778,\"#fb9f3a\"],[0.8888888888888888,\"#fdca26\"],[1.0,\"#f0f921\"]]},\"colorway\":[\"#636efa\",\"#EF553B\",\"#00cc96\",\"#ab63fa\",\"#FFA15A\",\"#19d3f3\",\"#FF6692\",\"#B6E880\",\"#FF97FF\",\"#FECB52\"],\"font\":{\"color\":\"#2a3f5f\"},\"geo\":{\"bgcolor\":\"white\",\"lakecolor\":\"white\",\"landcolor\":\"#E5ECF6\",\"showlakes\":true,\"showland\":true,\"subunitcolor\":\"white\"},\"hoverlabel\":{\"align\":\"left\"},\"hovermode\":\"closest\",\"mapbox\":{\"style\":\"light\"},\"paper_bgcolor\":\"white\",\"plot_bgcolor\":\"#E5ECF6\",\"polar\":{\"angularaxis\":{\"gridcolor\":\"white\",\"linecolor\":\"white\",\"ticks\":\"\"},\"bgcolor\":\"#E5ECF6\",\"radialaxis\":{\"gridcolor\":\"white\",\"linecolor\":\"white\",\"ticks\":\"\"}},\"scene\":{\"xaxis\":{\"backgroundcolor\":\"#E5ECF6\",\"gridcolor\":\"white\",\"gridwidth\":2,\"linecolor\":\"white\",\"showbackground\":true,\"ticks\":\"\",\"zerolinecolor\":\"white\"},\"yaxis\":{\"backgroundcolor\":\"#E5ECF6\",\"gridcolor\":\"white\",\"gridwidth\":2,\"linecolor\":\"white\",\"showbackground\":true,\"ticks\":\"\",\"zerolinecolor\":\"white\"},\"zaxis\":{\"backgroundcolor\":\"#E5ECF6\",\"gridcolor\":\"white\",\"gridwidth\":2,\"linecolor\":\"white\",\"showbackground\":true,\"ticks\":\"\",\"zerolinecolor\":\"white\"}},\"shapedefaults\":{\"line\":{\"color\":\"#2a3f5f\"}},\"ternary\":{\"aaxis\":{\"gridcolor\":\"white\",\"linecolor\":\"white\",\"ticks\":\"\"},\"baxis\":{\"gridcolor\":\"white\",\"linecolor\":\"white\",\"ticks\":\"\"},\"bgcolor\":\"#E5ECF6\",\"caxis\":{\"gridcolor\":\"white\",\"linecolor\":\"white\",\"ticks\":\"\"}},\"title\":{\"x\":0.05},\"xaxis\":{\"automargin\":true,\"gridcolor\":\"white\",\"linecolor\":\"white\",\"ticks\":\"\",\"title\":{\"standoff\":15},\"zerolinecolor\":\"white\",\"zerolinewidth\":2},\"yaxis\":{\"automargin\":true,\"gridcolor\":\"white\",\"linecolor\":\"white\",\"ticks\":\"\",\"title\":{\"standoff\":15},\"zerolinecolor\":\"white\",\"zerolinewidth\":2}}},\"title\":{\"text\":\"San Franciscos Gross Rent And Average Sales Price Per Square Foot\"}},\"margin\":[5,5,5,5],\"name\":\"Plotly04841\",\"viewport_update_throttle\":200},\"id\":\"3163\",\"type\":\"panel.models.plotly.PlotlyPlot\"},{\"attributes\":{\"data_source\":{\"id\":\"3124\"},\"glyph\":{\"id\":\"3127\"},\"hover_glyph\":null,\"muted_glyph\":{\"id\":\"3129\"},\"nonselection_glyph\":{\"id\":\"3128\"},\"selection_glyph\":null,\"view\":{\"id\":\"3131\"}},\"id\":\"3130\",\"type\":\"GlyphRenderer\"},{\"attributes\":{},\"id\":\"3052\",\"type\":\"ResetTool\"},{\"attributes\":{\"bottom_units\":\"screen\",\"fill_alpha\":0.5,\"fill_color\":\"lightgrey\",\"left_units\":\"screen\",\"level\":\"overlay\",\"line_alpha\":1.0,\"line_color\":\"black\",\"line_dash\":[4,4],\"line_width\":2,\"right_units\":\"screen\",\"top_units\":\"screen\"},\"id\":\"2982\",\"type\":\"BoxAnnotation\"},{\"attributes\":{},\"id\":\"3169\",\"type\":\"UnionRenderers\"},{\"attributes\":{\"source\":{\"id\":\"2990\"}},\"id\":\"2997\",\"type\":\"CDSView\"},{\"attributes\":{},\"id\":\"2991\",\"type\":\"Selection\"},{\"attributes\":{\"data\":{\"neighborhood\":[\"Union Square District\",\"Merced Heights\",\"Miraloma Park\",\"Pacific Heights\",\"Westwood Park\",\"Telegraph Hill\",\"Presidio Heights\",\"Cow Hollow\",\"Potrero Hill\",\"South Beach\"],\"sale_price_sqr_foot\":{\"__ndarray__\":\"JRAUMfI/jEB9IrkvwqaIQFx/3pp8XohAFpsVUHKMhUBs0ERas3iFQL0KhXgNJIVAy835O80ahUANV25bts+EQJrMCuEbsIRAya3y7v5QhEA=\",\"dtype\":\"float64\",\"order\":\"little\",\"shape\":[10]}},\"selected\":{\"id\":\"3125\"},\"selection_policy\":{\"id\":\"3142\"}},\"id\":\"3124\",\"type\":\"ColumnDataSource\"},{\"attributes\":{\"end\":2016.0,\"reset_end\":2016.0,\"reset_start\":2010.0,\"start\":2010.0,\"tags\":[[[\"year\",\"year\",null]]]},\"id\":\"2957\",\"type\":\"Range1d\"},{\"attributes\":{\"callback\":null,\"renderers\":[{\"id\":\"3130\"}],\"tags\":[\"hv_created\"],\"tooltips\":[[\"neighborhood\",\"@{neighborhood}\"],[\"sale_price_sqr_foot\",\"@{sale_price_sqr_foot}\"]]},\"id\":\"3094\",\"type\":\"HoverTool\"},{\"attributes\":{\"source\":{\"id\":\"3124\"}},\"id\":\"3131\",\"type\":\"CDSView\"},{\"attributes\":{\"client_comm_id\":\"02f2155d77b94eef83b0530a410a7644\",\"comm_id\":\"b970a8569c4f41d1a4d95070827c0743\",\"plot_id\":\"2949\"},\"id\":\"3261\",\"type\":\"panel.models.comm_manager.CommManager\"},{\"attributes\":{\"line_alpha\":0.1,\"line_color\":\"#1f77b3\",\"line_width\":2,\"x\":{\"field\":\"year\"},\"y\":{\"field\":\"sale_price_sqr_foot\"}},\"id\":\"2994\",\"type\":\"Line\"},{\"attributes\":{\"line_color\":\"#1f77b3\",\"line_width\":2,\"x\":{\"field\":\"year\"},\"y\":{\"field\":\"sale_price_sqr_foot\"}},\"id\":\"2993\",\"type\":\"Line\"},{\"attributes\":{},\"id\":\"3001\",\"type\":\"BasicTickFormatter\"},{\"attributes\":{},\"id\":\"3111\",\"type\":\"SaveTool\"},{\"attributes\":{},\"id\":\"3142\",\"type\":\"UnionRenderers\"},{\"attributes\":{},\"id\":\"3112\",\"type\":\"PanTool\"}],\"root_ids\":[\"2949\",\"3261\"]},\"title\":\"Bokeh Application\",\"version\":\"2.1.1\"}};\n",
       "  var render_items = [{\"docid\":\"b0eab3a3-79b4-4916-88bf-350804558b9d\",\"root_ids\":[\"2949\"],\"roots\":{\"2949\":\"a30f55a6-ca56-4b23-a81e-b23e41dd5f8c\"}}];\n",
       "  root.Bokeh.embed.embed_items_notebook(docs_json, render_items);\n",
       "  }\n",
       "if (root.Bokeh !== undefined) {\n",
       "    embed_document(root);\n",
       "  } else {\n",
       "    var attempts = 0;\n",
       "    var timer = setInterval(function(root) {\n",
       "      if (root.Bokeh !== undefined) {\n",
       "        clearInterval(timer);\n",
       "        embed_document(root);\n",
       "      } else if (document.readyState == \"complete\") {\n",
       "        attempts++;\n",
       "        if (attempts > 100) {\n",
       "          clearInterval(timer);\n",
       "          console.log(\"Bokeh: ERROR: Unable to run BokehJS code because BokehJS library is missing\");\n",
       "        }\n",
       "      }\n",
       "    }, 10, root)\n",
       "  }\n",
       "})(window);</script>"
      ],
      "text/plain": [
       "Tabs\n",
       "    [0] Column\n",
       "        [0] Markdown(str)\n",
       "        [1] Matplotlib(Figure)\n",
       "    [1] Column\n",
       "        [0] Markdown(str)\n",
       "        [1] Row\n",
       "            [0] HoloViews(DynamicMap)\n",
       "            [1] Column\n",
       "                [0] WidgetBox\n",
       "                    [0] Select(margin=(20, 20, 20, 20), name='neighborhood', options=['Alamo Square', ...], value='Alamo Square', width=250)\n",
       "                [1] VSpacer()\n",
       "        [2] Plotly(Figure)\n",
       "        [3] HoloViews(Curve)\n",
       "    [2] Column\n",
       "        [0] Markdown(str)\n",
       "        [1] HoloViews(Curve)\n",
       "    [3] Column\n",
       "        [0] Markdown(str)\n",
       "        [1] Plotly(Figure)\n",
       "        [2] Plotly(Figure)\n",
       "    [4] Column\n",
       "        [0] Markdown(str)\n",
       "        [1] Plotly(Figure)"
      ]
     },
     "execution_count": 55,
     "metadata": {
      "application/vnd.holoviews_exec.v0+json": {
       "id": "2949"
      }
     },
     "output_type": "execute_result"
    }
   ],
   "source": [
    "sf_df.servable()"
   ]
  },
  {
   "cell_type": "code",
   "execution_count": null,
   "metadata": {},
   "outputs": [],
   "source": []
  }
 ],
 "metadata": {
  "file_extension": ".py",
  "kernelspec": {
   "display_name": "pyvizenv",
   "language": "python",
   "name": "pyvizenv"
  },
  "language_info": {
   "codemirror_mode": {
    "name": "ipython",
    "version": 3
   },
   "file_extension": ".py",
   "mimetype": "text/x-python",
   "name": "python",
   "nbconvert_exporter": "python",
   "pygments_lexer": "ipython3",
   "version": "3.7.7"
  },
  "mimetype": "text/x-python",
  "name": "python",
  "npconvert_exporter": "python",
  "pygments_lexer": "ipython3",
  "version": 3
 },
 "nbformat": 4,
 "nbformat_minor": 4
}
